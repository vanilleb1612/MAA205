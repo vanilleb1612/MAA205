{
 "cells": [
  {
   "cell_type": "markdown",
   "metadata": {},
   "source": [
    "<img src='./figures/logo-ecole-polytechnique-ve.jpg' style='position:absolute; top:0; right:0;' width='100px' height='' alt='' />\n",
    "\n",
    "<center>**Bachelor of Ecole Polytechnique**</center>\n",
    "<center>Computational Mathematics, year 2, semester 1</center>\n",
    "<center>Lecturer: Lucas Gerin <a href=\"mailto:lucas.gerin@polytechnique.edu\">(send mail)</a></center>\n",
    "\n",
    "# Symbolic computing 1: Proofs with SymPy\n"
   ]
  },
  {
   "cell_type": "markdown",
   "metadata": {},
   "source": [
    "## Table of contents\n",
    "\n",
    "- [Introduction to SymPy](#introduction)\n",
    "- [Let SymPy do the proof](#LetSymPy)\n",
    " * [Archimedes vs SymPy](#Archimedes)\n",
    " * [Matrices with SymPy](#sqrt)\n",
    "- [Solving equations](#Solving)\n",
    " * [The easy case](#Easy)\n",
    " * [Bonus: When SymPy needs help](#Help)\n"
   ]
  },
  {
   "cell_type": "code",
   "execution_count": 1,
   "metadata": {},
   "outputs": [
    {
     "ename": "IOError",
     "evalue": "[Errno 2] No such file or directory: './style/custom2.css'",
     "output_type": "error",
     "traceback": [
      "\u001b[0;31m---------------------------------------------------------------------------\u001b[0m",
      "\u001b[0;31mIOError\u001b[0m                                   Traceback (most recent call last)",
      "\u001b[0;32m<ipython-input-1-40354ea3d199>\u001b[0m in \u001b[0;36m<module>\u001b[0;34m()\u001b[0m\n\u001b[1;32m      4\u001b[0m     \u001b[0mstyles\u001b[0m \u001b[0;34m=\u001b[0m \u001b[0mopen\u001b[0m\u001b[0;34m(\u001b[0m\u001b[0;34m\"./style/custom2.css\"\u001b[0m\u001b[0;34m)\u001b[0m\u001b[0;34m.\u001b[0m\u001b[0mread\u001b[0m\u001b[0;34m(\u001b[0m\u001b[0;34m)\u001b[0m\u001b[0;34m\u001b[0m\u001b[0m\n\u001b[1;32m      5\u001b[0m     \u001b[0;32mreturn\u001b[0m \u001b[0mHTML\u001b[0m\u001b[0;34m(\u001b[0m\u001b[0mstyles\u001b[0m\u001b[0;34m)\u001b[0m\u001b[0;34m\u001b[0m\u001b[0m\n\u001b[0;32m----> 6\u001b[0;31m \u001b[0mcss_styling\u001b[0m\u001b[0;34m(\u001b[0m\u001b[0;34m)\u001b[0m\u001b[0;34m\u001b[0m\u001b[0m\n\u001b[0m",
      "\u001b[0;32m<ipython-input-1-40354ea3d199>\u001b[0m in \u001b[0;36mcss_styling\u001b[0;34m()\u001b[0m\n\u001b[1;32m      2\u001b[0m \u001b[0;32mfrom\u001b[0m \u001b[0mIPython\u001b[0m\u001b[0;34m.\u001b[0m\u001b[0mcore\u001b[0m\u001b[0;34m.\u001b[0m\u001b[0mdisplay\u001b[0m \u001b[0;32mimport\u001b[0m \u001b[0mHTML\u001b[0m\u001b[0;34m\u001b[0m\u001b[0m\n\u001b[1;32m      3\u001b[0m \u001b[0;32mdef\u001b[0m \u001b[0mcss_styling\u001b[0m\u001b[0;34m(\u001b[0m\u001b[0;34m)\u001b[0m\u001b[0;34m:\u001b[0m\u001b[0;34m\u001b[0m\u001b[0m\n\u001b[0;32m----> 4\u001b[0;31m     \u001b[0mstyles\u001b[0m \u001b[0;34m=\u001b[0m \u001b[0mopen\u001b[0m\u001b[0;34m(\u001b[0m\u001b[0;34m\"./style/custom2.css\"\u001b[0m\u001b[0;34m)\u001b[0m\u001b[0;34m.\u001b[0m\u001b[0mread\u001b[0m\u001b[0;34m(\u001b[0m\u001b[0;34m)\u001b[0m\u001b[0;34m\u001b[0m\u001b[0m\n\u001b[0m\u001b[1;32m      5\u001b[0m     \u001b[0;32mreturn\u001b[0m \u001b[0mHTML\u001b[0m\u001b[0;34m(\u001b[0m\u001b[0mstyles\u001b[0m\u001b[0;34m)\u001b[0m\u001b[0;34m\u001b[0m\u001b[0m\n\u001b[1;32m      6\u001b[0m \u001b[0mcss_styling\u001b[0m\u001b[0;34m(\u001b[0m\u001b[0;34m)\u001b[0m\u001b[0;34m\u001b[0m\u001b[0m\n",
      "\u001b[0;31mIOError\u001b[0m: [Errno 2] No such file or directory: './style/custom2.css'"
     ]
    }
   ],
   "source": [
    "# execute this part to modify the css style\n",
    "from IPython.core.display import HTML\n",
    "def css_styling():\n",
    "    styles = open(\"./style/custom2.css\").read()\n",
    "    return HTML(styles)\n",
    "css_styling()\n"
   ]
  },
  {
   "cell_type": "code",
   "execution_count": null,
   "metadata": {},
   "outputs": [],
   "source": [
    "## loading python libraries\n",
    "\n",
    "# necessary to display plots inline:\n",
    "%matplotlib inline   \n",
    "\n",
    "# load the libraries\n",
    "import matplotlib.pyplot as plt # 2D plotting library\n",
    "import numpy as np              # package for scientific computing  \n",
    "from pylab import *\n",
    "\n",
    "from math import *              # package for mathematics (pi, arctan, sqrt, factorial ...)\n",
    "import sympy as sympy             # package for symbolic computation\n",
    "from sympy import *\n"
   ]
  },
  {
   "cell_type": "markdown",
   "metadata": {
    "collapsed": true
   },
   "source": [
    "\n",
    "<a id=\"introduction\"></a>\n",
    "## Introduction to SymPy"
   ]
  },
  {
   "cell_type": "markdown",
   "metadata": {},
   "source": [
    "Using python library `SymPy` we can perform <i>exact</i> computations. For instance, run and compare the following scripts:"
   ]
  },
  {
   "cell_type": "code",
   "execution_count": null,
   "metadata": {},
   "outputs": [],
   "source": [
    "print('With Numpy: ')\n",
    "print('root of two is '+str(np.sqrt(2))+'')\n",
    "print('the square of (root of two) is '+str(np.sqrt(2)**2)+'')\n",
    "print('---------')\n",
    "print('With SymPy: ')\n",
    "print('root of two is '+str(sympy.sqrt(2))+'')\n",
    "print('the square of (root of two) is '+str(sympy.sqrt(2)**2)+'')\n"
   ]
  },
  {
   "cell_type": "markdown",
   "metadata": {},
   "source": [
    "One can expand or simplify expressions:"
   ]
  },
  {
   "cell_type": "code",
   "execution_count": null,
   "metadata": {},
   "outputs": [],
   "source": [
    "print('Simplification of algebraic expressions:')\n",
    "print('the square root of 40 is '+str(sympy.sqrt(40))+'')\n",
    "print('(root(3)+root(2))**20 is equal to '+str(expand((sympy.sqrt(3)+sympy.sqrt(2))**20)))\n",
    "#\n",
    "print('----------------')\n",
    "print('Simplification of symbolic expressions:')\n",
    "var('x') # We declare a 'symbolic' variable\n",
    "Expression=(x**2 - 2*x + 1)/(x-1)\n",
    "print(str(Expression) + ' simplifies into '+str(simplify(Expression)))\n"
   ]
  },
  {
   "cell_type": "markdown",
   "metadata": {},
   "source": [
    "With `Sympy` one can also obtain Taylor expansions of functions with `series`:"
   ]
  },
  {
   "cell_type": "code",
   "execution_count": null,
   "metadata": {},
   "outputs": [],
   "source": [
    "# Real variable\n",
    "var('x')\n",
    "Expression=cos(x)\n",
    "print('Expansion of cos(x) at x=0: '+str(Expression.series(x,0)))\n",
    "\n",
    "# integer variable\n",
    "var('n',integer=True)\n",
    "Expression=cos(1/n)\n",
    "print('Expansion of cos(1/n) when n -> +oo: '+str(Expression.series(n,oo)))   # oo means infinity (!)\n"
   ]
  },
  {
   "cell_type": "markdown",
   "metadata": {},
   "source": [
    "`SymPy` can also compute with \"big O's\". (By default $\\mathcal{O}(x)$ is considered for $x\\to 0$.)"
   ]
  },
  {
   "cell_type": "code",
   "execution_count": null,
   "metadata": {},
   "outputs": [],
   "source": [
    "var('x')\n",
    "simplify((x+O(x**3))*(x+x**2+O(x**3)))\n"
   ]
  },
  {
   "cell_type": "markdown",
   "metadata": {},
   "source": [
    "<div markdown=1 class=\"Rmk\"> A nice feature of `Sympy` is that you can export formulas in $\\texttt{LateX}$. For instance:"
   ]
  },
  {
   "cell_type": "code",
   "execution_count": null,
   "metadata": {},
   "outputs": [],
   "source": [
    "var('x y')\n",
    "formula=simplify((cos(x+y)-sin(x+y))**2)\n",
    "print(formula)\n",
    "print(latex(formula))\n"
   ]
  },
  {
   "cell_type": "markdown",
   "metadata": {},
   "source": [
    "**Warning:** Fractions such as $1/4$ must be introduced with `Rational(1,4)` to keep `Sympy` from evaluating the expression. For example:"
   ]
  },
  {
   "cell_type": "code",
   "execution_count": null,
   "metadata": {},
   "outputs": [],
   "source": [
    "print('(1/4)^3 = '+str((1/4)**3))\n",
    "print('(1/4)^3 = '+str(Rational(1,4)**3))\n"
   ]
  },
  {
   "cell_type": "markdown",
   "metadata": {},
   "source": [
    "<a id=\"LetSymPy\"></a>\n",
    "## Let SymPy do the proofs"
   ]
  },
  {
   "cell_type": "markdown",
   "metadata": {},
   "source": [
    "### Exercise 1.  A warm-up"
   ]
  },
  {
   "cell_type": "markdown",
   "metadata": {},
   "source": [
    "<div markdown=1 class=\"DoIt\"> <br>\n",
    "Set $\\phi=\\frac{1+\\sqrt{5}}{2}$. Use `SymPy` to simplify $F=\\frac{\\phi^4-\\phi}{1+\\phi^7}$."
   ]
  },
  {
   "cell_type": "code",
   "execution_count": null,
   "metadata": {},
   "outputs": [],
   "source": [
    "phi=(1+sqrt(5))/2\n",
    "formula=(phi**4-phi)/(phi**7+1)\n",
    "print(\"F = \"+str(formula))\n",
    "print(\"simplified F = \"+str(simplify(formula)))\n"
   ]
  },
  {
   "cell_type": "markdown",
   "metadata": {},
   "source": [
    "### Exercise 2.  A simple (?) recurrence\n",
    "\n",
    "We will see how to use SymPy to prove a mathematical statement. Our aim is to make as rigorous proofs as possible, as long as we trust SymPy."
   ]
  },
  {
   "cell_type": "markdown",
   "metadata": {},
   "source": [
    "<div markdown=1 class=\"DoIt\"> <br>\n",
    "Let $a,b$ be two real numbers, we define the sequence $(u_n)_{n\\geq 0}$ as follows: $u_0=a,u_1=b$ and for $n\\geq 2$\n",
    "$$\n",
    "u_{n}=\\frac{1+u_{n-1}}{u_{n-2}}.\n",
    "$$\n",
    "\n",
    "1. Write a short program which returns the $15$ first values of $u_n$ in terms of symbolic variables $a,b$.</i>\n",
    "The output should be something like:\n",
    "```\n",
    "u_0 = a\n",
    "u_1 = b\n",
    "u_2 = (b + 1)/a\n",
    "...\n",
    "```\n",
    "2. Use `SymPy` to make and prove a conjecture for the asymptotic behaviour of the sequence $(u_n)$, for every reals $a,b$."
   ]
  },
  {
   "cell_type": "code",
   "execution_count": null,
   "metadata": {},
   "outputs": [],
   "source": [
    "def InductionFormula(x,y):\n",
    "    return (1+x)/y\n",
    "\n",
    "var('a b')\n",
    "Sequence=[a,b]\n",
    "\n",
    "print('u_0 = a')\n",
    "print('u_1 = b')\n",
    "for i in range(2,15):\n",
    "    Sequence.append(simplify(InductionFormula(Sequence[-1],Sequence[-2])))\n",
    "    print('u_'+str(i)+' = '+str(Sequence[-1]))\n"
   ]
  },
  {
   "cell_type": "markdown",
   "metadata": {},
   "source": [
    "<div markdown=1 class=\"Answers\"> \n",
    "1. See the cell above.\n",
    "2. If $a,b\\neq 0$, the sequence is well defined and we observe that $u_{5}=u_0$ and $u_6=u_1$.<br>\n",
    "Since the sequence is defined by a recurrence of order two (<i>i.e.</i> $u_{n}$ is a function of $u_{n-1},u_{n-2}$\n",
    " this implies that the sequence is periodic: $u_{n+5}=u_n$ for every $n$.<br>\n",
    "So if we trust Sympy the proof is done."
   ]
  },
  {
   "cell_type": "markdown",
   "metadata": {},
   "source": [
    "<a id=\"Archimedes\"></a>\n",
    "### Exercise 3. What if Archimedes had known `Sympy`?\n",
    "\n",
    "For $n\\geq 1$, let $\\mathcal{P}_n$ be a regular $3\\times 2^n$-gon with radius $1$. Here is $\\mathcal{P}_1$:\n",
    "\n",
    "<img src=\"./figures/Archimede.jpg\" alt=\"Roots\" style=\"width: 350px;\"/>\n",
    "\n",
    "Archimedes (IIIrd century BC) used the fact that $\\mathcal{P}_n$ gets closer and closer to the unit circle to obtain good approximations of $\\pi$.<br>\n",
    "We will use SymPy to deduce nice formulas for approximations of $\\pi$."
   ]
  },
  {
   "cell_type": "markdown",
   "metadata": {},
   "source": [
    "<div markdown=1 class=\"DoIt\">\n",
    "Let $L_n$ be the length of any side of $\\mathcal{P}_n$. Compute $L_1$ and use the following picture to write $L_{n+1}$ as a function of $L_n$:\n",
    "\n",
    "* $O$ is the center of the circle, $OC=1$.\n",
    "* $(OB)$ is the bisector of $\\widehat{DOC}$.\n",
    "* $\\widehat{OAC}$ is a right angle.\n",
    "\n",
    "<img src=\"./figures/SchemaArchimede.jpg\" alt=\"Roots\" style=\"width: 350px;\"/>"
   ]
  },
  {
   "cell_type": "markdown",
   "metadata": {},
   "source": [
    "<div markdown=1 class=\"Answers\"> As $OB$ is the bisector we have that $CB=BD$, which both are sides of $\\mathcal{P}_{n+1}$.<br>\n",
    "Besides, $OAC$ is rectangle at $A$. By Pythagora's theorem\n",
    "$$\n",
    "1^2=OA^2+AC^2=OA^2+(L_n/2)^2.\n",
    "$$\n",
    "$BAC$ is also rectangle at $A$, therefore\n",
    "\\begin{align*}\n",
    "L_{n+1}^2=BC^2&=AB^2+BC^2\\\\\n",
    "&=(1-OA)^2+(L_n/2)^2\\\\\n",
    "&=\\bigg(1-\\sqrt{1-(L_n/2)^2}\\bigg)^2+(L_n/2)^2\\\\\n",
    "&=1+1-(L_n/2)^2-2\\sqrt{1-(L_n/2)^2}+(L_n/2)^2\\\\\n",
    "&=2-2\\sqrt{1-(L_n/2)^2}.\n",
    "\\end{align*}\n",
    "Finally we obtain\n",
    "\\begin{align*}\n",
    "L_{n+1}=\\sqrt{2-2\\sqrt{1-(L_n/2)^2}}.\n",
    "\\end{align*}"
   ]
  },
  {
   "cell_type": "markdown",
   "metadata": {},
   "source": [
    "<div markdown=1 class=\"DoIt\">\n",
    "1. Write a script which computes exact expressions for the first values $L_1,L_2,\\dots, L_n$. (First try for small $n$'s.)\n",
    "\n",
    "2. Find a sequence $a_n$ such that $a_nL_n$ converges to $\\pi$ (we don't ask for a proof). Deduce some good algebraic approximations of $\\pi$. Export your results in $\\texttt{Latex}$ in order to get nice formulas.\n",
    "\n",
    "<i>(In order to check your formulas, you may compute numerical evaluations. With `SymPy`, a numerical evaluation is obtained with `N(expression)`.)</i>"
   ]
  },
  {
   "cell_type": "code",
   "execution_count": null,
   "metadata": {},
   "outputs": [],
   "source": [
    "SuccessiveApproximations=[1]\n",
    "p=12\n",
    "for n in range(1,p):\n",
    "    OldValue=SuccessiveApproximations[-1]\n",
    "    NewValue=expand(sqrt(2-2*sqrt(1-(OldValue**2)*Rational(1,4))))\n",
    "    SuccessiveApproximations.append(NewValue)\n",
    "    print(latex(simplify(3*(2**n)*NewValue)))\n",
    "    print(N(NewValue*3*2**(n)))\n"
   ]
  },
  {
   "cell_type": "markdown",
   "metadata": {},
   "source": [
    "<div markdown=1 class=\"Answers\"> \n",
    "When $n$ goes large, $\\mathcal{P}_n$ gets closer and closer to the unit circle. As the perimeter of $\\mathcal{P}_n$ is $3\\times 2^n L_n$, we expect that\n",
    "$$\n",
    "3\\times 2^n L_n \\to 2\\pi,\n",
    "$$\n",
    "therefore we choose $a_n=3\\times 2^{n-1}$. \n",
    "For $n=8$ we obtain:\n",
    "<font size=\"-1\">\n",
    "$$\n",
    "\\pi \\approx 384 \\sqrt{- \\sqrt{\\sqrt{\\sqrt{\\sqrt{\\sqrt{\\sqrt{\\sqrt{3} + 2} + 2} + 2} + 2} + 2} + 2} + 2}\n",
    "= 3.141583892...\n",
    "$$\n",
    "</font>"
   ]
  },
  {
   "cell_type": "markdown",
   "metadata": {},
   "source": [
    "<a id=\"sqrt\"></a>\n",
    "### Exercise 4. Matrices with SymPy\n",
    "\n",
    "In Lab 2 we proved that if $a_n,b_n$ are integers defined by\n",
    "$$\n",
    "a_n+b_n\\sqrt{2}=(1+\\sqrt{2})^n,\n",
    "$$\n",
    "then\n",
    "$$\n",
    "\\begin{pmatrix}\n",
    "a_{n}\\\\\n",
    "b_{n}\n",
    "\\end{pmatrix}\n",
    "=\n",
    "\\begin{pmatrix}\n",
    "1 & 2\\\\\n",
    "1 & 1\n",
    "\\end{pmatrix}^{n-1}\n",
    "\\times\n",
    "\\begin{pmatrix}\n",
    "1\\\\\n",
    "1\n",
    "\\end{pmatrix}\n",
    "$$"
   ]
  },
  {
   "cell_type": "markdown",
   "metadata": {},
   "source": [
    "<div markdown=1 class=\"DoIt\"> \n",
    "1. Use `SymPy` to find an explicit formula for $a_n$.<br>\n",
    "<i>(In `SymPy` matrices are defined by `Matrix([[a,b],[c,d]])`.)</i>\n",
    "2. **(Theory)** Use the formula obtained at Question 1 to find real numbers $c,R$ such that\n",
    "$$\n",
    "a_n \\stackrel{n\\to +\\infty}{\\sim } cR^n.\n",
    "$$"
   ]
  },
  {
   "cell_type": "code",
   "execution_count": null,
   "metadata": {},
   "outputs": [],
   "source": [
    "#Question 1\n",
    "A=Matrix([[1,2],[1,1]])\n",
    "var('n', integer=True)\n",
    "Power=A**(n-1)\n",
    "#print(Power)\n",
    "\n",
    "an=latex(simplify(Power[0,0]+Power[0,1]))\n",
    "bn=latex(simplify(Power[1,0]+Power[1,1]))\n",
    "print('a_n ='+str(an))\n",
    "print('b_n ='+str(bn))\n"
   ]
  },
  {
   "cell_type": "markdown",
   "metadata": {},
   "source": [
    "<div markdown=1 class=\"Answers\">\n",
    "1. We export the result in LateX:\n",
    "\\begin{align*}\n",
    "a_n&=\\frac{1}{2} \\left(1 + \\sqrt{2}\\right)^{n} + \\frac{1}{2} \\left(- \\sqrt{2} + 1\\right)^{n}\\\\\n",
    "b_n&=\\frac{\\sqrt{2}}{4} \\left(\\left(1 + \\sqrt{2}\\right)^{n} - \\left(- \\sqrt{2} + 1\\right)^{n}\\right)\n",
    "\\end{align*}\n",
    "2. As $\\left|-\\sqrt{2}+1\\right|<1$, we have that $(-\\sqrt{2}+1)^n \\to 0$. It follows that\n",
    "\\begin{align*}\n",
    "a_n&=\\frac{1}{2} \\left(1 + \\sqrt{2}\\right)^{n}  +\\mathrm{o}(1)\\\\\n",
    "&\\sim \\frac{1}{2} \\left(1 + \\sqrt{2}\\right)^{n}.\n",
    "\\end{align*}"
   ]
  },
  {
   "cell_type": "markdown",
   "metadata": {},
   "source": [
    "<a id=\"Solving\"></a>\n",
    "# Solving equations with SymPy"
   ]
  },
  {
   "cell_type": "markdown",
   "metadata": {},
   "source": [
    "One can solve equations with Sympy. The following script shows how to solve $x^2=x+1$:"
   ]
  },
  {
   "cell_type": "code",
   "execution_count": null,
   "metadata": {},
   "outputs": [],
   "source": [
    "var('x') # we declare the variable\n",
    "SetOfSolutions=solve(x**2-x-1,x)\n",
    "print(SetOfSolutions)\n"
   ]
  },
  {
   "cell_type": "markdown",
   "metadata": {},
   "source": [
    "<a id=\"Easy\"></a>\n",
    "### Exercise 5.  Solving equations with Sympy: the easy case\n",
    "We will use `solve` to handle a more complicated equation.\n",
    "\n",
    "Let $n\\geq 1$ be an integer, we are interested in solving the equation\n",
    "\\begin{equation}\n",
    "x^3 +nx =1.\\tag{$\\star$}\n",
    "\\end{equation}\n",
    "\n",
    "With the above script we plot $x \\mapsto x^3$, and $x \\mapsto 1-nx$ for $0\\leq x\\leq 1$ and for several (large) values of $n$. This suggests that Equation $(\\star)$ has a unique real solution in the interval $[0,1]$, that we will denote by $S_n$."
   ]
  },
  {
   "cell_type": "code",
   "execution_count": null,
   "metadata": {},
   "outputs": [],
   "source": [
    "RangeOf_x=np.arange(0,1,0.01)\n",
    "\n",
    "plt.plot(RangeOf_x,RangeOf_x**3,label='$x\\mapsto x$**3')\n",
    "\n",
    "for n in [10, 20, 30]:\n",
    "    f=[1-n*x for x in RangeOf_x]\n",
    "    plt.plot(RangeOf_x,f,label='n ='+str(n)+' ')\n",
    "\n",
    "plt.xlim(0, 1),plt.ylim(-1, 1)\n",
    "plt.xlabel('Value of x')\n",
    "plt.legend()\n",
    "plt.title('Location of S_n')\n",
    "plt.show()\n"
   ]
  },
  {
   "cell_type": "markdown",
   "metadata": {},
   "source": [
    "<div markdown=1 class=\"DoIt\"> **(Theory)**\n",
    "\n",
    "1. Prove that indeed for every $n\\geq 1$, Equation $(\\star)$ has a unique real solution in the interval $[0,1]$. \n",
    "2. According to the plot, what can we conjecture for the limit $S_n$?"
   ]
  },
  {
   "cell_type": "markdown",
   "metadata": {},
   "source": [
    "<div markdown=1 class=\"Answers\"> \n",
    "1. The map $x\\mapsto f(x)=x^3+nx -1$ is continuous and increasing on $[0,1]$, since\n",
    "$$\n",
    "f'(x)=3x^2 +n > n>0.\n",
    "$$\n",
    "Besides,\n",
    "$$\n",
    "f(0)=0^3-n\\times 0-1=-1,\\qquad f(1)=1^3+n\\times 1-1=n>0.\n",
    "$$\n",
    "By the intermediate value theorem, this implies that there is a unique $S_n \\in(0,1)$ such that\n",
    "$f(S_n)=0$, <i>i.e.</i>\n",
    "$$\n",
    "(S_n)^3 +nS_n =1.\n",
    "$$\n",
    "2. On the figure above we observe that when $n\\to +\\infty$, the solution of Equation $(\\star)$ seems to get closer and closer to zero.<br>\n",
    "We therefore conjecture \n",
    "$$\n",
    "\\lim_{n\\to+\\infty} S_n=0.\n",
    "$$"
   ]
  },
  {
   "cell_type": "markdown",
   "metadata": {},
   "source": [
    "<div markdown=1 class=\"DoIt\"> <br>\n",
    "\n",
    "1. Write a script which computes the exact expression of $S_n$.\n",
    "2. Use `SymPy` to get the asymptotic expansion of  $S_n$ (up to $\\mathcal{O}(1/n^5)$). Check your previous conjecture."
   ]
  },
  {
   "cell_type": "code",
   "execution_count": null,
   "metadata": {},
   "outputs": [],
   "source": [
    "var('x')\n",
    "var('n',integer=True)\n",
    "\n",
    "# Question 1.\n",
    "Solutions=solve(x**3+n*x-1,x)\n",
    "Sn=simplify(Solutions[0])  # The two other solutions are complex numbers\n",
    "print(\"Sn = \"+str(latex(Sn)))\n",
    "\n",
    "# Question 2.\n",
    "Taylor=series(Sn,n,oo,5)\n",
    "print(\"Taylor expansion when epsilon -> 0 : \"+str(Taylor))\n"
   ]
  },
  {
   "cell_type": "markdown",
   "metadata": {},
   "source": [
    "<div markdown=1 class=\"Answers\"> \n",
    "1. According to the above script,\n",
    "$$\n",
    "\\frac{- 2 \\sqrt[3]{18} n + \\sqrt[3]{12} \\left(\\sqrt{3} \\sqrt{4 n^{3} + 27} + 9\\right)^{\\frac{2}{3}}}{6 \\sqrt[3]{\\sqrt{3} \\sqrt{4 n^{3} + 27} + 9}}.\n",
    "$$\n",
    "2. SymPy gives\n",
    "$$\n",
    "S_n=\\frac{1}{n}-\\frac{1}{n^4}+\\mathcal{O}(1/n^5).\n",
    "$$\n",
    "Indeed, this goes to zero as expected."
   ]
  },
  {
   "cell_type": "markdown",
   "metadata": {},
   "source": [
    "<a id=\"Help\"></a>\n",
    "### **(Bonus)** Exercise 6. Solving equations: when SymPy needs help\n",
    " \n",
    "We consider the following equation:\n",
    "\\begin{equation}\n",
    "X^5-3\\varepsilon X^4-1=0, \\tag{$\\star$}\n",
    "\\end{equation}\n",
    "where $\\varepsilon$ is a positive parameter. A quick analysis shows that if $\\varepsilon>0$ is small enough then ($\\star$) has a unique real solution, that we denote by $S_\\varepsilon$."
   ]
  },
  {
   "cell_type": "markdown",
   "metadata": {},
   "source": [
    "The degree of this equation is too high to be solved by `SymPy`:"
   ]
  },
  {
   "cell_type": "code",
   "execution_count": null,
   "metadata": {},
   "outputs": [],
   "source": [
    "var('x')\n",
    "var('e')\n",
    "solve(x**5-3*e*x**4-1,x)\n"
   ]
  },
  {
   "cell_type": "markdown",
   "metadata": {},
   "source": [
    "Indeed, `SymPy` needs help to handle this equation."
   ]
  },
  {
   "cell_type": "markdown",
   "metadata": {},
   "source": [
    "In the above script we plotted the function $f(x)=x^5-3\\varepsilon x^4-1$ for some small $\\varepsilon$. \n",
    "This suggests that $\\lim_{\\varepsilon \\to 0}S_\\varepsilon=1$."
   ]
  },
  {
   "cell_type": "code",
   "execution_count": null,
   "metadata": {},
   "outputs": [],
   "source": [
    "RangeOf_x=np.arange(0,2,0.01)\n",
    "\n",
    "def ToBeZero(x,eps):\n",
    "    return x**5+x**4*(-3*eps) -1\n",
    "\n",
    "eps=0.05\n",
    "plt.plot(RangeOf_x,[ToBeZero(x,eps) for x in RangeOf_x],label='x**5+x**4*(-3*eps)-1')\n",
    "\n",
    "plt.xlim(0, 2)\n",
    "plt.ylim(-1, 1)\n",
    "plt.plot([-2,2],[0,0])\n",
    "plt.plot([1,1],[-2,2])\n",
    "plt.xlabel('Value of x')\n",
    "plt.title('Location of S_eps, with eps ='+str(eps))\n",
    "plt.legend()\n",
    "plt.show()\n"
   ]
  },
  {
   "cell_type": "markdown",
   "metadata": {},
   "source": [
    "<div markdown=1 class=\"DoIt\"><br>\n",
    "We admit that $S_\\varepsilon$ can be written as \n",
    "\\begin{equation}\n",
    "S_\\varepsilon = 1+ r\\varepsilon + s\\varepsilon^2+ \\mathcal{O}(\\varepsilon^3),\n",
    "\\end{equation}\n",
    "for some real $r,s$. Use `SymPy` to find $r,s$.<br>\n",
    "<i>(You can use any `SymPy` function already seen in this notebook.)<i>"
   ]
  },
  {
   "cell_type": "code",
   "execution_count": null,
   "metadata": {},
   "outputs": [],
   "source": [
    "var('r')\n",
    "var('s')\n",
    "var('eps')\n",
    "Expression=ToBeZero(1+r*eps+s*eps**2+O(eps**3),eps)\n",
    "\n",
    "Simple=simplify(Expression)\n",
    "print(Simple)\n",
    "\n",
    "solve([-3+5*r,5*s-12*r+10*r**2],[r,s])\n"
   ]
  },
  {
   "cell_type": "markdown",
   "metadata": {},
   "source": [
    "<div markdown=1 class=\"Answers\"> If we plug $ 1+ r\\varepsilon + s\\varepsilon^2+ \\mathcal{O}(\\varepsilon^3)$ into equation ($\\star$) we obtain (with the script):\n",
    "\\begin{equation}\n",
    "0=-3\\varepsilon + 5r\\varepsilon + 5s\\varepsilon^2 - 12r\\varepsilon^2 + 10r^2\\varepsilon^2 + \\mathcal{O}(\\varepsilon^3).\n",
    "\\tag{$\\mathcal{E}$}\n",
    "\\end{equation}\n",
    "If we divide equation ($\\mathcal{E}$) by $\\varepsilon$ we obtain\n",
    "$$\n",
    "0=-3 + 5r + 5s\\varepsilon - 12r\\varepsilon + 10r^2\\varepsilon + \\mathcal{O}(\\varepsilon^2),\n",
    "$$\n",
    "which yields $-3+5r=0$ by letting $\\varepsilon \\to 0$, i.e. $r=3/5$.\n",
    "\n",
    "If we plug this into ($\\mathcal{E}$) and divide by $\\varepsilon^2$ we obtain\n",
    "$$\n",
    "0=5s - 12r + 10r^2 + \\mathcal{O}(\\varepsilon),\n",
    "$$\n",
    "which gives $5s-12r+10r^2=0$, i.e. $s=18/25$.\n",
    "<br><br>\n",
    "Finally,\n",
    "$$\n",
    "S_\\varepsilon=1+\\tfrac{3}{5}\\varepsilon + \\tfrac{18}{25}\\varepsilon^2 + \\mathcal{O}(\\varepsilon^2),\n",
    "$$\n"
   ]
  },
  {
   "cell_type": "code",
   "execution_count": null,
   "metadata": {},
   "outputs": [],
   "source": []
  }
 ],
 "metadata": {
  "kernelspec": {
   "display_name": "Python 2",
   "language": "python",
   "name": "python2"
  },
  "language_info": {
   "codemirror_mode": {
    "name": "ipython",
    "version": 2
   },
   "file_extension": ".py",
   "mimetype": "text/x-python",
   "name": "python",
   "nbconvert_exporter": "python",
   "pygments_lexer": "ipython2",
   "version": "2.7.16"
  }
 },
 "nbformat": 4,
 "nbformat_minor": 2
}
