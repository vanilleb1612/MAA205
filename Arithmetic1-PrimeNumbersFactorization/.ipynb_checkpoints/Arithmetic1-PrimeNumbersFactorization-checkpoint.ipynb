{
 "cells": [
  {
   "cell_type": "markdown",
   "metadata": {},
   "source": [
    "<img src='./figures/logo-ecole-polytechnique-ve.jpg' style='position:absolute; top:0; right:0;' width='100px' height='' alt='' />\n",
    "\n",
    "<center>**Bachelor of Ecole Polytechnique**</center>\n",
    "<center><i>Algorithms for Discrete Mathematics</i>, year 2, semester 1</center>\n",
    "\n",
    "# Arithmetic 1: Prime numbers and factorization\n",
    "\n",
    "&nbsp;\n",
    "\n",
    "<img src=\"./figures/Chebyshev.jpg\" alt=\"Roots\" style=\"width: 200px;\"/>\n",
    "\n",
    "&nbsp;\n",
    "<center><i><b>P. Tchebychev (Russia, 1821-1894)</b>. Among many things, he was the first mathematician to obtain the asymptotics for the number of prime numbers less than $n$ (see the first Exercise below).</i></center>"
   ]
  },
  {
   "cell_type": "markdown",
   "metadata": {},
   "source": [
    "## Table of contents\n",
    "\n",
    "- Primes and factorization\n",
    " - [Prime numbers](#DistributionPrime)\n",
    " - [Factorization](#Factorization)\n",
    "- [1st digit and powers of two](#1stdigit)\n",
    "- [A mysterious function](#ChangeBasis)\n",
    "- [(Bonus) Pseudo-random numbers](#PseudoRandom)\n"
   ]
  },
  {
   "cell_type": "code",
   "execution_count": 1,
   "metadata": {},
   "outputs": [
    {
     "data": {
      "text/html": [
       "<link href='http://fonts.googleapis.com/css?family=Fenix' rel='stylesheet' type='text/css'>\n",
       "<link href='http://fonts.googleapis.com/css?family=Alegreya+Sans:100,300,400,500,700,800,900,100italic,300italic,400italic,500italic,700italic,800italic,900italic' rel='stylesheet' type='text/css'>\n",
       "<link href='http://fonts.googleapis.com/css?family=Source+Code+Pro:300,400' rel='stylesheet' type='text/css'>\n",
       "<link href=\"https://fonts.googleapis.com/css?family=Oswald|Raleway\" rel=\"stylesheet\" type='text/css'> \n",
       "<style>\n",
       ".prompt{\n",
       "    display: none !important;\n",
       "}\n",
       "\n",
       ".rendered_html pre {\n",
       "    border: 1px solid #f0f6f9 !important;\n",
       "}\n",
       "\n",
       ".rendered_html pre, .rendered_html code {\n",
       "    background-color: #d3d8db !important;\n",
       "    padding: 1% !important;\n",
       "    line-height: 200% !important;\n",
       "    border-radius: 10px !important;\n",
       "}\n",
       "\n",
       "div.input_area {\n",
       "    border-radius: 10px !important;\n",
       "    background-color: #e1e1e6 !important;\n",
       "}\n",
       "\n",
       "div.cell{\n",
       "        width:85% !important;\n",
       "        margin-left:5% !important;\n",
       "        /*margin-right:auto;*/\n",
       "    }\n",
       "    h1, h2, h3, h4, h5 {\n",
       "        font-family: 'Oswald', sans-serif; !important;\n",
       "        font-style: oblique !important;\n",
       "    }\n",
       "    div.text_cell_render{\n",
       "        font-family: 'Raleway', sans-serif; !important;\n",
       "        line-height: 135% !important;\n",
       "        font-size: 120% !important;\n",
       "        width:100%;/*600px;*/\n",
       "        /*margin-left:auto;*/\n",
       "        /*margin-right:auto;*/\n",
       "    }\n",
       "    .CodeMirror{\n",
       "            font-family: \"Source Code Pro\" !important;\n",
       "\t\t\tfont-size: 100% !important;\n",
       "    }\n",
       "    .text_cell_render p{\n",
       "        text-align: justify !important;\n",
       "    }\n",
       "    .text_cell_render h1 {\n",
       "        font-weight: 200 !important;\n",
       "\t\tline-height: 100% !important;\n",
       "        color:#47597A !important;\n",
       "        margin-bottom: 10.em !important;\n",
       "        margin-top: 50.em !important;\n",
       "        padding-bottom: 50.em !important;\n",
       "        padding-top: 50.em !important;\n",
       "        display: block !important;\n",
       "        font-size: 300% !important;\n",
       "        text-align: center !important;\n",
       "        border-bottom: 1px solid #47597A !important;\n",
       "        border-top: 1px solid #47597A !important;\n",
       "    }\n",
       "    .text_cell_render h2 {\n",
       "        font-weight: 200 !important;\n",
       "\tline-height: 100% !important;\n",
       "        color:#47597A !important;\n",
       "        margin-bottom: 0.5em !important;\n",
       "        margin-top: 0.5em !important;\n",
       "        display: block !important;\n",
       "        font-size: 200% !important;\n",
       "        border-bottom: 1px solid #47597A !important;\n",
       "    }\n",
       "    .text_cell_render h3 {\n",
       "        font-weight: 200 !important;\n",
       "\tline-height: 100% !important;\n",
       "        color:#47597A !important;\n",
       "        margin-bottom: 0.5em !important;\n",
       "        margin-top: 0.5em !important;\n",
       "        display: block !important;\n",
       "        font-size: 150% !important;\n",
       "    }\n",
       "    .text_cell_render h4 {\n",
       "        font-style: italic !important;\n",
       "        font-weight: bold !important;\n",
       "\tline-height: 100% !important;\n",
       "        color:#47597A !important;\n",
       "        display: block !important;\n",
       "        font-size: 100% !important;\n",
       "    }\n",
       "    .text_cell_render h5 {\n",
       "        font-weight: 200 !important;\n",
       "\tline-height: 100% !important;\n",
       "        color:#47597A !important;\n",
       "        margin-bottom: 0.5em !important;\n",
       "        margin-top: 0.5em !important;\n",
       "        display: block !important;\n",
       "        font-size: 100% !important;\n",
       "    }\n",
       "    .text_cell_render ul {\n",
       "\tlist-style-type: disc !important;\n",
       "\tline-height: 2;\n",
       "\t/*color:#47597A !important;*/\n",
       "    }\n",
       "    .warning{\n",
       "        color: rgb( 240, 20, 20 ) !important;\n",
       "        }\n",
       "    .Abstract {  \n",
       "\ttext-align: justify;\n",
       "\tbackground-color: #d6edf9;\n",
       "\tborder-left: 5px solid #47597A;\n",
       "\tpadding: 0.5em;\n",
       "\tmargin: 0  80px 0 80px;\n",
       "    }\n",
       "    .Def {    \n",
       "\tbackground-color: #d9f7d7;\n",
       "\tborder-left: 5px solid #4a7047;\n",
       "\tpadding: 0.5em;\n",
       "    }\n",
       "    .Def:before {\n",
       "\tcontent: \"Definition.\";\n",
       "\tcolor:#4a7047;\n",
       "\tfont-weight: bold;\n",
       "\tfont-style: normal;\n",
       "    }\n",
       "    .DoIt {    \n",
       "\tbackground-color: #e8cfc9;\n",
       "\tborder-left: 5px solid #a90e05;\n",
       "\tpadding: 0.5em;\n",
       "    }\n",
       "    .DoIt:before {\n",
       "\tcontent: \"Do it yourself.\";\n",
       "\tcolor:#a90e05;\n",
       "\tfont-weight: bold;\n",
       "\tfont-style: normal;\n",
       "    }\n",
       "    .Answers {    \n",
       "\tbackground-color: #DDA0DD;\n",
       "\tborder-left: 5px solid #9932CC;\n",
       "\tpadding: 0.5em;\n",
       "    }\n",
       "    .Answers:before {\n",
       "\tcontent: \"Answers.\";\n",
       "\tcolor:#682145;\n",
       "\tfont-weight: bold;\n",
       "\tfont-style: normal;\n",
       "    }\n",
       "    .Prop {    \n",
       "\tbackground-color:#f9ecd1;\n",
       "\tborder-left: 5px solid #ba7021;\n",
       "\tpadding: 0.5em;\n",
       "    }\n",
       "   .Prop:before {\n",
       "       content: \"Proposition.\";\n",
       "       color:#ba7021;\n",
       "       font-weight: bold;\n",
       "       font-style: normal;\n",
       "    }\n",
       "   .Thm {    \n",
       "\tbackground-color:#f9ecd1;\n",
       "\tborder-left: 5px solid #ba7021;\n",
       "\tpadding: 0.5em;\n",
       "    }\n",
       "   .Thm:before {\n",
       "       content: \"Theorem.\";\n",
       "       color:#ba7021;\n",
       "       font-weight: bold;\n",
       "       font-style: normal;\n",
       "    } \n",
       "   .Algo {    \n",
       "\tbackground-color:#f9ecd1;\n",
       "\tborder-left: 5px solid #ba7021;\n",
       "\tpadding: 0.5em;\n",
       "    }\n",
       "   .Algo:before {\n",
       "       content: \"Algorithm.\";\n",
       "       color:#ba7021;\n",
       "       font-weight: bold;\n",
       "       font-style: normal;\n",
       "    }\n",
       "    .Rmk {    \n",
       "\tbackground-color: #dbf1fc;\n",
       "\tborder-left: 5px solid #385487;\n",
       "\tpadding: 0.5em;\n",
       "    }\n",
       "    .Rmk:before {\n",
       "\tcontent: \"Remark.\";\n",
       "\tcolor:#385487;\n",
       "\tfont-weight: bold;\n",
       "\tfont-style: normal;\n",
       "    }\n",
       "    .Ex {    \n",
       "\tbackground-color: #dbf1fc;\n",
       "\tborder-left: 5px solid #385487;\n",
       "\tpadding: 0.5em;\n",
       "    }\n",
       "    .Ex:before {\n",
       "\tcontent: \"Example.\";\n",
       "\tcolor:#385487;\n",
       "\tfont-weight: bold;\n",
       "\tfont-style: normal;\n",
       "    }\n",
       "\n",
       "/*    .toc-item-num {\n",
       "#        display: none;\n",
       "#    }\n",
       "*/\n",
       "    .reveal section img{\n",
       "        margin: 0px auto;\n",
       "    }\n",
       "\n",
       "    div.output_area img{\n",
       "        display: block;\n",
       "        margin: 0px auto;\n",
       "    }\n",
       "  \n",
       "</style>\n",
       "\n",
       "<script>\n",
       "MathJax.Hub.Config({\n",
       "TeX: {extensions: [\"AMSmath.js\"] },\n",
       "                tex2jax: {\n",
       "                    inlineMath: [ ['$','$'], [\"\\\\(\",\"\\\\)\"] ],\n",
       "                    displayMath: [ ['$$','$$'], [\"\\\\[\",\"\\\\]\"] ]\n",
       "                },\n",
       "                displayAlign: 'center', // Change this to 'center' to center equations.\n",
       "                \"HTML-CSS\": {\n",
       "                    styles: {'.MathJax_Display': {\"margin\": 4}}\n",
       "                }\n",
       "        });\n",
       "\n",
       "\n",
       "\n",
       "</script>\n"
      ],
      "text/plain": [
       "<IPython.core.display.HTML object>"
      ]
     },
     "execution_count": 1,
     "metadata": {},
     "output_type": "execute_result"
    }
   ],
   "source": [
    "# execute this part to modify the css style\n",
    "from IPython.core.display import HTML\n",
    "def css_styling():\n",
    "    styles = open(\"./style/custom2.css\").read()\n",
    "    return HTML(styles)\n",
    "css_styling()"
   ]
  },
  {
   "cell_type": "code",
   "execution_count": 2,
   "metadata": {},
   "outputs": [],
   "source": [
    "## loading python libraries\n",
    "\n",
    "# necessary to display plots inline:\n",
    "%matplotlib inline   \n",
    "\n",
    "# load the libraries\n",
    "import matplotlib.pyplot as plt # 2D plotting library\n",
    "import numpy as np              # package for scientific computing  \n",
    "from math import *              # package for mathematics (pi, arctan, sqrt, factorial ...)\n"
   ]
  },
  {
   "cell_type": "markdown",
   "metadata": {},
   "source": [
    "# Please read!\n",
    "\n",
    "<br><br>\n",
    "\n",
    "<div markdown=1 class=Abstract>\n",
    "\n",
    "### Guidelines for the notebooks\n",
    "\n",
    "* We are doing <i>Experimental Mathematics</i>. Quoting from wikipedia: \"experimental mathematics is an approach to mathematics in which computation is used to investigate mathematical objects and identify properties and patterns\".\n",
    "* Try to write simple and elegant programs. Think recursive!\n",
    "* Each function must be tested (for your sake, it also must be commented).\n",
    "* Draw plots that illustrate interesting phenomena (play with parameters).\n",
    "* For the mathematical questions try to be rigorous and concise. Compare your claims with experiments.\n",
    "* Only search the bonus exercise when you have fully solved the beginning of the notebook.\n",
    "* The notebook with complete solutions will be uploaded on the moodle after the lab.\n",
    "\n",
    "### Instructions\n",
    "\n",
    "* You are expected to arrive on time in class. (Just in case you can kindly ask to the TA of the previous course to finish right on time.) Late students may be noted as missing.\n",
    "* You must respect the distribution between Group 1 and Group 2.\n",
    "* Do not hesite to ask for help to the teacher for maths or python. Of course you can also (and should) discuss between yourselves. To permit interactions headphones are forbidden...\n",
    "* The Lab is only 2 hours long, there is no need for a coffee break."
   ]
  },
  {
   "cell_type": "markdown",
   "metadata": {
    "collapsed": true
   },
   "source": [
    "<a id=\"DistributionPrime\"></a>\n",
    "## Prime numbers"
   ]
  },
  {
   "cell_type": "markdown",
   "metadata": {},
   "source": [
    "We aim to investigate the distribution of primes among integers. Namely, how many prime numbers are there (approximately) between $1$ and $n$?"
   ]
  },
  {
   "cell_type": "markdown",
   "metadata": {},
   "source": [
    "<div markdown=1 class=\"DoIt\"> Write a boolean function `IsPrime(n)` which returns `True` if and only $n$ is prime.<br>\n",
    "<i>(In python $a\\ (\\mathrm{mod}\\ p)$ is obtained with `a%p`.)</i>"
   ]
  },
  {
   "cell_type": "code",
   "execution_count": 3,
   "metadata": {},
   "outputs": [
    {
     "name": "stdout",
     "output_type": "stream",
     "text": [
      "False\n",
      "False\n"
     ]
    }
   ],
   "source": [
    "def IsPrime(n):\n",
    "    # input: integer n\n",
    "    # output: True or False depending on whether n is prime or not\n",
    "    # Your code here\n",
    "    if n ==1:\n",
    "        return False\n",
    "    \n",
    "    if n == 2:\n",
    "        return False\n",
    "    \n",
    "    elif n%2 ==0:\n",
    "        return False\n",
    "    factor = 3\n",
    "    while factor**2 < n+1:\n",
    "        if n%factor == 0:\n",
    "            return False\n",
    "        factor = factor+2\n",
    "    return True\n",
    "print(IsPrime(2))\n",
    "print(IsPrime(2019))\n",
    "# Tests:"
   ]
  },
  {
   "cell_type": "markdown",
   "metadata": {},
   "source": [
    "Now we are ready for experiment. For $n\\geq 2$, let $P(n)$ denote the number of primes less than $n$. For example, $P(11)=5$ since $2,3,5,7,11$ are prime."
   ]
  },
  {
   "cell_type": "markdown",
   "metadata": {},
   "source": [
    "<div markdown=1 class=\"DoIt\">\n",
    "* Write a script which takes as input $n$ and returns the list $[P(2),P(3),\\dots,P(n)]$.\n",
    "* Plot the function $n \\mapsto P(n)$ (try $n=100,1000,10000$)."
   ]
  },
  {
   "cell_type": "code",
   "execution_count": 11,
   "metadata": {},
   "outputs": [
    {
     "data": {
      "image/png": "[encoded data removed]",
      "text/plain": [
       "<Figure size 432x288 with 1 Axes>"
      ]
     },
     "metadata": {
      "needs_background": "light"
     },
     "output_type": "display_data"
    }
   ],
   "source": [
    "CountingPrimes = [0]\n",
    "T= 1000\n",
    "for n in range (2, T):\n",
    "    if IsPrime(n):\n",
    "        CountingPrimes.append(CountingPrimes[-1]+1)\n",
    "    else:\n",
    "        CountingPrimes.append(CountingPrimes[-1])\n",
    "plt.plot(range(1,T),CountingPrimes,label='pi')\n",
    "plt.xlabel('Number $n$'),plt.ylabel('Primes less than $n$')\n",
    "plt.title('Counting Primes')\n",
    "plt.show()\n",
    "# \n",
    "#\n",
    "# Your code here\n",
    "#\n",
    "#\n"
   ]
  },
  {
   "cell_type": "markdown",
   "metadata": {},
   "source": [
    "<div markdown=1 class=\"DoIt\"> Modify your previous plot to guess (by trials and errors) what is the asymptotic behaviour of $P(n)$ when $n\\to +\\infty$: find a sequence $a_n$ such that $P(n)\\sim a_n$.<br>\n",
    "<i>In order to improve your guess you can plot $\\frac{P_n}{a_n}$ in some interval $(T/2,T)$ instead of $(0,T)$.</i>"
   ]
  },
  {
   "cell_type": "code",
   "execution_count": 12,
   "metadata": {},
   "outputs": [
    {
     "data": {
      "image/png": "[encoded data removed]",
      "text/plain": [
       "<Figure size 432x288 with 1 Axes>"
      ]
     },
     "metadata": {
      "needs_background": "light"
     },
     "output_type": "display_data"
    }
   ],
   "source": [
    "X= range(1,T)\n",
    "\n",
    "plt.plot(range(1,T),CountingPrimes*np.log(X)/X)\n",
    "plt.xlabel('Number $n$'),plt.ylabel('$P(n)/(n\\log(n))$')\n",
    "plt.title('Counting Primes')\n",
    "plt.show()\n",
    "# \n",
    "#\n",
    "# Your code here\n",
    "#\n",
    "#\n",
    "\n"
   ]
  },
  {
   "cell_type": "markdown",
   "metadata": {},
   "source": [
    "<div markdown=1 class=\"Answers\"> \n",
    "According to the above plot, my guess is:\n",
    "$$\n",
    "P(n) \\stackrel{n\\to +\\infty}{\\sim}\\quad ???\n",
    "$$"
   ]
  },
  {
   "cell_type": "markdown",
   "metadata": {
    "collapsed": true
   },
   "source": [
    "<a id=\"Factorization\"></a>\n",
    "## Factorization"
   ]
  },
  {
   "cell_type": "markdown",
   "metadata": {},
   "source": [
    "<div markdown=1 class=\"DoIt\"> Write a function `Factorize(n)` which returns the factorization of `n` into primes. For example your function should return:\n",
    "\n",
    "```python\n",
    "Factorize(2158884)\n",
    "[2, 2, 3, 3, 7, 13, 659]\n",
    "```\n",
    "\n",
    "<i>Hint: Think recursive!</i>"
   ]
  },
  {
   "cell_type": "code",
   "execution_count": 20,
   "metadata": {},
   "outputs": [
    {
     "name": "stdout",
     "output_type": "stream",
     "text": [
      "[2, 13, 83]\n"
     ]
    }
   ],
   "source": [
    "def Factorize(n):\n",
    "    for factor in range (2,n):\n",
    "        if n%factor == 0:\n",
    "            return [factor]+Factorize(n//factor)\n",
    "    return [n]\n",
    "    # input: integer n\n",
    "    # output: list of factors of n\n",
    "    \n",
    "# Tests:\n",
    "\n",
    "print(Factorize(2158))"
   ]
  },
  {
   "cell_type": "markdown",
   "metadata": {},
   "source": [
    "For $n\\geq 2$ we introduce \n",
    "$$\n",
    "F(n)=\\text{Number of prime factors of $n$, counted with multiplicity}. \n",
    "$$\n",
    "For example, $F(2158884)=7$."
   ]
  },
  {
   "cell_type": "markdown",
   "metadata": {},
   "source": [
    "<div markdown=1 class=\"DoIt\"> Plot the function $n \\mapsto F(n)$ (try $n=100,1000,5000$)."
   ]
  },
  {
   "cell_type": "code",
   "execution_count": 28,
   "metadata": {},
   "outputs": [
    {
     "data": {
      "image/png": "[encoded data removed]",
      "text/plain": [
       "<Figure size 432x288 with 1 Axes>"
      ]
     },
     "metadata": {
      "needs_background": "light"
     },
     "output_type": "display_data"
    }
   ],
   "source": [
    "# Your code here\n",
    "n_min=2\n",
    "n_max=200\n",
    "F=[len(Factorize(k)) for k in range (n_min,n_max)]\n",
    "X= range(n_min,n_max)\n",
    "plt.plot(X,F,'.',label='F(n)')\n",
    "plt.xlabel('Number $n$')\n",
    "plt.title('Number of prime factors')\n",
    "plt.plot(X,np.log(X)/np.log(2),label='log_2(n)')\n",
    "plt.legend()\n",
    "plt.show()\n"
   ]
  },
  {
   "cell_type": "markdown",
   "metadata": {},
   "source": [
    "<div markdown=1 class=\"DoIt\"> **(Theory)**<br>\n",
    "\n",
    "1. Plot on the previous picture $n\\mapsto F(n)$ and $n\\mapsto \\log_2(n)$ (logarithm in basis two).\n",
    "2. Prove the following: \n",
    "  - <b>(lower bound)</b> There are infinitely many $n$'s for which $F(n)=\\log_2(n)$.\n",
    "  - <b>(upper bound)</b> $F(n)\\leq \\log_2(n)$ for every $n$.\n"
   ]
  },
  {
   "cell_type": "markdown",
   "metadata": {},
   "source": [
    "<div markdown=1 class=\"Answers\"> \n",
    "2. "
   ]
  },
  {
   "cell_type": "markdown",
   "metadata": {},
   "source": [
    "<a id=\"1stdigit\"></a>\n",
    "## 1st digit and powers of two"
   ]
  },
  {
   "cell_type": "markdown",
   "metadata": {},
   "source": [
    "<div markdown=1 class=\"DoIt\"> \n",
    "Write a function `FirstDigit(n)` which returns the leftmost digit of $n$:\n",
    "```python\n",
    "FirstDigit(238)\n",
    "2\n",
    "```\n",
    "<i>Hint: Think recursive!</i>"
   ]
  },
  {
   "cell_type": "code",
   "execution_count": 35,
   "metadata": {},
   "outputs": [
    {
     "name": "stdout",
     "output_type": "stream",
     "text": [
      "2\n"
     ]
    }
   ],
   "source": [
    "def FirstDigit(n):\n",
    "    # input: integer n\n",
    "    # output: First digit (in {1,...,9})\n",
    "    if n<10:\n",
    "        return n\n",
    "    else:\n",
    "        return FirstDigit(n//10)\n",
    "print (FirstDigit(238))\n",
    "    \n",
    "# Test\n"
   ]
  },
  {
   "cell_type": "markdown",
   "metadata": {},
   "source": [
    "<div markdown=1 class=\"DoIt\"> \n",
    "1. Fix $n$ large. Plot the histogram of the frequencies of $\\{1,2,\\dots,9\\}$ among the leading digits of $2,2^2,2^3,2^4,2^5,\\dots,2^n$.\n",
    "2. Are they equally distributed in $\\{1,2,\\dots, 9\\}$? What is the most frequent leading digit? What is the shape of this histogram? You can have a look at the Wikipedia's page of the <i>Benford distribution</i> and compare with your plot.<br>\n",
    "<i>(A rigorous proof is beyond the level of Bachelor $2$.)</i>"
   ]
  },
  {
   "cell_type": "code",
   "execution_count": 37,
   "metadata": {},
   "outputs": [
    {
     "data": {
      "image/png": "[encoded data removed]",
      "text/plain": [
       "<Figure size 432x288 with 1 Axes>"
      ]
     },
     "metadata": {
      "needs_background": "light"
     },
     "output_type": "display_data"
    }
   ],
   "source": [
    "# Your code here\n",
    "n=100\n",
    "FirstDigitPowersOfTwo = [FirstDigit(2**i)for i in range (n)]\n",
    "Benford=[np.log((k+1.0)/k)/np.log(10) for k in range(1,10)]\n",
    "\n",
    "plt.plot(np.arange(1.5,10.5),Benford,'ro',label='Benford distribution')\n",
    "plt.hist(FirstDigitPowersOfTwo,bins= np.arange(1,11), normed=True, facecolor='g', alpha=0.2,label='Frequency of digits') # Histogramme normalise\n",
    "plt.legend()\n",
    "plt.show()\n"
   ]
  },
  {
   "cell_type": "markdown",
   "metadata": {},
   "source": [
    "<div markdown=1 class=\"Answers\"> \n",
    "Your observations here."
   ]
  },
  {
   "cell_type": "markdown",
   "metadata": {},
   "source": [
    "<a id=\"ChangeBasis\"></a>\n",
    "## A mysterious function"
   ]
  },
  {
   "cell_type": "markdown",
   "metadata": {},
   "source": [
    "<div markdown=1 class=\"DoIt\"> \n",
    "1. What does the following function return? \n",
    "2. Can you prove it?"
   ]
  },
  {
   "cell_type": "code",
   "execution_count": 41,
   "metadata": {},
   "outputs": [
    {
     "name": "stdout",
     "output_type": "stream",
     "text": [
      "[1, 0, 0, 1, 1]\n"
     ]
    }
   ],
   "source": [
    "def Mystery(MysteriousVariable):\n",
    "    # input: integer\n",
    "    # output: ???\n",
    "    if MysteriousVariable==0:\n",
    "        return []\n",
    "    else:\n",
    "        return Mystery(MysteriousVariable//2) + [MysteriousVariable%2]\n",
    "print(Mystery(19))\n",
    "# Test "
   ]
  },
  {
   "cell_type": "markdown",
   "metadata": {},
   "source": [
    "<div markdown=1 class=\"Answers\">\n",
    "<br>\n",
    "1.<br>\n",
    "2."
   ]
  },
  {
   "cell_type": "markdown",
   "metadata": {},
   "source": [
    "## Change of basis"
   ]
  },
  {
   "cell_type": "markdown",
   "metadata": {},
   "source": [
    "<div markdown=1 class=\"DoIt\"> Write a function `ChangeBasis(a,b,n_InBasis_a)` which takes as inputs:\n",
    "* Two basis $a,b$ (integers $\\geq 2$)\n",
    "* A list which gives the decomposition of some integer $n$ in basis $a$\n",
    "\n",
    "and which returns the decomposition of $n$ in basis $b$.\n",
    "\n",
    "For example\n",
    "```python\n",
    "ChangeBasis(5,2,[4,1])\n",
    "[1, 0, 1, 0, 1]\n",
    "```\n",
    "(Since $[4,1]$ in basis $5$ is $21$ <i>i.e.</i> $[1, 0, 1, 0, 1]$.)"
   ]
  },
  {
   "cell_type": "code",
   "execution_count": 43,
   "metadata": {},
   "outputs": [
    {
     "data": {
      "text/plain": [
       "[1, 0, 1, 0, 1]"
      ]
     },
     "execution_count": 43,
     "metadata": {},
     "output_type": "execute_result"
    }
   ],
   "source": [
    "def BasisToTen(n_InBasis_b,b):\n",
    "    # input: b: basis\n",
    "    #    n_InBasis_b: decomposition of some integer n in basis b\n",
    "    # output: integer n\n",
    "    if n_InBasis_b == []:\n",
    "        return 0\n",
    "    else:\n",
    "        return n_InBasis_b[-1] + b*BasisToTen(n_InBasis_b[0:-1],b)\n",
    "\n",
    "def TenToBasis(n,b):\n",
    "    # input: integer n, basis b\n",
    "    # output: n in basis b\n",
    "    if n==0:\n",
    "        return []\n",
    "    else:\n",
    "        return TenToBasis(n//b,b) + [n%b]\n",
    "    \n",
    "def ChangeBasis(a,b,n_InBasis_a):\n",
    "    # inputs: basis a,b, integer n in basis a (as a list)\n",
    "    # output: n in basis b (as a list)\n",
    "    n= BasisToTen(n_InBasis_a,a)\n",
    "    return TenToBasis(n,b)\n",
    "\n",
    "ChangeBasis(5,2,[4,1])\n",
    "\n",
    "# Tests\n"
   ]
  },
  {
   "cell_type": "markdown",
   "metadata": {},
   "source": [
    "<a id=\"PseudoRandom\"></a>\n",
    "## <b>(Bonus)</b> Pseudo-random integers\n",
    "\n",
    "For simulation it is important to generate pseudo-random numbers. The goal of the following exercise is to analyze one of the simplest random number generator: the <i>linear congruential generator</i> (LCG).\n",
    "\n",
    "This works as follows:\n",
    "* Fix integers $m,a,b$.\n",
    "* Start your generator with $x_0\\in \\{0,1,\\dots, m-1\\}$.\n",
    "* For every $n\\geq 1$, put\n",
    "$$\n",
    "x_{n}=ax_{n-1}+b \\ (\\mathrm{mod}\\ m).\n",
    "$$\n",
    "\n",
    "We expect that if $m,a,c$ are well chosen, then the sequence $(x_n)_{n\\geq 0}$ <i>looks like</i> a sequence of independent and uniform random variables in $\\{0,1,\\dots ,m\\}$."
   ]
  },
  {
   "cell_type": "markdown",
   "metadata": {},
   "source": [
    "<div markdown=1 class=\"Rmk\"> Usually the $x_n$'s are divided by $m$ to get uniform random variables in $(0,1)$."
   ]
  },
  {
   "cell_type": "markdown",
   "metadata": {},
   "source": [
    "<div markdown=1 class=\"DoIt\"> \n",
    "1. Write a script which returns the list $[x_0,x_1,\\dots,x_N]$. Take $m=2^{31}-1$, $a=7^5$, $b=0$.\n",
    "2. Draw a histogram which illustrates uniformity of the $x_n$'s (take at least $N=50000$)."
   ]
  },
  {
   "cell_type": "code",
   "execution_count": null,
   "metadata": {},
   "outputs": [],
   "source": [
    "# Your code here"
   ]
  },
  {
   "cell_type": "markdown",
   "metadata": {},
   "source": [
    "<div markdown=1 class=\"DoIt\">**(Theory)**\n",
    "1. Prove that for every $m,a,b$ the sequence $(x_n)$ is periodic. Can you give an upper bound for the period?\n",
    "1. Can you give very **bad** choices for $m,a,b$?"
   ]
  },
  {
   "cell_type": "markdown",
   "metadata": {},
   "source": [
    "<div markdown=1 class=\"Answers\">\n",
    "1. \n",
    "2. "
   ]
  },
  {
   "cell_type": "markdown",
   "metadata": {},
   "source": [
    "It can be proved that\n",
    "<center>\n",
    "$\\bigg(X_{2i},X_{2i+1} \\text{ are independent uniform in }\\{0,1,\\dots ,m-1\\}\\bigg)$\n",
    "$\\Leftrightarrow$ $\\bigg((X_{2i},X_{2i+1}) \\text{ is uniform in }\\{0,1,\\dots ,m-1\\}^2\\bigg)$."
   ]
  },
  {
   "cell_type": "markdown",
   "metadata": {},
   "source": [
    "<div markdown=1 class=\"DoIt\"> \n",
    "1. Imagine a plot which illustrates the uniformity of pairs $(x_{2i},x_{2i+1})$ generated by the previous linear congruential generator and code it. A good idea is to `plt.matshow(...)`<br>\n",
    "2. Try with $m=2^{31}-1$, $a=7^5$, $b=0$ then with  $m=20000,a=177,b=0$. Do you observe that the latter is a <i>bad</i> choice?\n"
   ]
  },
  {
   "cell_type": "markdown",
   "metadata": {},
   "source": [
    "<div markdown=1 class=\"Answers\"> \n",
    "1. Explain your graphical output here.\n",
    "2. "
   ]
  },
  {
   "cell_type": "code",
   "execution_count": 4,
   "metadata": {},
   "outputs": [],
   "source": [
    "# Your code here\n"
   ]
  },
  {
   "cell_type": "code",
   "execution_count": null,
   "metadata": {},
   "outputs": [],
   "source": []
  }
 ],
 "metadata": {
  "kernelspec": {
   "display_name": "Python 3",
   "language": "python",
   "name": "python3"
  },
  "language_info": {
   "codemirror_mode": {
    "name": "ipython",
    "version": 3
   },
   "file_extension": ".py",
   "mimetype": "text/x-python",
   "name": "python",
   "nbconvert_exporter": "python",
   "pygments_lexer": "ipython3",
   "version": "3.7.1"
  }
 },
 "nbformat": 4,
 "nbformat_minor": 2
}
