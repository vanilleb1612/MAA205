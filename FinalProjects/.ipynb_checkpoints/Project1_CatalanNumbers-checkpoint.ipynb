{
 "cells": [
  {
   "cell_type": "markdown",
   "metadata": {},
   "source": [
    "<img src='./figures/logo-ecole-polytechnique-ve.jpg' style='position:absolute; top:0; right:0;' width='100px' height='' alt='' />\n",
    "\n",
    "<center>**Bachelor of Ecole Polytechnique**</center>\n",
    "<center>Computational Mathematics, year 2, semester 1</center>\n",
    "<center>Lecturer: Lucas Gerin <a href=\"mailto:lucas.gerin@polytechnique.edu\">(send mail)</a></center>\n",
    "\n",
    "\n",
    "# Project 1: Catalan numbers\n",
    "\n",
    "<div markdown=1 class=Abstract>\n",
    "* 30% Recursion\n",
    "* 20% Combinatorics\n",
    "* 20% Asymptotics\n",
    "* 10% Generating functions\n",
    "* 10% Arithmetic\n",
    "* 10% SymPy"
   ]
  },
  {
   "cell_type": "markdown",
   "metadata": {},
   "source": [
    "## Table of contents\n",
    "\n",
    "- [Computing Catalan numbers](#Computing)\n",
    "- Dealing with large Catalan numbers\n",
    "  * [Catalan and modulos: the Bostan Conjecture](#Bostan)\n",
    "  * [Length of Catalan numbers](#Asymptotics)\n",
    "- [Catalan and generating functions](#CatalanGF)\n",
    "- [Combinatorial interpretations of Catalan numbers](#Combinatorial)\n",
    "  * [Paths in a triangle](#Triangle)\n",
    "  * [Well-formed parentheses expressions](#Parentheses)\n",
    "  * [Binary trees](#Trees)\n"
   ]
  },
  {
   "cell_type": "code",
   "execution_count": 1,
   "metadata": {},
   "outputs": [
    {
     "data": {
      "text/html": [
       "<link href='http://fonts.googleapis.com/css?family=Fenix' rel='stylesheet' type='text/css'>\n",
       "<link href='http://fonts.googleapis.com/css?family=Alegreya+Sans:100,300,400,500,700,800,900,100italic,300italic,400italic,500italic,700italic,800italic,900italic' rel='stylesheet' type='text/css'>\n",
       "<link href='http://fonts.googleapis.com/css?family=Source+Code+Pro:300,400' rel='stylesheet' type='text/css'>\n",
       "<link href=\"https://fonts.googleapis.com/css?family=Oswald|Raleway\" rel=\"stylesheet\" type='text/css'> \n",
       "<style>\n",
       ".prompt{\n",
       "    display: none !important;\n",
       "}\n",
       "\n",
       ".rendered_html pre {\n",
       "    border: 1px solid #f0f6f9 !important;\n",
       "}\n",
       "\n",
       ".rendered_html pre, .rendered_html code {\n",
       "    background-color: #d3d8db !important;\n",
       "    padding: 1% !important;\n",
       "    line-height: 200% !important;\n",
       "    border-radius: 10px !important;\n",
       "}\n",
       "\n",
       "div.input_area {\n",
       "    border-radius: 10px !important;\n",
       "    background-color: #e1e1e6 !important;\n",
       "}\n",
       "\n",
       "div.cell{\n",
       "        width:85% !important;\n",
       "        margin-left:5% !important;\n",
       "        /*margin-right:auto;*/\n",
       "    }\n",
       "    h1, h2, h3, h4, h5 {\n",
       "        font-family: 'Oswald', sans-serif; !important;\n",
       "        font-style: oblique !important;\n",
       "    }\n",
       "    div.text_cell_render{\n",
       "        font-family: 'Raleway', sans-serif; !important;\n",
       "        line-height: 135% !important;\n",
       "        font-size: 120% !important;\n",
       "        width:100%;/*600px;*/\n",
       "        /*margin-left:auto;*/\n",
       "        /*margin-right:auto;*/\n",
       "    }\n",
       "    .CodeMirror{\n",
       "            font-family: \"Source Code Pro\" !important;\n",
       "\t\t\tfont-size: 100% !important;\n",
       "    }\n",
       "    .text_cell_render p{\n",
       "        text-align: justify !important;\n",
       "    }\n",
       "    .text_cell_render h1 {\n",
       "        font-weight: 200 !important;\n",
       "\t\tline-height: 100% !important;\n",
       "        color:#47597A !important;\n",
       "        margin-bottom: 10.em !important;\n",
       "        margin-top: 50.em !important;\n",
       "        padding-bottom: 50.em !important;\n",
       "        padding-top: 50.em !important;\n",
       "        display: block !important;\n",
       "        font-size: 300% !important;\n",
       "        text-align: center !important;\n",
       "        border-bottom: 1px solid #47597A !important;\n",
       "        border-top: 1px solid #47597A !important;\n",
       "    }\n",
       "    .text_cell_render h2 {\n",
       "        font-weight: 200 !important;\n",
       "\tline-height: 100% !important;\n",
       "        color:#47597A !important;\n",
       "        margin-bottom: 0.5em !important;\n",
       "        margin-top: 0.5em !important;\n",
       "        display: block !important;\n",
       "        font-size: 200% !important;\n",
       "        border-bottom: 1px solid #47597A !important;\n",
       "    }\n",
       "    .text_cell_render h3 {\n",
       "        font-weight: 200 !important;\n",
       "\tline-height: 100% !important;\n",
       "        color:#47597A !important;\n",
       "        margin-bottom: 0.5em !important;\n",
       "        margin-top: 0.5em !important;\n",
       "        display: block !important;\n",
       "        font-size: 150% !important;\n",
       "    }\n",
       "    .text_cell_render h4 {\n",
       "        font-style: italic !important;\n",
       "        font-weight: bold !important;\n",
       "\tline-height: 100% !important;\n",
       "        color:#47597A !important;\n",
       "        display: block !important;\n",
       "        font-size: 100% !important;\n",
       "    }\n",
       "    .text_cell_render h5 {\n",
       "        font-weight: 200 !important;\n",
       "\tline-height: 100% !important;\n",
       "        color:#47597A !important;\n",
       "        margin-bottom: 0.5em !important;\n",
       "        margin-top: 0.5em !important;\n",
       "        display: block !important;\n",
       "        font-size: 100% !important;\n",
       "    }\n",
       "    .text_cell_render ul {\n",
       "\tlist-style-type: disc !important;\n",
       "\tline-height: 2;\n",
       "\t/*color:#47597A !important;*/\n",
       "    }\n",
       "    .warning{\n",
       "        color: rgb( 240, 20, 20 ) !important;\n",
       "        }\n",
       "    .Abstract {  \n",
       "\ttext-align: justify;\n",
       "\tbackground-color: #d6edf9;\n",
       "\tborder-left: 5px solid #47597A;\n",
       "\tpadding: 0.5em;\n",
       "\tmargin: 0  150px 0 150px;\n",
       "    }\n",
       "    .Def {    \n",
       "\tbackground-color: #d9f7d7;\n",
       "\tborder-left: 5px solid #4a7047;\n",
       "\tpadding: 0.5em;\n",
       "    }\n",
       "    .Def:before {\n",
       "\tcontent: \"Definition.\";\n",
       "\tcolor:#4a7047;\n",
       "\tfont-weight: bold;\n",
       "\tfont-style: normal;\n",
       "    }\n",
       "    .DoIt {    \n",
       "\tbackground-color: #A9F5BC;\n",
       "\tborder-left: 5px solid #0A2A12;\n",
       "\tpadding: 0.5em;\n",
       "    }\n",
       "    .DoIt:before {\n",
       "\tcontent: \"Suggestion.\";\n",
       "\tcolor:#0A2A12;\n",
       "\tfont-weight: bold;\n",
       "\tfont-style: normal;\n",
       "    }\n",
       "    .Answers {    \n",
       "\tbackground-color: #DDA0DD;\n",
       "\tborder-left: 5px solid #9932CC;\n",
       "\tpadding: 0.5em;\n",
       "    }\n",
       "    .Answers:before {\n",
       "\tcontent: \"Answers.\";\n",
       "\tcolor:#682145;\n",
       "\tfont-weight: bold;\n",
       "\tfont-style: normal;\n",
       "    }\n",
       "    .Prop {    \n",
       "\tbackground-color:#f9ecd1;\n",
       "\tborder-left: 5px solid #ba7021;\n",
       "\tpadding: 0.5em;\n",
       "    }\n",
       "   .Prop:before {\n",
       "       content: \"Further questions.\";\n",
       "       color:#ba7021;\n",
       "       font-weight: bold;\n",
       "       font-style: normal;\n",
       "    }\n",
       "   .Thm {    \n",
       "\tbackground-color:#f9ecd1;\n",
       "\tborder-left: 5px solid #ba7021;\n",
       "\tpadding: 0.5em;\n",
       "    }\n",
       "   .Thm:before {\n",
       "       content: \"Theorem.\";\n",
       "       color:#ba7021;\n",
       "       font-weight: bold;\n",
       "       font-style: normal;\n",
       "    } \n",
       "   .Algo {    \n",
       "\tbackground-color:#f9ecd1;\n",
       "\tborder-left: 5px solid #ba7021;\n",
       "\tpadding: 0.5em;\n",
       "    }\n",
       "   .Algo:before {\n",
       "       content: \"Algorithm.\";\n",
       "       color:#ba7021;\n",
       "       font-weight: bold;\n",
       "       font-style: normal;\n",
       "    }\n",
       "    .Rmk {    \n",
       "\tbackground-color: #dbf1fc;\n",
       "\tborder-left: 5px solid #385487;\n",
       "\tpadding: 0.5em;\n",
       "    }\n",
       "    .Rmk:before {\n",
       "\tcontent: \"Remark.\";\n",
       "\tcolor:#385487;\n",
       "\tfont-weight: bold;\n",
       "\tfont-style: normal;\n",
       "    }\n",
       "    .Ex {    \n",
       "\tbackground-color: #dbf1fc;\n",
       "\tborder-left: 5px solid #385487;\n",
       "\tpadding: 0.5em;\n",
       "    }\n",
       "    .Ex:before {\n",
       "\tcontent: \"Example.\";\n",
       "\tcolor:#385487;\n",
       "\tfont-weight: bold;\n",
       "\tfont-style: normal;\n",
       "    }\n",
       "\n",
       "/*    .toc-item-num {\n",
       "#        display: none;\n",
       "#    }\n",
       "*/\n",
       "    .reveal section img{\n",
       "        margin: 0px auto;\n",
       "    }\n",
       "\n",
       "    div.output_area img{\n",
       "        display: block;\n",
       "        margin: 0px auto;\n",
       "    }\n",
       "  \n",
       "</style>\n",
       "\n",
       "<script>\n",
       "MathJax.Hub.Config({\n",
       "TeX: {extensions: [\"AMSmath.js\"] },\n",
       "                tex2jax: {\n",
       "                    inlineMath: [ ['$','$'], [\"\\\\(\",\"\\\\)\"] ],\n",
       "                    displayMath: [ ['$$','$$'], [\"\\\\[\",\"\\\\]\"] ]\n",
       "                },\n",
       "                displayAlign: 'center', // Change this to 'center' to center equations.\n",
       "                \"HTML-CSS\": {\n",
       "                    styles: {'.MathJax_Display': {\"margin\": 4}}\n",
       "                }\n",
       "        });\n",
       "\n",
       "\n",
       "\n",
       "</script>\n"
      ],
      "text/plain": [
       "<IPython.core.display.HTML object>"
      ]
     },
     "execution_count": 1,
     "metadata": {},
     "output_type": "execute_result"
    }
   ],
   "source": [
    "# execute this part to modify the css style\n",
    "from IPython.core.display import HTML\n",
    "def css_styling():\n",
    "    styles = open(\"./style/customProject.css\").read()\n",
    "    return HTML(styles)\n",
    "css_styling()\n"
   ]
  },
  {
   "cell_type": "code",
   "execution_count": 3,
   "metadata": {},
   "outputs": [],
   "source": [
    "## loading python libraries\n",
    "\n",
    "# necessary to display plots inline:\n",
    "%matplotlib inline   \n",
    "\n",
    "# load the libraries\n",
    "import matplotlib.pyplot as plt # 2D plotting library\n",
    "import numpy as np              # package for scientific computing  \n",
    "from pylab import *\n",
    "\n",
    "from math import *              # package for mathematics (pi, arctan, sqrt, factorial ...)\n",
    "import sympy as sympy             # package for symbolic computation\n",
    "from sympy import *\n"
   ]
  },
  {
   "cell_type": "markdown",
   "metadata": {},
   "source": [
    "Here are two cells that you can copy/paste throughout the Notebook:"
   ]
  },
  {
   "cell_type": "markdown",
   "metadata": {},
   "source": [
    "<div markdown=1 class=\"Answers\"> \n",
    "<i>Your answer.</i>"
   ]
  },
  {
   "cell_type": "markdown",
   "metadata": {},
   "source": [
    "<div markdown=1 class=\"Prop\"> \n",
    "<i>In this cell you can add your own additional questions (math or python).</i>"
   ]
  },
  {
   "cell_type": "markdown",
   "metadata": {},
   "source": [
    "<a id=\"Computing\"></a>\n",
    "# Computing Catalan numbers"
   ]
  },
  {
   "cell_type": "markdown",
   "metadata": {},
   "source": [
    "The <a href=\"https://en.wikipedia.org/wiki/Catalan_number\">Catalan numbers</a> $c_0,c_1,c_2,\\dots$ are defined recursively as follows:\n",
    "\\begin{align*}\n",
    "c_0&=1\\\\\n",
    "c_1&=1\\\\\n",
    "c_n&=\\sum_{k=0}^{n-1} c_kc_{n-1-k}=c_0c_{n-1}+c_1c_{n-2}+\\dots +c_{n-1}c_0 \\qquad (\\text{ for }n\\geq 2). \\tag{$\\star$}\n",
    "\\end{align*}\n",
    "For instance,\n",
    "\\begin{align*}\n",
    "c_2&=c_0c_1+c_1c_0=1\\times 1+1\\times 1=2,\\\\\n",
    "c_3&=c_0c_2+c_1c_1+c_2c_0=1\\times 2+1\\times 1+2\\times 1=5,\\\\\n",
    "\\dots\n",
    "\\end{align*}\n"
   ]
  },
  {
   "cell_type": "markdown",
   "metadata": {},
   "source": [
    "<div markdown=1 class=\"DoIt\"> \n",
    "1. Write a recursive function `CatalanRecursive(n)` which returns the $n$-th Catalan number.\n",
    "2. Write a non recursive function `CatalanNotRecursive(n)` which returns the $n$-th Catalan number.<br>\n",
    "<i>(You must also use recursive formula ($\\star$) but your function `CatalanNotRecursive(n)` should not call itself.)</i>"
   ]
  },
  {
   "cell_type": "code",
   "execution_count": 43,
   "metadata": {},
   "outputs": [
    {
     "name": "stdout",
     "output_type": "stream",
     "text": [
      "[1, 1, 2, 5, 14, 42, 132, 429, 1430, 4862]\n",
      "[1, 1, 2, 5, 14, 42, 132, 429, 1430, 4862]\n"
     ]
    }
   ],
   "source": [
    "def CatalanRecursive(n):\n",
    "    if n==0 or n==1:\n",
    "        return 1\n",
    "    if n > 1:\n",
    "        Sum = 0\n",
    "        for k in range(0,n):\n",
    "            Sum += CatalanRecursive(k)*CatalanRecursive(n-1-k)\n",
    "    return Sum\n",
    "l_1=[]\n",
    "for i in range (10):\n",
    "    l_1.append(CatalanRecursive(i))\n",
    "print (l_1) \n",
    "\n",
    "def CatalanNotRecursive(n):\n",
    "    Cn= [1,1]\n",
    "    if n == 0 or n == 1: return 1\n",
    "    for i in range(2,n+1):\n",
    "        ci = 0\n",
    "        for k in range (0,i):\n",
    "            ci += Cn[k]*Cn[i-1-k]\n",
    "        Cn.append(ci)\n",
    "    return ci\n",
    "l_2=[]\n",
    "for i in range (10):\n",
    "    l_2.append(CatalanNotRecursive(i))\n",
    "print (l_2) "
   ]
  },
  {
   "cell_type": "markdown",
   "metadata": {},
   "source": [
    "<div markdown=1 class=\"DoIt\"> \n",
    "Compare the execution times of your different functions computing the Catalan numbers (say, for $1\\leq n\\leq 15$).<br>\n",
    "You can import the `time` library:\n",
    "```\n",
    "import time\n",
    "```"
   ]
  },
  {
   "cell_type": "code",
   "execution_count": 5,
   "metadata": {},
   "outputs": [],
   "source": [
    "import time\n",
    "\n",
    "RunningTimeCatalanRecursive=[]\n",
    "RunningTimeCatalanNotRecursive=[]\n",
    "a=1\n",
    "b=16\n",
    "\n",
    "for n in range(a,b):\n",
    "    time1=time.clock()\n",
    "    CatalanRecursive(n)\n",
    "    time2=time.clock()\n",
    "    RunningTimeCatalanRecursive.append(time2-time1)\n",
    "    \n",
    "for n in range(a,b):\n",
    "    time1=time.clock()\n",
    "    CatalanNotRecursive(n)\n",
    "    time2=time.clock()\n",
    "    RunningTimeCatalanNotRecursive.append(time2-time1)"
   ]
  },
  {
   "cell_type": "code",
   "execution_count": 66,
   "metadata": {},
   "outputs": [
    {
     "data": {
      "text/plain": [
       "Text(0,0.5,'Time')"
      ]
     },
     "execution_count": 66,
     "metadata": {},
     "output_type": "execute_result"
    },
    {
     "data": {
      "image/png": "[encoded data removed]",
      "text/plain": [
       "<Figure size 432x288 with 1 Axes>"
      ]
     },
     "metadata": {
      "needs_background": "light"
     },
     "output_type": "display_data"
    }
   ],
   "source": [
    "N=range(a,b)\n",
    "\n",
    "plt.figure()\n",
    "plt.plot(N,RunningTimeCatalanRecursive,'o-',label='recursive')\n",
    "plt.plot(N,RunningTimeCatalanNotRecursive,'o-',label='None Recursive')\n",
    "plt.legend()\n",
    "plt.title(\"Execution Time of recursive vs non recursive function\")\n",
    "plt.xlabel(\"N\")\n",
    "plt.ylabel(\"Time\")"
   ]
  },
  {
   "cell_type": "markdown",
   "metadata": {},
   "source": [
    "<div markdown=1 class=\"Answers\"> \n",
    "\n",
    "We can notice the none recursive function is faster than the recursive one. We will hence use this one for the rest of the project."
   ]
  },
  {
   "cell_type": "markdown",
   "metadata": {},
   "source": [
    "<div markdown=1 class=\"Rmk\"><a id=\"EquationE\"></a> \n",
    "It can be proved that for every $n$\n",
    "$$\n",
    "c_{n}=\\frac{1}{n+1}\\binom{2n}{n}. \\tag{E}\n",
    "$$\n",
    "You may try to use this formula to write another non-recursive function which returns $c_n$. Yet the formula (E) will not be useful for the rest of the project."
   ]
  },
  {
   "cell_type": "code",
   "execution_count": 44,
   "metadata": {},
   "outputs": [
    {
     "name": "stdout",
     "output_type": "stream",
     "text": [
      "[1, 1, 2, 5, 14, 42, 132, 429, 1430, 4862]\n"
     ]
    }
   ],
   "source": [
    "import math\n",
    "def nCr(n,r):\n",
    "    f = math.factorial\n",
    "    return f(n) / f(r) / f(n-r)\n",
    "\n",
    "def E(n):\n",
    "    if n==0: return 1\n",
    "    else:\n",
    "        return nCr(2*n,n)/((n+1))\n",
    "l_c=[]\n",
    "for i in range (10):\n",
    "    l_c.append(E(i))\n",
    "print (l_c)"
   ]
  },
  {
   "cell_type": "markdown",
   "metadata": {},
   "source": [
    "<a id=\"CatalanGF\"></a>\n",
    "# Catalan and generating functions\n",
    "\n",
    "Let \n",
    "$$\n",
    "\\mathcal{C}(x)=\\sum_{n\\geq 0}c_n x^n=1+x+2x^2+5x^3+\\dots\n",
    "$$\n",
    "denote the generating function of the Catalan numbers."
   ]
  },
  {
   "cell_type": "markdown",
   "metadata": {},
   "source": [
    "<div markdown=1 class=\"DoIt\"> \n",
    "\n",
    "1. **(Theory)** Use the recursive formula [($\\star$)](#Computing) to prove that $\\mathcal{C}(x)$ is a solution of the following equation of degree two: <br>\n",
    "$$\n",
    "\\mathcal{C}(x)=1+x\\mathcal{C}(x)^2. \n",
    "$$\n",
    "<br>\n",
    "(In this equation, $\\mathcal{C}(x)$ is the unknown and $x$ is a parameter.)\n",
    "2. Use SymPy to deduce a formula for $\\mathcal{C}(x)$. What is the radius of convergence?"
   ]
  },
  {
   "cell_type": "markdown",
   "metadata": {},
   "source": [
    "<div markdown=1 class=\"Answers\"> \n",
    "\n",
    "1. Theory:\n",
    "\n",
    "$\n",
    "\\mathcal{C}(x)=1+x\\mathcal{C}(x)^2\n",
    "$\n",
    "\n",
    "Then:\n",
    "\n",
    "$\n",
    "\\frac{{C}(x)-1}{x}=\\mathcal{C}(x)^2\n",
    "$\n",
    "\n",
    "Let:\n",
    "$\n",
    "\\mathcal{C}(x)=\\sum_{n\\geq 0}c_n x^n\\\n",
    "$\n",
    "\n",
    "Then:\n",
    "\n",
    "$\n",
    "\\frac{\\sum_{n\\geq 0}c_n x^n-1}{x}=\\mathcal{C}(x)^2\n",
    "$\n",
    "\n",
    "$\n",
    "\\frac{\\sum_{n\\geq 0}c_n x^n-\\mathcal{C}(0)}{x}=\\mathcal{C}(x)^2\n",
    "$\n",
    "\n",
    "$\n",
    "\\frac{\\sum_{n\\geq 1}c_n x^n}{x}=\\mathcal{C}(x)^2\n",
    "$\n",
    "\n",
    "$\n",
    "\\frac{\\sum_{n\\geq 0}c_{n+1} x^{n+1}}{x}=\\mathcal{C}(x)^2\n",
    "$\n",
    "\n",
    "$\n",
    "\\frac{\\sum_{n\\geq 0}c_{n+1} x^{n+1}}{x}=\\mathcal\\sum_{n\\geq 0}(\\sum_{k=0}^{n} c_{k}c_{n-k}) x^{n}\n",
    "$\n",
    "\n",
    "$\n",
    "\\frac{\\sum_{n\\geq 0}c_{n+1} x^{n+1}}{x}-\\mathcal\\sum_{n\\geq 0}(\\sum_{k=0}^{n} c_{k}c_{n-k}) x^{n}=0\n",
    "$\n",
    "\n",
    "$\n",
    "\\frac{\\sum_{n\\geq 0}c_{n+1} x^{n+1}}{x}-\\mathcal\\sum_{n\\geq 0}(c_{n+1}) x^{n}=0\n",
    "$\n",
    "\n",
    "$\n",
    "{\\sum_{n\\geq 0}c_{n+1} x^{n+1}}x^{-1}-\\mathcal\\sum_{n\\geq 0}(c_{n+1}) x^{n}=0\n",
    "$\n",
    "\n",
    "$\n",
    "{\\sum_{n\\geq 0}c_{n+1} x^{n}}-\\mathcal\\sum_{n\\geq 0}c_{n+1} x^{n}=0\n",
    "$\n",
    "\n",
    "In conclusion, $\\mathcal{C}(x)$ is a solution of $\n",
    "\\mathcal{C}(x)=1+x\\mathcal{C}(x)^2.$"
   ]
  },
  {
   "cell_type": "code",
   "execution_count": 48,
   "metadata": {},
   "outputs": [
    {
     "name": "stdout",
     "output_type": "stream",
     "text": [
      "[(1 - sqrt(1 - 4*x))/(2*x), (sqrt(1 - 4*x) + 1)/(2*x)]\n"
     ]
    }
   ],
   "source": [
    "x = symbols('x')\n",
    "c= symbols('c')\n",
    "solve(c-1-x*c**2,c)\n",
    "SeriesC=solve(c-1-x*c**2,c)\n",
    "print (SeriesC)"
   ]
  },
  {
   "cell_type": "markdown",
   "metadata": {},
   "source": [
    "<div markdown=1 class=\"Answers\"> \n",
    "\n",
    "2. Using numpy, we found the following formula for $\\mathcal{C}(x)$:\n",
    "$$\n",
    "C(x)= \\frac{1 - \\sqrt{1 - 4 x}}{2 x}\n",
    "$$\n",
    " \n",
    "The radius of convergence of $\\mathcal{C}(x)$ is such that for  x > $\\rho$ , the function converges.\n",
    "\n",
    "<i>i.e.</i> The radius of convergence $\\rho$ of $\\mathcal{C}(x)$ is such that $1-4\\rho = 0$\n",
    "\n",
    "Hence: $\\rho= 1/4$\n",
    "\n",
    "2. The exponential growth formula states that for every $\\varepsilon$ there are $\\mathcal{A_1}$, $\\mathcal{A_2}$ > 0 such that for n large enough:\n",
    "$$\n",
    "\\mathcal{A_1}(1/\\rho-\\varepsilon)^n \\leq \\mathcal{A_n} \\leq \\mathcal{A_2}(1/\\rho-\\varepsilon)^n\n",
    "$$\n",
    "\n",
    "$$\n",
    "\\mathcal{A_1}(4-\\varepsilon)^n \\leq \\mathcal{A_n} \\leq \\mathcal{A_2}(4+\\varepsilon)^n\n",
    "$$"
   ]
  },
  {
   "cell_type": "markdown",
   "metadata": {},
   "source": [
    "<div markdown=1 class=\"DoIt\"> You can deduce another programm which computes the Catalan numbers using $\\mathcal{C}(x)$, and compare the execution times with the functions of the first part of the Project."
   ]
  },
  {
   "cell_type": "code",
   "execution_count": 38,
   "metadata": {},
   "outputs": [
    {
     "name": "stdout",
     "output_type": "stream",
     "text": [
      "We find the first 10 catalan numbers:\n",
      "[1 + O(x), 1, 2, 4, 9, 21, 51, 127, 323, 835]\n"
     ]
    }
   ],
   "source": [
    "def CatC(n):\n",
    "    x=symbols('x')\n",
    "    C=(1-sqrt(1-4*x))/(2*x)\n",
    "    C_truncated=C.series(x,0,n+1)\n",
    "    return C_truncated.coeff(x**n)\n",
    "print('We find the first 10 catalan numbers:')\n",
    "liste=[]\n",
    "for i in range (10):\n",
    "    liste.append(mGF(i))\n",
    "print(liste)"
   ]
  },
  {
   "cell_type": "code",
   "execution_count": 39,
   "metadata": {},
   "outputs": [],
   "source": [
    "RunningTimeCatC=[]\n",
    "a=1\n",
    "b=16\n",
    "\n",
    "for n in range(a,b):\n",
    "    time1=time.clock()\n",
    "    CatC(n)\n",
    "    time2=time.clock()\n",
    "    RunningTimeCatC.append(time2-time1)"
   ]
  },
  {
   "cell_type": "code",
   "execution_count": 49,
   "metadata": {},
   "outputs": [
    {
     "data": {
      "text/plain": [
       "Text(0,0.5,'Time')"
      ]
     },
     "execution_count": 49,
     "metadata": {},
     "output_type": "execute_result"
    },
    {
     "data": {
      "image/png": "[encoded data removed]",
      "text/plain": [
       "<Figure size 432x288 with 1 Axes>"
      ]
     },
     "metadata": {
      "needs_background": "light"
     },
     "output_type": "display_data"
    }
   ],
   "source": [
    "N=range(a,b)\n",
    "\n",
    "plt.figure()\n",
    "plt.plot(N,RunningTimeCatalanRecursive,'o-',label='recursive')\n",
    "plt.plot(N,RunningTimeCatalanNotRecursive,'o-',label='Non Recursive')\n",
    "plt.plot(N,RunningTimeCatC,'o-',label='CatC')\n",
    "plt.legend()\n",
    "plt.title(\"Execution Time of recursive vs non recursive function\")\n",
    "plt.xlabel(\"N\")\n",
    "plt.ylabel(\"Time\")"
   ]
  },
  {
   "cell_type": "markdown",
   "metadata": {},
   "source": [
    "<div markdown=1 class=\"Answers\"> \n",
    "Using the graph above, we can observe that the none recursive function is still the fastest to compute catalan numbers."
   ]
  },
  {
   "cell_type": "markdown",
   "metadata": {},
   "source": [
    "### A variant: Motzkin numbers\n",
    "\n",
    "The <i>Motzkin numbers</i> $m_0,m_1,m_2,\\dots$ are similar to Catalan numbers and defined by $m_0=m_1=1$ and for every $n\\geq 2$\n",
    "$$\n",
    "m_n=m_{n-1}+\\sum_{k=0}^{n-2}m_km_{n-2-k}.\n",
    "$$"
   ]
  },
  {
   "cell_type": "markdown",
   "metadata": {},
   "source": [
    "<div markdown=1 class=\"DoIt\"> **(Theory + SymPy)** \n",
    "1. Find the generating function $\\mathcal{M}(x)=\\sum_{n\\geq 0}m_nx^n$. \n",
    "2. Compare the radius of convergence of $\\mathcal{C}$ and $\\mathcal{M}$. Which sequence is growing fastest between $(c_n)$ and $(m_n)$?"
   ]
  },
  {
   "cell_type": "code",
   "execution_count": 50,
   "metadata": {},
   "outputs": [
    {
     "name": "stdout",
     "output_type": "stream",
     "text": [
      "[(-x - sqrt(-4*x**3 + x**2 - 2*x + 1) + 1)/(2*x**2), (-x + sqrt(-4*x**3 + x**2 - 2*x + 1) + 1)/(2*x**2)]\n"
     ]
    }
   ],
   "source": [
    "x = symbols('x')\n",
    "X= symbols('X')\n",
    "SeriesM= solve(x**2*X**2+x*X-X+x,X)\n",
    "print (SeriesM)"
   ]
  },
  {
   "cell_type": "markdown",
   "metadata": {},
   "source": [
    "<div markdown=1 class=\"Answers\">\n",
    "\n",
    "1. We know $\\mathcal{M}(x)=\\sum_{n\\geq 0}m_nx^n$ is a root for\n",
    "$x^2X^2 + x X - X + x$\n",
    "\n",
    "Where X is the unknown and $x$ is a parameter.\n",
    "\n",
    "Using Sympy, we find the following roots:\n",
    "$$\n",
    "r_1= \\frac{1 -x - \\sqrt{1 - 2 x-3x^2}}{2 x^2}\n",
    "$$\n",
    "\n",
    "$$\n",
    "r_2= \\frac{1 -x + \\sqrt{1 - 2 x-3x^2}}{2 x^2}\n",
    "$$\n",
    "Since ...\n",
    "we find:\n",
    "$$\n",
    "\\mathcal{M}(x) = r_1= \\frac{1 -x - \\sqrt{1 - 2 x-3x^2}}{2 x^2}\n",
    "$$\n",
    "\n"
   ]
  },
  {
   "cell_type": "code",
   "execution_count": 37,
   "metadata": {},
   "outputs": [
    {
     "name": "stdout",
     "output_type": "stream",
     "text": [
      "We find the first 10 Motzkin numbers:\n",
      "[1 + O(x), 1, 2, 4, 9, 21, 51, 127, 323, 835]\n"
     ]
    }
   ],
   "source": [
    "def mGF(n):\n",
    "    x= symbols('x')\n",
    "    m= (1-x-sqrt(1-2*x-3*x**2))/(2*x**2)\n",
    "    m_truncated = m.series(x,0,n+1)\n",
    "    return m_truncated.coeff(x**n)\n",
    "\n",
    "print('We find the first 10 Motzkin numbers:')\n",
    "l=[]\n",
    "for i in range (10):\n",
    "    l.append(mGF(i))\n",
    "print(l)"
   ]
  },
  {
   "cell_type": "markdown",
   "metadata": {},
   "source": [
    "<div markdown=1 class=\"Answers\"> \n",
    "1. The radius of convergence of $\\mathcal{M}(x)$ issuch that for x>$\\rho$, the function converges.\n",
    "we find:\n",
    "<i>i.e.</i> The radius of convergence $\\rho$ of $\\mathcal{M}(x)$ is such that $1-2 \\rho-3\\rho^2 = 0$\n",
    "\n",
    "Then: $\\rho = -1$ or $\\rho= 1/3$\n",
    "However, the function is stricly positive, hence $\\rho= 1/3$\n",
    "\n",
    "2. The exponential growth formula states that for every $\\varepsilon$ there are $\\mathcal{D_1}$, $\\mathcal{D_2}$ > 0 such that for n large enough:\n",
    "$$\n",
    "\\mathcal{D_1}(1/\\rho-\\varepsilon)^n \\leq \\mathcal{D_n} \\leq \\mathcal{D_n}(1/\\rho-\\varepsilon)^n\n",
    "$$\n",
    "\n",
    "$$\n",
    "\\mathcal{D_1}(3-\\varepsilon)^n \\leq \\mathcal{D_n} \\leq \\mathcal{D_2}(3+\\varepsilon)^n\n",
    "$$"
   ]
  },
  {
   "cell_type": "markdown",
   "metadata": {},
   "source": [
    "# Dealing with large Catalan numbers"
   ]
  },
  {
   "cell_type": "markdown",
   "metadata": {},
   "source": [
    "<a id=\"Bostan\"></a>\n",
    "## Catalan and modulos: the Bostan Conjecture"
   ]
  },
  {
   "cell_type": "markdown",
   "metadata": {},
   "source": [
    "<div markdown=1 class=\"DoIt\"> \n",
    "Alin Bostan (computer scientist at INRIA and Ecole Polytechnique) conjectured a few years ago <a href=\"http://www.mat.univie.ac.at/%7Eslc/wpapers/s80vortrag/bostan.pdf\">(see this link p.26)</a> that in basis 10 the last digit of $c_n$ is never $3$. So far this is still an open problem.<br>\n",
    "1. Check the conjecture for $1\\leq n\\leq 100$. The output should look like\n",
    "```python\n",
    "Catalan 1 mod 10 is 1: the Conjecture is True\n",
    "Catalan 2 mod 10 is 2: the Conjecture is True\n",
    "Catalan 3 mod 10 is 5: the Conjecture is True\n",
    "Catalan 4 mod 10 is 4: the Conjecture is True\n",
    "...\n",
    "```\n",
    "2. How to check the conjecture for very large values? Try for example with $7000\\leq n\\leq 7100$.<br>\n",
    "<i>(Hint: Be careful how you compute $c_n \\mod 10$, since $c_n$ grows very fast!)</i>\n"
   ]
  },
  {
   "cell_type": "code",
   "execution_count": 18,
   "metadata": {},
   "outputs": [
    {
     "name": "stdout",
     "output_type": "stream",
     "text": [
      "python Catalan 1 mod 10 is 1 :the Conjecture is True\n",
      "python Catalan 2 mod 10 is 2 :the Conjecture is True\n",
      "python Catalan 3 mod 10 is 5 :the Conjecture is True\n",
      "python Catalan 4 mod 10 is 4 :the Conjecture is True\n",
      "python Catalan 5 mod 10 is 2 :the Conjecture is True\n",
      "python Catalan 6 mod 10 is 2 :the Conjecture is True\n",
      "python Catalan 7 mod 10 is 9 :the Conjecture is True\n",
      "python Catalan 8 mod 10 is 0 :the Conjecture is True\n",
      "python Catalan 9 mod 10 is 2 :the Conjecture is True\n",
      "python Catalan 10 mod 10 is 6 :the Conjecture is True\n",
      "python Catalan 11 mod 10 is 6 :the Conjecture is True\n",
      "python Catalan 12 mod 10 is 2 :the Conjecture is True\n",
      "python Catalan 13 mod 10 is 0 :the Conjecture is True\n",
      "python Catalan 14 mod 10 is 0 :the Conjecture is True\n",
      "python Catalan 15 mod 10 is 5 :the Conjecture is True\n",
      "python Catalan 16 mod 10 is 0 :the Conjecture is True\n",
      "python Catalan 17 mod 10 is 0 :the Conjecture is True\n",
      "python Catalan 18 mod 10 is 0 :the Conjecture is True\n",
      "python Catalan 19 mod 10 is 0 :the Conjecture is True\n",
      "python Catalan 20 mod 10 is 0 :the Conjecture is True\n",
      "python Catalan 21 mod 10 is 0 :the Conjecture is True\n",
      "python Catalan 22 mod 10 is 0 :the Conjecture is True\n",
      "python Catalan 23 mod 10 is 0 :the Conjecture is True\n",
      "python Catalan 24 mod 10 is 4 :the Conjecture is True\n",
      "python Catalan 25 mod 10 is 2 :the Conjecture is True\n",
      "python Catalan 26 mod 10 is 2 :the Conjecture is True\n",
      "python Catalan 27 mod 10 is 4 :the Conjecture is True\n",
      "python Catalan 28 mod 10 is 0 :the Conjecture is True\n",
      "python Catalan 29 mod 10 is 8 :the Conjecture is True\n",
      "python Catalan 30 mod 10 is 4 :the Conjecture is True\n",
      "python Catalan 31 mod 10 is 9 :the Conjecture is True\n",
      "python Catalan 32 mod 10 is 8 :the Conjecture is True\n",
      "python Catalan 33 mod 10 is 0 :the Conjecture is True\n",
      "python Catalan 34 mod 10 is 4 :the Conjecture is True\n",
      "python Catalan 35 mod 10 is 2 :the Conjecture is True\n",
      "python Catalan 36 mod 10 is 2 :the Conjecture is True\n",
      "python Catalan 37 mod 10 is 4 :the Conjecture is True\n",
      "python Catalan 38 mod 10 is 0 :the Conjecture is True\n",
      "python Catalan 39 mod 10 is 0 :the Conjecture is True\n",
      "python Catalan 40 mod 10 is 0 :the Conjecture is True\n",
      "python Catalan 41 mod 10 is 0 :the Conjecture is True\n",
      "python Catalan 42 mod 10 is 0 :the Conjecture is True\n",
      "python Catalan 43 mod 10 is 0 :the Conjecture is True\n",
      "python Catalan 44 mod 10 is 0 :the Conjecture is True\n",
      "python Catalan 45 mod 10 is 0 :the Conjecture is True\n",
      "python Catalan 46 mod 10 is 0 :the Conjecture is True\n",
      "python Catalan 47 mod 10 is 0 :the Conjecture is True\n",
      "python Catalan 48 mod 10 is 0 :the Conjecture is True\n",
      "python Catalan 49 mod 10 is 2 :the Conjecture is True\n",
      "python Catalan 50 mod 10 is 6 :the Conjecture is True\n",
      "python Catalan 51 mod 10 is 6 :the Conjecture is True\n",
      "python Catalan 52 mod 10 is 2 :the Conjecture is True\n",
      "python Catalan 53 mod 10 is 0 :the Conjecture is True\n",
      "python Catalan 54 mod 10 is 4 :the Conjecture is True\n",
      "python Catalan 55 mod 10 is 2 :the Conjecture is True\n",
      "python Catalan 56 mod 10 is 2 :the Conjecture is True\n",
      "python Catalan 57 mod 10 is 4 :the Conjecture is True\n",
      "python Catalan 58 mod 10 is 0 :the Conjecture is True\n",
      "python Catalan 59 mod 10 is 2 :the Conjecture is True\n",
      "python Catalan 60 mod 10 is 6 :the Conjecture is True\n",
      "python Catalan 61 mod 10 is 6 :the Conjecture is True\n",
      "python Catalan 62 mod 10 is 2 :the Conjecture is True\n",
      "python Catalan 63 mod 10 is 5 :the Conjecture is True\n",
      "python Catalan 64 mod 10 is 0 :the Conjecture is True\n",
      "python Catalan 65 mod 10 is 0 :the Conjecture is True\n",
      "python Catalan 66 mod 10 is 0 :the Conjecture is True\n",
      "python Catalan 67 mod 10 is 0 :the Conjecture is True\n",
      "python Catalan 68 mod 10 is 0 :the Conjecture is True\n",
      "python Catalan 69 mod 10 is 0 :the Conjecture is True\n",
      "python Catalan 70 mod 10 is 0 :the Conjecture is True\n",
      "python Catalan 71 mod 10 is 0 :the Conjecture is True\n",
      "python Catalan 72 mod 10 is 0 :the Conjecture is True\n",
      "python Catalan 73 mod 10 is 0 :the Conjecture is True\n",
      "python Catalan 74 mod 10 is 0 :the Conjecture is True\n",
      "python Catalan 75 mod 10 is 0 :the Conjecture is True\n",
      "python Catalan 76 mod 10 is 0 :the Conjecture is True\n",
      "python Catalan 77 mod 10 is 0 :the Conjecture is True\n",
      "python Catalan 78 mod 10 is 0 :the Conjecture is True\n",
      "python Catalan 79 mod 10 is 0 :the Conjecture is True\n",
      "python Catalan 80 mod 10 is 0 :the Conjecture is True\n",
      "python Catalan 81 mod 10 is 0 :the Conjecture is True\n",
      "python Catalan 82 mod 10 is 0 :the Conjecture is True\n",
      "python Catalan 83 mod 10 is 0 :the Conjecture is True\n",
      "python Catalan 84 mod 10 is 0 :the Conjecture is True\n",
      "python Catalan 85 mod 10 is 0 :the Conjecture is True\n",
      "python Catalan 86 mod 10 is 0 :the Conjecture is True\n",
      "python Catalan 87 mod 10 is 0 :the Conjecture is True\n",
      "python Catalan 88 mod 10 is 0 :the Conjecture is True\n",
      "python Catalan 89 mod 10 is 0 :the Conjecture is True\n",
      "python Catalan 90 mod 10 is 0 :the Conjecture is True\n",
      "python Catalan 91 mod 10 is 0 :the Conjecture is True\n",
      "python Catalan 92 mod 10 is 0 :the Conjecture is True\n",
      "python Catalan 93 mod 10 is 0 :the Conjecture is True\n",
      "python Catalan 94 mod 10 is 0 :the Conjecture is True\n",
      "python Catalan 95 mod 10 is 0 :the Conjecture is True\n",
      "python Catalan 96 mod 10 is 0 :the Conjecture is True\n",
      "python Catalan 97 mod 10 is 0 :the Conjecture is True\n",
      "python Catalan 98 mod 10 is 0 :the Conjecture is True\n",
      "python Catalan 99 mod 10 is 0 :the Conjecture is True\n",
      "python Catalan 100 mod 10 is 0 :the Conjecture is True\n"
     ]
    }
   ],
   "source": [
    "for n in range (1,101):\n",
    "    if CatC(n)%10 != 3:\n",
    "        print 'python Catalan', n , 'mod 10 is', CatalanNotRecursive(n)%10, ':the Conjecture is', True\n",
    "    else:\n",
    "        print (False)"
   ]
  },
  {
   "cell_type": "markdown",
   "metadata": {},
   "source": [
    "<div markdown=1 class=\"Answers\"> \n",
    "\n",
    "1. The function always returns True, hence for \n",
    "$1\\leq n\\leq 100$\n",
    ", Alan Bostan's conjecture is true."
   ]
  },
  {
   "cell_type": "markdown",
   "metadata": {},
   "source": [
    "<div markdown=1 class=\"Answers\">\n",
    "\n",
    "2. For very large values like $7000\\leq n\\leq 7100$, you can use the code below:"
   ]
  },
  {
   "cell_type": "code",
   "execution_count": 67,
   "metadata": {},
   "outputs": [
    {
     "name": "stdout",
     "output_type": "stream",
     "text": [
      "7000\n",
      "python Catalan 7000 mod 10 is 4 :the Conjecture is True\n",
      "7001\n",
      "python Catalan 7001 mod 10 is 4 :the Conjecture is True\n",
      "7002\n",
      "python Catalan 7002 mod 10 is 8 :the Conjecture is True\n",
      "7003\n",
      "python Catalan 7003 mod 10 is 0 :the Conjecture is True\n",
      "7004\n",
      "python Catalan 7004 mod 10 is 6 :the Conjecture is True\n",
      "7005\n",
      "python Catalan 7005 mod 10 is 8 :the Conjecture is True\n",
      "7006\n",
      "python Catalan 7006 mod 10 is 8 :the Conjecture is True\n",
      "7007\n",
      "python Catalan 7007 mod 10 is 6 :the Conjecture is True\n",
      "7008\n",
      "python Catalan 7008 mod 10 is 0 :the Conjecture is True\n",
      "7009\n",
      "python Catalan 7009 mod 10 is 8 :the Conjecture is True\n",
      "7010\n",
      "python Catalan 7010 mod 10 is 4 :the Conjecture is True\n",
      "7011\n",
      "python Catalan 7011 mod 10 is 4 :the Conjecture is True\n",
      "7012\n",
      "python Catalan 7012 mod 10 is 8 :the Conjecture is True\n",
      "7013\n",
      "python Catalan 7013 mod 10 is 0 :the Conjecture is True\n",
      "7014\n",
      "python Catalan 7014 mod 10 is 0 :the Conjecture is True\n",
      "7015\n",
      "python Catalan 7015 mod 10 is 0 :the Conjecture is True\n",
      "7016\n",
      "python Catalan 7016 mod 10 is 0 :the Conjecture is True\n",
      "7017\n",
      "python Catalan 7017 mod 10 is 0 :the Conjecture is True\n",
      "7018\n",
      "python Catalan 7018 mod 10 is 0 :the Conjecture is True\n",
      "7019\n",
      "python Catalan 7019 mod 10 is 0 :the Conjecture is True\n",
      "7020\n",
      "python Catalan 7020 mod 10 is 0 :the Conjecture is True\n",
      "7021\n",
      "python Catalan 7021 mod 10 is 0 :the Conjecture is True\n",
      "7022\n",
      "python Catalan 7022 mod 10 is 0 :the Conjecture is True\n",
      "7023\n",
      "python Catalan 7023 mod 10 is 0 :the Conjecture is True\n",
      "7024\n",
      "python Catalan 7024 mod 10 is 6 :the Conjecture is True\n",
      "7025\n",
      "python Catalan 7025 mod 10 is 8 :the Conjecture is True\n",
      "7026\n",
      "python Catalan 7026 mod 10 is 8 :the Conjecture is True\n",
      "7027\n",
      "python Catalan 7027 mod 10 is 6 :the Conjecture is True\n",
      "7028\n",
      "python Catalan 7028 mod 10 is 0 :the Conjecture is True\n",
      "7029\n",
      "python Catalan 7029 mod 10 is 2 :the Conjecture is True\n",
      "7030\n",
      "python Catalan 7030 mod 10 is 6 :the Conjecture is True\n",
      "7031\n",
      "python Catalan 7031 mod 10 is 6 :the Conjecture is True\n",
      "7032\n",
      "python Catalan 7032 mod 10 is 2 :the Conjecture is True\n",
      "7033\n",
      "python Catalan 7033 mod 10 is 0 :the Conjecture is True\n",
      "7034\n",
      "python Catalan 7034 mod 10 is 6 :the Conjecture is True\n",
      "7035\n",
      "python Catalan 7035 mod 10 is 8 :the Conjecture is True\n",
      "7036\n",
      "python Catalan 7036 mod 10 is 8 :the Conjecture is True\n",
      "7037\n",
      "python Catalan 7037 mod 10 is 6 :the Conjecture is True\n",
      "7038\n",
      "python Catalan 7038 mod 10 is 0 :the Conjecture is True\n",
      "7039\n",
      "python Catalan 7039 mod 10 is 0 :the Conjecture is True\n",
      "7040\n",
      "python Catalan 7040 mod 10 is 0 :the Conjecture is True\n",
      "7041\n",
      "python Catalan 7041 mod 10 is 0 :the Conjecture is True\n",
      "7042\n",
      "python Catalan 7042 mod 10 is 0 :the Conjecture is True\n",
      "7043\n",
      "python Catalan 7043 mod 10 is 0 :the Conjecture is True\n",
      "7044\n",
      "python Catalan 7044 mod 10 is 0 :the Conjecture is True\n",
      "7045\n",
      "python Catalan 7045 mod 10 is 0 :the Conjecture is True\n",
      "7046\n",
      "python Catalan 7046 mod 10 is 0 :the Conjecture is True\n",
      "7047\n",
      "python Catalan 7047 mod 10 is 0 :the Conjecture is True\n",
      "7048\n",
      "python Catalan 7048 mod 10 is 0 :the Conjecture is True\n",
      "7049\n",
      "python Catalan 7049 mod 10 is 8 :the Conjecture is True\n",
      "7050\n",
      "python Catalan 7050 mod 10 is 4 :the Conjecture is True\n",
      "7051\n",
      "python Catalan 7051 mod 10 is 4 :the Conjecture is True\n",
      "7052\n",
      "python Catalan 7052 mod 10 is 8 :the Conjecture is True\n",
      "7053\n",
      "python Catalan 7053 mod 10 is 0 :the Conjecture is True\n",
      "7054\n",
      "python Catalan 7054 mod 10 is 6 :the Conjecture is True\n",
      "7055\n",
      "python Catalan 7055 mod 10 is 8 :the Conjecture is True\n",
      "7056\n",
      "python Catalan 7056 mod 10 is 8 :the Conjecture is True\n",
      "7057\n",
      "python Catalan 7057 mod 10 is 6 :the Conjecture is True\n",
      "7058\n",
      "python Catalan 7058 mod 10 is 0 :the Conjecture is True\n",
      "7059\n",
      "python Catalan 7059 mod 10 is 8 :the Conjecture is True\n",
      "7060\n",
      "python Catalan 7060 mod 10 is 4 :the Conjecture is True\n",
      "7061\n",
      "python Catalan 7061 mod 10 is 4 :the Conjecture is True\n",
      "7062\n",
      "python Catalan 7062 mod 10 is 8 :the Conjecture is True\n",
      "7063\n",
      "python Catalan 7063 mod 10 is 0 :the Conjecture is True\n",
      "7064\n",
      "python Catalan 7064 mod 10 is 0 :the Conjecture is True\n",
      "7065\n",
      "python Catalan 7065 mod 10 is 0 :the Conjecture is True\n",
      "7066\n",
      "python Catalan 7066 mod 10 is 0 :the Conjecture is True\n",
      "7067\n",
      "python Catalan 7067 mod 10 is 0 :the Conjecture is True\n",
      "7068\n",
      "python Catalan 7068 mod 10 is 0 :the Conjecture is True\n",
      "7069\n",
      "python Catalan 7069 mod 10 is 0 :the Conjecture is True\n",
      "7070\n",
      "python Catalan 7070 mod 10 is 0 :the Conjecture is True\n",
      "7071\n",
      "python Catalan 7071 mod 10 is 0 :the Conjecture is True\n",
      "7072\n",
      "python Catalan 7072 mod 10 is 0 :the Conjecture is True\n",
      "7073\n",
      "python Catalan 7073 mod 10 is 0 :the Conjecture is True\n",
      "7074\n",
      "python Catalan 7074 mod 10 is 0 :the Conjecture is True\n",
      "7075\n",
      "python Catalan 7075 mod 10 is 0 :the Conjecture is True\n",
      "7076\n",
      "python Catalan 7076 mod 10 is 0 :the Conjecture is True\n",
      "7077\n",
      "python Catalan 7077 mod 10 is 0 :the Conjecture is True\n",
      "7078\n",
      "python Catalan 7078 mod 10 is 0 :the Conjecture is True\n",
      "7079\n",
      "python Catalan 7079 mod 10 is 0 :the Conjecture is True\n",
      "7080\n",
      "python Catalan 7080 mod 10 is 0 :the Conjecture is True\n",
      "7081\n",
      "python Catalan 7081 mod 10 is 0 :the Conjecture is True\n",
      "7082\n",
      "python Catalan 7082 mod 10 is 0 :the Conjecture is True\n",
      "7083\n",
      "python Catalan 7083 mod 10 is 0 :the Conjecture is True\n",
      "7084\n",
      "python Catalan 7084 mod 10 is 0 :the Conjecture is True\n",
      "7085\n",
      "python Catalan 7085 mod 10 is 0 :the Conjecture is True\n",
      "7086\n",
      "python Catalan 7086 mod 10 is 0 :the Conjecture is True\n",
      "7087\n",
      "python Catalan 7087 mod 10 is 0 :the Conjecture is True\n",
      "7088\n",
      "python Catalan 7088 mod 10 is 0 :the Conjecture is True\n",
      "7089\n",
      "python Catalan 7089 mod 10 is 0 :the Conjecture is True\n",
      "7090\n",
      "python Catalan 7090 mod 10 is 0 :the Conjecture is True\n",
      "7091\n",
      "python Catalan 7091 mod 10 is 0 :the Conjecture is True\n",
      "7092\n",
      "python Catalan 7092 mod 10 is 0 :the Conjecture is True\n",
      "7093\n",
      "python Catalan 7093 mod 10 is 0 :the Conjecture is True\n",
      "7094\n",
      "python Catalan 7094 mod 10 is 0 :the Conjecture is True\n",
      "7095\n",
      "python Catalan 7095 mod 10 is 0 :the Conjecture is True\n",
      "7096\n",
      "python Catalan 7096 mod 10 is 0 :the Conjecture is True\n",
      "7097\n",
      "python Catalan 7097 mod 10 is 0 :the Conjecture is True\n",
      "7098\n",
      "python Catalan 7098 mod 10 is 0 :the Conjecture is True\n",
      "7099\n",
      "python Catalan 7099 mod 10 is 0 :the Conjecture is True\n"
     ]
    }
   ],
   "source": [
    "import sys\n",
    "sys.setrecursionlimit(8000)\n",
    "mem = {0:1, 1:1}\n",
    "def MemCatalanRecursive(n):\n",
    "    if n in mem:\n",
    "        return mem[n]\n",
    "    if n > 1:\n",
    "        Sum = 0\n",
    "        for k in range(0,n):\n",
    "            if not k in mem:\n",
    "                mem[k] = MemCatalanRecursive(k)\n",
    "            if not (n-1-k) in mem:\n",
    "                mem[n-1-k] = MemCatalanRecursive(n-1-k)\n",
    "            Sum += mem[k]*mem[n-1-k]\n",
    "    return Sum\n",
    "\n",
    "\n",
    "for n in range (7000,7100):\n",
    "    print(n)\n",
    "    #if MemCatalanRecursive(n)%10 != 3:\n",
    "    if E(n)%10 != 3:\n",
    "        print 'python Catalan', n , 'mod 10 is', E(n)%10, ':the Conjecture is', True\n",
    "    else:\n",
    "        print (False)"
   ]
  },
  {
   "cell_type": "markdown",
   "metadata": {},
   "source": [
    "<a id=\"Asymptotics\"></a>\n",
    "## The <i>length</i> of Catalan numbers"
   ]
  },
  {
   "cell_type": "markdown",
   "metadata": {},
   "source": [
    "It can be proved (this is beyond the level of Bachelor 2, a possible reference is p.384 in Ph.Flajolet, R.Sedgewick, <i>Analytic Combinatorics</i>) that for every $n$ we have\n",
    "$$\n",
    "\\frac{4^n}{\\sqrt{\\pi n^3}}\\big(1-\\frac{9}{8n}\\big) \\leq c_n \\leq \\frac{4^n}{\\sqrt{\\pi n^3}}, \\tag{App}\n",
    "$$\n",
    "which yields very good approximations when $n$ is large.\n",
    "We will use this approximation to estimate the <i>length</i> (<i>i.e.</i> the number of digits) of $c_n$ when $n$  is a power of ten."
   ]
  },
  {
   "cell_type": "markdown",
   "metadata": {},
   "source": [
    "<div markdown=1 class=\"DoIt\"> \n",
    "Consider the following table which records the <i>length</i> of $c_{10}$, $c_{100}$, $c_{1000}$,...\n",
    "\n",
    "\n",
    "<font size=\"+3\">\n",
    "<table>\n",
    "            <tr>\n",
    "                <td width=\"100\"> $c_{10^n}$</td>\n",
    "                <td > Number of digits of $c_{10^n}$</td>\n",
    "            </tr>\n",
    "            <tr>\n",
    "                <td width=\"100\"> $c_{10}$</td>\n",
    "                <td > 5</td>\n",
    "            </tr>\n",
    "            <tr>\n",
    "                <td width=\"100\"> $c_{100}$</td>\n",
    "                <td > 57</td>\n",
    "            </tr>\n",
    "            <tr>\n",
    "                <td width=\"100\"> $c_{10^3}$</td>\n",
    "                <td > 598</td>\n",
    "            </tr>\n",
    "            <tr>\n",
    "                <td width=\"100\"> $c_{10^4}$</td>\n",
    "                <td > 6015</td>\n",
    "            </tr>\n",
    "            <tr>\n",
    "                <td width=\"100\"> $c_{10^5}$</td>\n",
    "                <td > 60199</td>\n",
    "            </tr>\n",
    "            <tr>\n",
    "                <td width=\"100\"> $c_{10^6}$</td>\n",
    "                <td > 602051</td>\n",
    "            </tr>\n",
    "</table>\n",
    "</font>\n",
    "\n",
    "(For instance, $c_{10}=16796$ which has $5$ digits.)\n",
    "\n",
    "The goal is to complete the table. (An interesting challenge could be to break the record of <a href=\"https://oeis.org/A114466\">this sequence in the Online Encyclopedia of Integer Sequences</a>!)<br>\n",
    "For that purpose you have to\n",
    "1. **(Theory)** Find somewhere (or reprove) the formula which gives the number of digits of a given integer.\n",
    "2. Use this formula and python to complete the table. **Warning:** Do not try to explicitly compute $Cat_{10^n}$ since they grow too fast. Instead you need to figure out how to use equation (App) above."
   ]
  },
  {
   "cell_type": "markdown",
   "metadata": {},
   "source": [
    "<div markdown=1 class=\"Answers\">\n",
    "\n",
    "1. The formula which gives the number of digits of a given integer is:\n",
    "$$\n",
    "⌊log10𝑛⌋+1\n",
    "$$\n",
    "\n",
    "Proof:\n",
    "\n",
    "Let the number 𝑛 have i digits.\n",
    "Then $ 10i−1\\leq n < 10i$ , because 10i is the smallest integer with i+1 digits. Now take log base 10: $i−\\leq log10𝑛<i$. Let us take the integer part of that result using the floor function (getting rid of the decimal part of the number), you get \n",
    "$$\n",
    "i = ⌊log10𝑛⌋ +1\n",
    "$$\n",
    "."
   ]
  },
  {
   "cell_type": "code",
   "execution_count": 57,
   "metadata": {},
   "outputs": [
    {
     "name": "stdout",
     "output_type": "stream",
     "text": [
      "5.0\n",
      "57.0\n",
      "598.0\n",
      "6015.0\n",
      "60199.0\n",
      "602051.0\n",
      "6020590.0\n",
      "60205987.0\n",
      "602059978.0\n",
      "6020599898.0\n",
      "60205999117.0\n",
      "6.0205999131e+11\n",
      "6.02059991326e+12\n",
      "6.02059991328e+13\n",
      "6.02059991328e+14\n",
      "6.02059991328e+15\n",
      "6.02059991328e+16\n",
      "6.02059991328e+17\n",
      "6.02059991328e+18\n"
     ]
    }
   ],
   "source": [
    "def numdigits(n):\n",
    "    ub = (10**n)*log10(4)- (1/2)*log10(pi)- (3*n/2)*log10(10)\n",
    "    lb = ub +log10(1- (9/(8*(10**n))))\n",
    "    return round(ub)\n",
    "  \n",
    "for i in range(1, 20):\n",
    "    print(numdigits(i))"
   ]
  },
  {
   "cell_type": "markdown",
   "metadata": {},
   "source": [
    "<div markdown=1 class=\"Answers\">\n",
    "2. Using the formula and python, we can complete the table. Since $Cat_{10^n}$ grow too fast, I used equation (App) above and decomposed it in individual smaller calculations to be able to compute the number of digits of large numbers."
   ]
  },
  {
   "cell_type": "markdown",
   "metadata": {},
   "source": [
    "<div markdown=1 class=\"DoIt\">  **(Theory)** For larger and larger $n$'s the right column always begins with the same digits ($60205...$). Can you explain this pattern?\n",
    "\n",
    "(<i>Hint: Again, you should use equation </i>(App)<i>.</i>)"
   ]
  },
  {
   "cell_type": "markdown",
   "metadata": {},
   "source": [
    "<div markdown=1 class=\"Answers\">"
   ]
  },
  {
   "cell_type": "markdown",
   "metadata": {},
   "source": [
    "<a id=\"Combinatorial\"></a>\n",
    "# Three combinatorial interpretations of $c_n$"
   ]
  },
  {
   "cell_type": "markdown",
   "metadata": {},
   "source": [
    "<a id=\"Triangle\"></a>\n",
    "## Paths on a triangle"
   ]
  },
  {
   "cell_type": "markdown",
   "metadata": {},
   "source": [
    "Let $\\mathcal{T}\\subset \\mathbb{N}^2$ denote the infinite \"triangle\"\n",
    "$$\n",
    "\\mathcal{T}=\\big\\{(k,n),\\quad 0\\leq k\\leq n \\big\\}\n",
    "$$\n",
    "(see the figure below).\n",
    "\n",
    "For $(k,n) \\in \\mathcal{T}$ we denote by $P_{k,n}$ the number of paths such that:\n",
    "* the path starts at $(0,0)$ ends at $(n,k)$ and entirely lies inside $\\mathcal{T}$\n",
    "* the paths only takes unit steps in the North and East directions.\n",
    "\n",
    "For example this figure shows that $P_{2,3}=5$:\n",
    "\n",
    "<img src=\"figures/Escalier.jpg\" width='500px' >\n",
    "    "
   ]
  },
  {
   "cell_type": "markdown",
   "metadata": {},
   "source": [
    "<div markdown=1 class=\"DoIt\"> \n",
    "1. Write a function `Paths(K,N)` which returns a table (or a matrix) of all the values of $P_{k,n}$ for $k\\leq K, n\\leq N$.<br>\n",
    "<i>(Hint: Think recursive!)</i>\n",
    "2. Do you see on your table the connection with the Catalan numbers? **(Difficult)** Can you prove it?"
   ]
  },
  {
   "cell_type": "code",
   "execution_count": 31,
   "metadata": {},
   "outputs": [
    {
     "name": "stdout",
     "output_type": "stream",
     "text": [
      "[[0. 1. 1. 1.]\n",
      " [0. 1. 2. 3.]\n",
      " [0. 0. 2. 5.]]\n"
     ]
    }
   ],
   "source": [
    "def Path(k,n):\n",
    "    if n ==0:\n",
    "        return []\n",
    "    if k == 0:\n",
    "        return ['up '* n]\n",
    "    results = [[\"\"]]\n",
    "    nup = [[0]]\n",
    "    nright = [[0]]\n",
    "    for i in range(n+k+1):\n",
    "        results.append([])\n",
    "        nup.append([])\n",
    "        nright.append([])\n",
    "        for j in range(len(results[i])):\n",
    "            r = results[i][j]\n",
    "            if nup[i][j] < n:\n",
    "                results[i+1].append(r + \" up \")\n",
    "                nup[i+1].append(nup[i][j]+1)\n",
    "                nright[i+1].append(nright[i][j])\n",
    "            if nright[i][j] < k and nright[i][j] < nup[i][j]:\n",
    "                results[i+1].append(r + \" right \")\n",
    "                nup[i+1].append(nup[i][j])\n",
    "                nright[i+1].append(nright[i][j] + 1)\n",
    "    return results[-2]\n",
    "\n",
    "def Paths(K, N):\n",
    "    ret = np.zeros((K+1, N+1))\n",
    "    for i in range( K+1):\n",
    "        for j in range(N+1):\n",
    "            #print(i, j)\n",
    "            #print(len(Path(i, j)))\n",
    "            ret[i, j] = len(Path(i, j))\n",
    "    return ret\n",
    "\n",
    "\n",
    "print(Paths(2,3))"
   ]
  },
  {
   "cell_type": "markdown",
   "metadata": {},
   "source": [
    "<div markdown=1 class=\"Answers\">\n",
    "\n",
    "Using python, we can find the number of paths possible from $(0,0)$ to any $(n,k)$ desired. \n",
    "\n",
    "For example,  we can find in the matrix in position $(3,2)$ the number 5.\n",
    "\n",
    "This is the number of paths possible such that: the path starts at $(0,0)$ ends at $(3,2)$ and entirely lies inside $\\mathcal{T}$, taking only unit steps in the North and East directions."
   ]
  },
  {
   "cell_type": "markdown",
   "metadata": {},
   "source": [
    "<a id=\"Parentheses\"></a>\n",
    "##  Well-formed parentheses expressions\n",
    "\n",
    "It can be shown that $c_n$ counts the number of expressions containing $n$ pairs of parentheses which are <i>correctly matched</i>. For the first values we obtain\n",
    "$$\n",
    "\\begin{array}{r c c c c c}\n",
    "n=1: & ()   &       &     &     &      \\\\\n",
    "n=2: & (()) & ()()  &     &     &      \\\\\n",
    "n=3: & ((())) & (())()  &  ()(())    &  ()()()   &  (()())    \\\\\n",
    "\\end{array}\n",
    "$$"
   ]
  },
  {
   "cell_type": "markdown",
   "metadata": {},
   "source": [
    "<div markdown=1 class=\"DoIt\"> \n",
    "1. Write a recursive function `Parentheses(n)` which returns the list of all well-formed parentheses expressions with $n$ pairs of parentheses.\n",
    "2. Check for different values that the list has length $c_n$."
   ]
  },
  {
   "cell_type": "code",
   "execution_count": 65,
   "metadata": {},
   "outputs": [
    {
     "name": "stdout",
     "output_type": "stream",
     "text": [
      "For n = 1: (), length:1\n",
      "For n = 2: (()) ()(), length:2\n",
      "For n = 3: ((())) (()()) (())() ()(()) ()()(), length:5\n",
      "For n = 4: (((()))) ((()())) ((())()) ((()))() (()(())) (()()()) (()())() (())(()) (())()() ()((())) ()(()()) ()(())() ()()(()) ()()()(), length:14\n",
      "For n = 5, the length is:42\n",
      "For n = 6, the length is:132\n",
      "For n = 7, the length is:429\n",
      "For n = 8, the length is:1430\n",
      "For n = 9, the length is:4862\n"
     ]
    }
   ],
   "source": [
    "def Parentheses(n):\n",
    "    results = [[\"(\"]]\n",
    "    nopen = [[1]]\n",
    "    nclosed = [[0]]\n",
    "    for i in range(2 * n):\n",
    "        results.append([])\n",
    "        nopen.append([])\n",
    "        nclosed.append([])\n",
    "        for j in range(len(results[i])):\n",
    "            r = results[i][j]\n",
    "            if nopen[i][j] < n:\n",
    "                results[i+1].append(r + \"(\")\n",
    "                nopen[i+1].append(nopen[i][j]+1)\n",
    "                nclosed[i+1].append(nclosed[i][j])\n",
    "            if nclosed[i][j] < nopen[i][j]:\n",
    "                results[i+1].append(r + \")\")\n",
    "                nopen[i+1].append(nopen[i][j])\n",
    "                nclosed[i+1].append(nclosed[i][j] + 1)\n",
    "    return results[-2]\n",
    "\n",
    "for i in range(1, 5):\n",
    "    res = Parentheses(i)\n",
    "    print( \"For n = \" + str(i) +  \": \" + \" \".join(res) + \", length:\" +str(len(res)))\n",
    "\n",
    "for i in range(5, 10):\n",
    "    res = Parentheses(i)\n",
    "    print( \"For n = \" + str(i) + \", the length is:\" +str(len(res)))"
   ]
  },
  {
   "cell_type": "markdown",
   "metadata": {},
   "source": [
    "<div markdown=1 class=\"Answers\">\n",
    "\n",
    "After checking, we can notice the number of combinations is of length $c_n$."
   ]
  },
  {
   "cell_type": "markdown",
   "metadata": {},
   "source": [
    "<div markdown=1 class=\"DoIt\"> **(Theory)** Prove that the number of well-formed parentheses expressions is counted by Catalan numbers."
   ]
  },
  {
   "cell_type": "markdown",
   "metadata": {},
   "source": [
    "<div markdown=1 class=\"Answers\">\n",
    "\n",
    "Let us prove that the number of well- formed parentheses expressions is counted by Catalan numbers.\n",
    "\n",
    "Let p(n) denote the number of well- formed parentheses expressions.\n",
    "\n",
    "p(0) = 1 as there is only one way to arrange no parentheses.\n",
    "\n",
    "By the same logic, p(1)= 1.\n",
    "\n",
    "For n $\\geq$ 2, the first character has to be an open parentheses.\n",
    "Secondly, there will be a closed parentheses somewhere in the set corresponding to the first open one.\n",
    "\n",
    "In between that pair of parentheses can be a set 1 of up to n-1 pairs of parentheses, and after it another set 2 of up to n-1 pairs of parentheses:\n",
    "\n",
    "<i>i.e.</i> $(1)2$,\n",
    "\n",
    "Let us now assume the set 1 has k pairs, then the set 2 containe n-1-k pairs of parentheses.\n",
    "\n",
    "To count the number of combinations of well- formed parentheses expressions, we can let k varie between 0 and n-1.\n",
    "\n",
    "By summing the number of combinations, we get the following expression:\n",
    "\n",
    "$\n",
    "p_{n}=\\mathcal\\sum_{k=0}^{n-1} p_{k}p_{n-1-k}\n",
    "$\n",
    "\n",
    "We can observe that this is the same formula than the one to compute the catalan numbers.\n",
    "\n",
    "In conclusion, the number of well-formed parentheses expressions is counted by Catalan numbers."
   ]
  },
  {
   "cell_type": "markdown",
   "metadata": {},
   "source": [
    "<a id=\"Trees\"></a>\n",
    "## Binary trees\n",
    "\n",
    "A <i>binary tree</i> is a tree in which every internal node (in grey in above pictures) has exactly two children. Leaves (in green) have no children. The **size** of a binary tree is its number of internal nodes. There is one binary tree of size $1$, and two binary trees of size $2$, five binary trees of size $3$:\n",
    "<br>\n",
    "<img src=\"./figures/BinaryTree.jpg\" style=\"width: 700px;\"/>\n",
    "\n",
    "Let $t_n$ be the number of binary trees of size $n$, by convention we put $t_0=1$ (this corresponds to a leaf without any internal node)."
   ]
  },
  {
   "cell_type": "markdown",
   "metadata": {},
   "source": [
    "<div markdown=1 class=\"DoIt\"> \n",
    "**(Theory)** Prove that $t_n$ is the $n$-th Catalan number."
   ]
  },
  {
   "cell_type": "markdown",
   "metadata": {},
   "source": [
    "<div markdown=1 class=\"Answers\">\n",
    "\n",
    "We know the catalan numbers are denoted by:\n",
    "\n",
    "\\begin{align*}\n",
    "c_0&=1\\\\\n",
    "c_1&=1\\\\\n",
    "c_n&=\\sum_{k=0}^{n-1} c_kc_{n-1-k}=c_0c_{n-1}+c_1c_{n-2}+\\dots +c_{n-1}c_0 \\qquad (\\text{ for }n\\geq 2). \n",
    "\\end{align*}\n",
    "\n",
    "Which can also be rewritten as:\n",
    "\\begin{align*}\n",
    "c_0&=1\\\\\n",
    "c_1&=1\\\\\n",
    "c_{n+1}&=\\sum_{k=0}^{n} c_kc_{n-k}\n",
    "\\end{align*}\n",
    "\n",
    "\n",
    "Let $t_n$ denote the number of binary trees with 𝑛 internal nodes.\n",
    "\n",
    "We know by convention that $t_0=1$.\n",
    "\n",
    "The tree with zero parent nodes is the first one so we have $t_1=1$.\n",
    "\n",
    "Now let $n \\geq 2$.\n",
    "\n",
    "A tree 𝑡 with 𝑛 internal nodes has a root with two subtrees as children $t_{n-1}$ and $t_{n-2}$.\n",
    "Since the root of $t_{n}$ is a parent node, $t_{n-1}$ and $t_n$ must have 𝑛-1 parent nodes together\n",
    "(i.e. if $t_{n-1}$ has k parent nodes then $t_{n-2}$ has 𝑛−k parent nodes).\n",
    "Then the number of ways to make binary trees with 𝑛 internal nodes is:\n",
    "\n",
    "\\begin{align*}t_{n}&=\\sum_{k=0}^{n-1} t_kt_{n-1-k}\\end{align*}\n",
    "\n",
    "We can observe that this is the same formula than the one to compute the catalan numbers.\n",
    "\n",
    "In conclusion, the number of binary trees with 𝑛 internal nodes is counted by Catalan numbers."
   ]
  }
 ],
 "metadata": {
  "kernelspec": {
   "display_name": "Python 2",
   "language": "python",
   "name": "python2"
  },
  "language_info": {
   "codemirror_mode": {
    "name": "ipython",
    "version": 2
   },
   "file_extension": ".py",
   "mimetype": "text/x-python",
   "name": "python",
   "nbconvert_exporter": "python",
   "pygments_lexer": "ipython2",
   "version": "2.7.16"
  }
 },
 "nbformat": 4,
 "nbformat_minor": 2
}
