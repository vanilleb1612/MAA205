{
 "cells": [
  {
   "cell_type": "markdown",
   "metadata": {},
   "source": [
    "<img src='./figures/logo-ecole-polytechnique-ve.jpg' style='position:absolute; top:0; right:0;' width='100px' height='' alt='' />\n",
    "\n",
    "<center>**Bachelor of Ecole Polytechnique**</center>\n",
    "<center><i>Algorithms for Discrete Mathematics</i>, year 2, semester 1</center>\n",
    "\n",
    "# Arithmetic 2: Modulos and Fermat\n",
    "\n",
    "&nbsp;\n",
    "\n",
    "<!--<img src=\"./figures/Catalan.png\" alt=\"Roots\" style=\"width: 350px;\"/>\n",
    "\n",
    "&nbsp;\n",
    "<center><i>The <a href=\"https://en.wikipedia.org/wiki/Catalan_number\"><b>Catalan numbers</b></a> (see the last exercise) arise when one wants to enumerate <i>binary trees</i>.</i></center>-->"
   ]
  },
  {
   "cell_type": "markdown",
   "metadata": {},
   "source": [
    "## Table of contents\n",
    "\n",
    "- [Arithmetic of square root and continued fractions](#SquareRoot)\n",
    "- [Arithmetic of modulos](#Modulo)\n",
    "- [The little Fermat theorem](#SmallFermat)\n",
    "- [(Bonus) The Goldbach conjecture](#Goldbach)"
   ]
  },
  {
   "cell_type": "code",
   "execution_count": 4,
   "metadata": {},
   "outputs": [
    {
     "ename": "FileNotFoundError",
     "evalue": "[Errno 2] No such file or directory: './style/custom2.css'",
     "output_type": "error",
     "traceback": [
      "\u001b[0;31m---------------------------------------------------------------------------\u001b[0m",
      "\u001b[0;31mFileNotFoundError\u001b[0m                         Traceback (most recent call last)",
      "\u001b[0;32m<ipython-input-4-40354ea3d199>\u001b[0m in \u001b[0;36m<module>\u001b[0;34m\u001b[0m\n\u001b[1;32m      4\u001b[0m     \u001b[0mstyles\u001b[0m \u001b[0;34m=\u001b[0m \u001b[0mopen\u001b[0m\u001b[0;34m(\u001b[0m\u001b[0;34m\"./style/custom2.css\"\u001b[0m\u001b[0;34m)\u001b[0m\u001b[0;34m.\u001b[0m\u001b[0mread\u001b[0m\u001b[0;34m(\u001b[0m\u001b[0;34m)\u001b[0m\u001b[0;34m\u001b[0m\u001b[0;34m\u001b[0m\u001b[0m\n\u001b[1;32m      5\u001b[0m     \u001b[0;32mreturn\u001b[0m \u001b[0mHTML\u001b[0m\u001b[0;34m(\u001b[0m\u001b[0mstyles\u001b[0m\u001b[0;34m)\u001b[0m\u001b[0;34m\u001b[0m\u001b[0;34m\u001b[0m\u001b[0m\n\u001b[0;32m----> 6\u001b[0;31m \u001b[0mcss_styling\u001b[0m\u001b[0;34m(\u001b[0m\u001b[0;34m)\u001b[0m\u001b[0;34m\u001b[0m\u001b[0;34m\u001b[0m\u001b[0m\n\u001b[0m",
      "\u001b[0;32m<ipython-input-4-40354ea3d199>\u001b[0m in \u001b[0;36mcss_styling\u001b[0;34m()\u001b[0m\n\u001b[1;32m      2\u001b[0m \u001b[0;32mfrom\u001b[0m \u001b[0mIPython\u001b[0m\u001b[0;34m.\u001b[0m\u001b[0mcore\u001b[0m\u001b[0;34m.\u001b[0m\u001b[0mdisplay\u001b[0m \u001b[0;32mimport\u001b[0m \u001b[0mHTML\u001b[0m\u001b[0;34m\u001b[0m\u001b[0;34m\u001b[0m\u001b[0m\n\u001b[1;32m      3\u001b[0m \u001b[0;32mdef\u001b[0m \u001b[0mcss_styling\u001b[0m\u001b[0;34m(\u001b[0m\u001b[0;34m)\u001b[0m\u001b[0;34m:\u001b[0m\u001b[0;34m\u001b[0m\u001b[0;34m\u001b[0m\u001b[0m\n\u001b[0;32m----> 4\u001b[0;31m     \u001b[0mstyles\u001b[0m \u001b[0;34m=\u001b[0m \u001b[0mopen\u001b[0m\u001b[0;34m(\u001b[0m\u001b[0;34m\"./style/custom2.css\"\u001b[0m\u001b[0;34m)\u001b[0m\u001b[0;34m.\u001b[0m\u001b[0mread\u001b[0m\u001b[0;34m(\u001b[0m\u001b[0;34m)\u001b[0m\u001b[0;34m\u001b[0m\u001b[0;34m\u001b[0m\u001b[0m\n\u001b[0m\u001b[1;32m      5\u001b[0m     \u001b[0;32mreturn\u001b[0m \u001b[0mHTML\u001b[0m\u001b[0;34m(\u001b[0m\u001b[0mstyles\u001b[0m\u001b[0;34m)\u001b[0m\u001b[0;34m\u001b[0m\u001b[0;34m\u001b[0m\u001b[0m\n\u001b[1;32m      6\u001b[0m \u001b[0mcss_styling\u001b[0m\u001b[0;34m(\u001b[0m\u001b[0;34m)\u001b[0m\u001b[0;34m\u001b[0m\u001b[0;34m\u001b[0m\u001b[0m\n",
      "\u001b[0;31mFileNotFoundError\u001b[0m: [Errno 2] No such file or directory: './style/custom2.css'"
     ]
    }
   ],
   "source": [
    "# execute this part to modify the css style\n",
    "from IPython.core.display import HTML\n",
    "def css_styling():\n",
    "    styles = open(\"./style/custom2.css\").read()\n",
    "    return HTML(styles)\n",
    "css_styling()\n"
   ]
  },
  {
   "cell_type": "code",
   "execution_count": 12,
   "metadata": {},
   "outputs": [],
   "source": [
    "## loading python libraries\n",
    "\n",
    "# necessary to display plots inline:\n",
    "%matplotlib inline   \n",
    "\n",
    "# load the libraries\n",
    "import matplotlib.pyplot as plt # 2D plotting library\n",
    "import numpy as np              # package for scientific computing  \n",
    "from math import *              # package for mathematics (pi, arctan, sqrt, factorial ...)\n"
   ]
  },
  {
   "cell_type": "markdown",
   "metadata": {
    "collapsed": true
   },
   "source": [
    "<a id=\"SquareRoot\"></a>\n",
    "## Arithmetic with matrices"
   ]
  },
  {
   "cell_type": "markdown",
   "metadata": {},
   "source": [
    "The aim of this Section is to use linear algebra and python to compute <i>exact</i> expressions in Arithmetic."
   ]
  },
  {
   "cell_type": "markdown",
   "metadata": {},
   "source": [
    "<div markdown=1 class=\"DoIt\"> **(Theory)**\n",
    "1. Prove by induction that there exist integers $a_n,b_n$ such that for every $n\\geq 1$\n",
    "$$\n",
    "(1+\\sqrt{2})^n=a_n+b_n\\sqrt{2}.\n",
    "$$\n",
    "2. Find a $2\\times 2$ matrix $A$ such that\n",
    "$$\n",
    "\\binom{a_{n+1}}{b_{n+1}}=A\\times \\binom{a_{n}}{b_{n}}.\n",
    "$$\n"
   ]
  },
  {
   "cell_type": "markdown",
   "metadata": {},
   "source": [
    "<div markdown=1 class=\"Answers\"> \n",
    "1. \n",
    "2. By the above computation we have\n",
    "$$\n",
    "\\begin{cases}\n",
    "a_{n+1}&=...,\\\\\n",
    "b_{n+1}&=...,\n",
    "\\end{cases}\n",
    "$$\n",
    "which can be written as:\n",
    "$$\n",
    "\\binom{a_{n+1}}{b_{n+1}}=\n",
    "\\begin{pmatrix}\n",
    "... & ...\\\\\n",
    "... & ...\n",
    "\\end{pmatrix}\n",
    "\\times \\binom{a_{n}}{b_{n}}.\n",
    "$$\n"
   ]
  },
  {
   "cell_type": "markdown",
   "metadata": {},
   "source": [
    "<div markdown=1 class=\"DoIt\"> Using the powers of matrix $A$, write a small script which returns $a_{n},b_{n}$. <br>\n",
    "<i>(Recall that a $2\\times 2$ matrix can be defined by `np.matrix([[a,b],[c,d]])`.)</i><br>\n",
    "Your script should return something like\n",
    "```python\n",
    "(1+Root(2))^100 is 5608832401712713489 + 6304837579822865708 * SquareRoot(2)\n",
    "```\n"
   ]
  },
  {
   "cell_type": "code",
   "execution_count": 13,
   "metadata": {},
   "outputs": [
    {
     "name": "stdout",
     "output_type": "stream",
     "text": [
      "(1+Root(2))^100 is 5608832401712713489 + 6304837579822865708 * SquareRoot(2)\n"
     ]
    }
   ],
   "source": [
    "n=100\n",
    "MatrixA=np.matrix([[1,2],[1,1]])\n",
    "PowerofMatrix=(MatrixA**(n-1))*np.matrix([[1],[1]])\n",
    "a=np.asscalar(PowerofMatrix[0])\n",
    "b=np.asscalar(PowerofMatrix[1])\n",
    "print('(1+Root(2))^'+str(n)+' is '+str(a)+' + '+str(b)+' * SquareRoot(2)')\n",
    "\n",
    "# Your code here"
   ]
  },
  {
   "cell_type": "markdown",
   "metadata": {},
   "source": [
    "<div markdown=1 class=\"DoIt\"> \n",
    "It can be proved that\n",
    "$$\n",
    "a_n \\stackrel{n\\to +\\infty}{\\sim} c R^n\n",
    "$$\n",
    "for some constants $c,R$. \n",
    "1. Estimate $R$ numerically with a plot. Can you guess the exact value?\n",
    "2. Estimate $c$ numerically."
   ]
  },
  {
   "cell_type": "markdown",
   "metadata": {},
   "source": [
    "<div markdown=1 class=\"Answers\"><br> \n",
    "1.<br>\n",
    "2."
   ]
  },
  {
   "cell_type": "code",
   "execution_count": 15,
   "metadata": {},
   "outputs": [
    {
     "name": "stdout",
     "output_type": "stream",
     "text": [
      "Final value: 2.380302846916492\n"
     ]
    },
    {
     "data": {
      "image/png": "[encoded data removed]",
      "text/plain": [
       "<Figure size 432x288 with 1 Axes>"
      ]
     },
     "metadata": {
      "needs_background": "light"
     },
     "output_type": "display_data"
    },
    {
     "name": "stdout",
     "output_type": "stream",
     "text": [
      "Final value: 2.380302846916492\n"
     ]
    }
   ],
   "source": [
    "# Your code here\n",
    "def Coefficient_a(n):\n",
    "    MatrixA=np.matrix([[1,2],[1,1]])\n",
    "    PowerofMatrix=(MatrixA**(n-1))*np.matrix([[1],[1]])\n",
    "    return np.asscalar(PowerofMatrix[0])\n",
    "\n",
    "N=50\n",
    "# Estimation of R:\n",
    "RenormalizedValues=[Coefficient_a(n)**(1/(n+0.0)) for n in range(1,N)]\n",
    "print('Final value: ' +str(RenormalizedValues[-1]) )\n",
    "\n",
    "# Estimation of c:\n",
    "#RenormalizedValues=[Coefficient_a(n)/((1+np.sqrt(2))**n) for n in range(1,N)]\n",
    "plt.plot(RenormalizedValues)\n",
    "\n",
    "plt.show()\n",
    "print('Final value: '+str(RenormalizedValues[-1]))\n"
   ]
  },
  {
   "cell_type": "markdown",
   "metadata": {},
   "source": [
    "<div markdown=1 class=\"DoIt\"><br>\n",
    "\n",
    "We set\n",
    "$$\n",
    "u_1=\\frac{1}{1+1}, \\quad u_2=\\frac{1}{1+\\frac{1}{1+1}},\\quad u_3=\\frac{1}{1+\\frac{1}{1+\\frac{1}{1+1}}}, \\quad u_4=\\frac{1}{1+\\frac{1}{1+\\frac{1}{1+\\frac{1}{1+1}}}}, \\dots\n",
    "$$\n",
    "\n",
    "1. **(Theory)** Let us write $u_n$ as an integer ratio $u_n=a_n/b_n$ (for example $a_1=1,b_1=2$, you can check $a_3=3,b_3=5$). Find a $2\\times 2$ matrix $B$ such that\n",
    "$$\n",
    "\\binom{a_{n+1}}{b_{n+1}}=B\\times \\binom{a_{n}}{b_{n}}.\n",
    "$$\n",
    "<i>(Hint: Find a simple relation between $u_{n+1}$ and $u_n$.)</i>\n",
    "2. <b>(Application)</b> Compute the exact value (as a fraction) of\n",
    "$$\n",
    "r=\\frac{1}{1+\\frac{1}{1+\\frac{1}{1+\\frac{1}{1+\\frac{1}{1+\\frac{1}{1+\\frac{1}{1+\\frac{1}{1+\\frac{1}{1+\\frac{1}{1+1}}}}}}}}}}.\n",
    "$$\n",
    "\n",
    "3. **(Side question)** Compute a numerical evaluation of $1+r$. Does it look familiar?"
   ]
  },
  {
   "cell_type": "markdown",
   "metadata": {},
   "source": [
    "<div markdown=1 class=\"Answers\"> \n",
    "1. \n",
    "2. \n",
    "3. "
   ]
  },
  {
   "cell_type": "code",
   "execution_count": 16,
   "metadata": {},
   "outputs": [
    {
     "name": "stdout",
     "output_type": "stream",
     "text": [
      "-----------\n",
      "Question 2:\n",
      "r =89 / 144\n",
      "-----------\n",
      "Question 3:\n",
      "1+r = 1.6180555555555556\n"
     ]
    }
   ],
   "source": [
    "# Script for Question 2.\n",
    "\n",
    "MatrixB=np.matrix([[0,1],[1,1]])\n",
    "PowerofMatrix=(MatrixB**(9))*np.matrix([[1],[2]])\n",
    "a=np.asscalar(PowerofMatrix[0])\n",
    "b=np.asscalar(PowerofMatrix[1])\n",
    "print('-----------')\n",
    "print('Question 2:')\n",
    "print('r =' +str(a)+' / '+str(b))\n",
    "\n",
    "# Script for Question 3.\n",
    "print('-----------')\n",
    "print('Question 3:')\n",
    "print('1+r = ' +str(1+(a+0.0)/b))\n",
    "\n",
    "\n"
   ]
  },
  {
   "cell_type": "markdown",
   "metadata": {
    "collapsed": true
   },
   "source": [
    "<a id=\"Modulo\"></a>\n",
    "## Arithmetic of modulos"
   ]
  },
  {
   "cell_type": "markdown",
   "metadata": {
    "collapsed": true
   },
   "source": [
    "<!--Recall the <i>modulo</i> notation: we write\n",
    "\n",
    "$$\n",
    "a\\equiv b\\ (\\mathrm{mod}\\ n)\n",
    "$$\n",
    "\n",
    "if $a-b$ is a multiple of $n$, <i>i.e.</i> if there is an integer $k$ such that $a=b+kn$. Recall the two following rules:\n",
    "\n",
    "1. (Compatibility with addition)\n",
    "\n",
    "$$\n",
    "\\begin{cases}\n",
    "a\\equiv b &(\\mathrm{mod}\\ n)\\\\\n",
    "x\\equiv y &(\\mathrm{mod}\\ n)\n",
    "\\end{cases}\n",
    "\\Rightarrow a+x\\equiv b+y\\ (\\mathrm{mod}\\ n)\n",
    "$$\n",
    "1. (Compatibility with product)\n",
    "\n",
    "$$\n",
    "\\begin{cases}\n",
    "a\\equiv b &(\\mathrm{mod}\\ n)\\\\\n",
    "x\\equiv y &(\\mathrm{mod}\\ n)\n",
    "\\end{cases}\n",
    "\\Rightarrow ax\\equiv by\\ (\\mathrm{mod}\\ n)\n",
    "$$-->"
   ]
  },
  {
   "cell_type": "markdown",
   "metadata": {},
   "source": [
    "<div markdown=1 class=\"DoIt\"> \n",
    "Write a script which computes $38911^{21025413}\\ (\\mathrm{mod}\\ 188)$. (Explain in the cell below the successive steps.)\n"
   ]
  },
  {
   "cell_type": "code",
   "execution_count": 23,
   "metadata": {},
   "outputs": [
    {
     "name": "stdout",
     "output_type": "stream",
     "text": [
      "38911 = 183 mod(188) =:k\n",
      "for i=1 we have k**i mod(188) = 183\n",
      "for i=2 we have k**i mod(188) = 25\n",
      "for i=3 we have k**i mod(188) = 63\n",
      "for i=4 we have k**i mod(188) = 61\n",
      "for i=5 we have k**i mod(188) = 71\n",
      "for i=6 we have k**i mod(188) = 21\n",
      "for i=7 we have k**i mod(188) = 83\n",
      "for i=8 we have k**i mod(188) = 149\n",
      "for i=9 we have k**i mod(188) = 7\n",
      "for i=10 we have k**i mod(188) = 153\n",
      "for i=11 we have k**i mod(188) = 175\n",
      "for i=12 we have k**i mod(188) = 65\n",
      "for i=13 we have k**i mod(188) = 51\n",
      "for i=14 we have k**i mod(188) = 121\n",
      "for i=15 we have k**i mod(188) = 147\n",
      "for i=16 we have k**i mod(188) = 17\n",
      "for i=17 we have k**i mod(188) = 103\n",
      "for i=18 we have k**i mod(188) = 49\n",
      "for i=19 we have k**i mod(188) = 131\n",
      "for i=20 we have k**i mod(188) = 97\n",
      "for i=21 we have k**i mod(188) = 79\n",
      "for i=22 we have k**i mod(188) = 169\n",
      "for i=23 we have k**i mod(188) = 95\n",
      "for i=24 we have k**i mod(188) = 89\n",
      "for i=25 we have k**i mod(188) = 119\n",
      "for i=26 we have k**i mod(188) = 157\n",
      "for i=27 we have k**i mod(188) = 155\n",
      "for i=28 we have k**i mod(188) = 165\n",
      "for i=29 we have k**i mod(188) = 115\n",
      "for i=30 we have k**i mod(188) = 177\n",
      "for i=31 we have k**i mod(188) = 55\n",
      "for i=32 we have k**i mod(188) = 101\n",
      "for i=33 we have k**i mod(188) = 59\n",
      "for i=34 we have k**i mod(188) = 81\n",
      "for i=35 we have k**i mod(188) = 159\n",
      "for i=36 we have k**i mod(188) = 145\n",
      "for i=37 we have k**i mod(188) = 27\n",
      "for i=38 we have k**i mod(188) = 53\n",
      "for i=39 we have k**i mod(188) = 111\n",
      "for i=40 we have k**i mod(188) = 9\n",
      "for i=41 we have k**i mod(188) = 143\n",
      "for i=42 we have k**i mod(188) = 37\n",
      "for i=43 we have k**i mod(188) = 3\n",
      "for i=44 we have k**i mod(188) = 173\n",
      "for i=45 we have k**i mod(188) = 75\n",
      "for i=46 we have k**i mod(188) = 1\n",
      "We have that 21025413%46 = 9\n",
      "The final answer is 183**9 (mod 188) =7\n"
     ]
    }
   ],
   "source": [
    "# Your code here\n",
    "k=38911%188\n",
    "print('38911 = '+str(k)+ ' mod(188) =:k')\n",
    "FoundAPeriod=False\n",
    "i=0\n",
    "while FoundAPeriod == False:\n",
    "    i=i+1\n",
    "    remainder = (k**i)%188\n",
    "    print('for i='+str(i)+' we have k**i mod(188) = '+str(remainder))\n",
    "    if remainder == 1:\n",
    "        FoundAPeriod = True\n",
    "\n",
    "print('We have that 21025413%'+str(i)+' = '+str(21025413%i))    \n",
    "print('The final answer is '+str(k)+'**'+str(21025413%i)+' (mod 188) ='+str((183**9)%188))\n"
   ]
  },
  {
   "cell_type": "markdown",
   "metadata": {},
   "source": [
    "<div markdown=1 class=\"Answers\"> "
   ]
  },
  {
   "cell_type": "markdown",
   "metadata": {},
   "source": [
    "<a id=\"SmallFermat\"></a>\n",
    "# The little Fermat theorem"
   ]
  },
  {
   "cell_type": "markdown",
   "metadata": {},
   "source": [
    "The \"little\" Fermat Theorem states the following:<br><br>\n",
    "**Theorem**<br>\n",
    "<i> Let $p$ be a prime number. \n",
    "For every integer $1\\leq a<p$, we have\n",
    "<br>\n",
    "$$\n",
    "a^{p-1}\\equiv 1 (\\mathrm{mod}\\ p).\n",
    "$$ \n",
    "</i>\n",
    "\n",
    "<br>\n",
    "<font size=\"-1\">(In the sequel we will use the above formulation rather than \"for every $a\\geq 0$, we have $a^{p}\\equiv a (\\mathrm{mod}\\ p)$\".)</font>"
   ]
  },
  {
   "cell_type": "markdown",
   "metadata": {},
   "source": [
    "<div markdown=1 class=\"DoIt\"> \n",
    "Write a script which checks that the little Fermat Theorem is true for $p=17$."
   ]
  },
  {
   "cell_type": "code",
   "execution_count": 26,
   "metadata": {},
   "outputs": [
    {
     "name": "stdout",
     "output_type": "stream",
     "text": [
      "for a = 1, a^{p-1} mod p =1\n",
      "for a = 2, a^{p-1} mod p =1\n",
      "for a = 3, a^{p-1} mod p =1\n",
      "for a = 4, a^{p-1} mod p =1\n",
      "for a = 5, a^{p-1} mod p =1\n",
      "for a = 6, a^{p-1} mod p =1\n",
      "for a = 7, a^{p-1} mod p =1\n",
      "for a = 8, a^{p-1} mod p =1\n",
      "for a = 9, a^{p-1} mod p =1\n",
      "for a = 10, a^{p-1} mod p =1\n",
      "for a = 11, a^{p-1} mod p =1\n",
      "for a = 12, a^{p-1} mod p =1\n",
      "for a = 13, a^{p-1} mod p =1\n",
      "for a = 14, a^{p-1} mod p =1\n",
      "for a = 15, a^{p-1} mod p =1\n",
      "for a = 16, a^{p-1} mod p =1\n",
      "Fermat theorem is true for n = 17\n"
     ]
    }
   ],
   "source": [
    "p=17\n",
    "Check=True\n",
    "for a in range(1,p):\n",
    "    Value= a**(p-1)%p\n",
    "    print('for a = '+str(a)+', a^{p-1} mod p ='+str(Value))\n",
    "    if Value != 1:\n",
    "        Check=False\n",
    "if Check==True:\n",
    "    print('Fermat theorem is true for n = '+str(p))\n",
    "else:\n",
    "    print('Fermat theorem is not true for n = '+str(p))     \n",
    "     # Your code here"
   ]
  },
  {
   "cell_type": "markdown",
   "metadata": {},
   "source": [
    "We say that $n$ is <i>composite</i> if $n$ is not prime. The contraposition of the little Fermat Theorem is very useful: it says that<br>\n",
    "$$\n",
    "\\left(\\text{there exists $a<p$ such that } a^{p-1}\\not\\equiv 1\\ (\\mathrm{mod}\\ n) \\right)\\Rightarrow p\\text{ is composite}.\n",
    "$$\n",
    "<br>\n",
    "In this case, we say that $a$ is a <i>Fermat witness</i> for (the non-primeness of) $p$. For example, you can check that<br>\n",
    "$$\n",
    "2^{15-1}=16384\\equiv 4\\ (\\mathrm{mod}\\ 15) \\not\\equiv 1 (\\mathrm{mod}\\ 15)\n",
    "$$\n",
    "<br>\n",
    "(and of course $15$ is composite). Therefore $a=2$ is a Fermat witness for $p=15$, and this is a (somehow convoluted) proof of the fact that $15$ is composite.\n"
   ]
  },
  {
   "cell_type": "markdown",
   "metadata": {},
   "source": [
    "<div markdown=1 class=\"DoIt\"> \n",
    "1. Check that for every composite $n\\leq 60$ then $a=2$ is a Fermat witness for $n$. The output should look like\n",
    "```python\n",
    "n = 2 is prime\n",
    "n = 3 is prime\n",
    "n = 4 is composite and 2 is a Fermat witness\n",
    "n = 5 is prime\n",
    "n = 6 is composite and 2 is a Fermat witness\n",
    "...\n",
    "```\n",
    "<i>(You can copy/paste your function `IsPrime()` from Notebook 1.)</i>\n",
    "2. Find the smallest composite $n$ such that $a=2$ is not a Fermat witness for $n$.\n",
    "3. Same question with $a=3$.\n"
   ]
  },
  {
   "cell_type": "code",
   "execution_count": 5,
   "metadata": {},
   "outputs": [],
   "source": [
    "# Question 1\n",
    "\n",
    "# Your code here\n",
    "\n",
    "# Question 2    \n",
    "\n",
    "# Your code here\n"
   ]
  },
  {
   "cell_type": "markdown",
   "metadata": {},
   "source": [
    "<div markdown=1 class=\"DoIt\"> \n",
    "Find the smallest Fermat witness which proves that $1105$ is not prime.\n"
   ]
  },
  {
   "cell_type": "code",
   "execution_count": 6,
   "metadata": {},
   "outputs": [],
   "source": [
    "# Your code here"
   ]
  },
  {
   "cell_type": "markdown",
   "metadata": {},
   "source": [
    "<a id=\"FermatPrimes\"></a>\n",
    "## Fermat prime numbers"
   ]
  },
  {
   "cell_type": "markdown",
   "metadata": {},
   "source": [
    "A <i>Fermat number</i> is an integer of the form $F_n=2^{2^n}+1$ for some $n\\geq 0$. First Fermat numbers are given by \n",
    "<br> \n",
    "$$\n",
    "F_0=2^1+1=3,\\quad F_1=2^2+1=5,\\quad F_2=2^4+1=17,\\quad, F_3=2^8+1=257.\n",
    "$$"
   ]
  },
  {
   "cell_type": "markdown",
   "metadata": {},
   "source": [
    "<div markdown=1 class=\"DoIt\"> \n",
    "Fermat conjectured that every Fermat number is prime. Can you test his conjecture up to $n=8$? "
   ]
  },
  {
   "cell_type": "code",
   "execution_count": 7,
   "metadata": {},
   "outputs": [],
   "source": [
    "# Your code here"
   ]
  },
  {
   "cell_type": "markdown",
   "metadata": {},
   "source": [
    "<a id=\"Goldbach\"></a>\n",
    "## (Bonus) The Goldbach conjecture\n",
    "\n",
    "Goldbach's conjecture is one of the most famous unsolved problems in number theory. It states that\n",
    "<br><br>\n",
    "<center>\n",
    "    <i>Every even integer $\\geq 2$ can be written as the sum of two primes.</i>\n",
    "</center>\n",
    "<br>\n",
    "We will try to check the conjecture."
   ]
  },
  {
   "cell_type": "markdown",
   "metadata": {},
   "source": [
    "<div markdown=1 class=\"DoIt\"> Write a script which checks the conjecture for every $M\\leq n \\leq N$ (and returns a decomposition for every $n$).\n",
    "<br><br>\n",
    "For $M=60,N=70$ you should get something like\n",
    "```python\n",
    "For n = 60, we have 60 = 7 + 53, Goldbach is true\n",
    "For n = 62, we have 62 = 3 + 59, Goldbach is true\n",
    "For n = 64, we have 64 = 3 + 61, Goldbach is true\n",
    "For n = 66, we have 66 = 5 + 61, Goldbach is true\n",
    "For n = 68, we have 68 = 7 + 61, Goldbach is true\n",
    "For n = 70, we have 70 = 3 + 67, Goldbach is true\n",
    "```"
   ]
  },
  {
   "cell_type": "code",
   "execution_count": 8,
   "metadata": {},
   "outputs": [],
   "source": [
    "# Your code here"
   ]
  },
  {
   "cell_type": "code",
   "execution_count": null,
   "metadata": {},
   "outputs": [],
   "source": []
  }
 ],
 "metadata": {
  "kernelspec": {
   "display_name": "Python 3",
   "language": "python",
   "name": "python3"
  },
  "language_info": {
   "codemirror_mode": {
    "name": "ipython",
    "version": 3
   },
   "file_extension": ".py",
   "mimetype": "text/x-python",
   "name": "python",
   "nbconvert_exporter": "python",
   "pygments_lexer": "ipython3",
   "version": "3.7.1"
  }
 },
 "nbformat": 4,
 "nbformat_minor": 2
}
