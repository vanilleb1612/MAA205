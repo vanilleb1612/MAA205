{
 "cells": [
  {
   "cell_type": "markdown",
   "metadata": {},
   "source": [
    "<img src='./figures/logo-ecole-polytechnique-ve.jpg' style='position:absolute; top:0; right:0;' width='100px' height='' alt='' />\n",
    "\n",
    "<center>**Bachelor of Ecole Polytechnique**</center>\n",
    "<center>Computational Mathematics, year 2, semester 1</center>\n",
    "<center>Lecturer: Lucas Gerin <a href=\"mailto:lucas.gerin@polytechnique.edu\">(send mail)</a></center>\n",
    "\n",
    "\n",
    "# Project 1: Catalan numbers\n",
    "\n",
    "<div markdown=1 class=Abstract>\n",
    "* 30% Recursion\n",
    "* 20% Combinatorics\n",
    "* 20% Asymptotics\n",
    "* 10% Generating functions\n",
    "* 10% Arithmetic\n",
    "* 10% SymPy"
   ]
  },
  {
   "cell_type": "markdown",
   "metadata": {},
   "source": [
    "## Table of contents\n",
    "\n",
    "- [Computing Catalan numbers](#Computing)\n",
    "- Dealing with large Catalan numbers\n",
    "  * [Catalan and modulos: the Bostan Conjecture](#Bostan)\n",
    "  * [Length of Catalan numbers](#Asymptotics)\n",
    "- [Catalan and generating functions](#CatalanGF)\n",
    "- [Combinatorial interpretations of Catalan numbers](#Combinatorial)\n",
    "  * [Paths in a triangle](#Triangle)\n",
    "  * [Well-formed parentheses expressions](#Parentheses)\n",
    "  * [Binary trees](#Trees)\n"
   ]
  },
  {
   "cell_type": "code",
   "execution_count": 2,
   "metadata": {},
   "outputs": [
    {
     "ename": "IOError",
     "evalue": "[Errno 2] No such file or directory: './style/customProject.css'",
     "output_type": "error",
     "traceback": [
      "\u001b[0;31m---------------------------------------------------------------------------\u001b[0m",
      "\u001b[0;31mIOError\u001b[0m                                   Traceback (most recent call last)",
      "\u001b[0;32m<ipython-input-2-e7c9f2c3a3fa>\u001b[0m in \u001b[0;36m<module>\u001b[0;34m()\u001b[0m\n\u001b[1;32m      4\u001b[0m     \u001b[0mstyles\u001b[0m \u001b[0;34m=\u001b[0m \u001b[0mopen\u001b[0m\u001b[0;34m(\u001b[0m\u001b[0;34m\"./style/customProject.css\"\u001b[0m\u001b[0;34m)\u001b[0m\u001b[0;34m.\u001b[0m\u001b[0mread\u001b[0m\u001b[0;34m(\u001b[0m\u001b[0;34m)\u001b[0m\u001b[0;34m\u001b[0m\u001b[0m\n\u001b[1;32m      5\u001b[0m     \u001b[0;32mreturn\u001b[0m \u001b[0mHTML\u001b[0m\u001b[0;34m(\u001b[0m\u001b[0mstyles\u001b[0m\u001b[0;34m)\u001b[0m\u001b[0;34m\u001b[0m\u001b[0m\n\u001b[0;32m----> 6\u001b[0;31m \u001b[0mcss_styling\u001b[0m\u001b[0;34m(\u001b[0m\u001b[0;34m)\u001b[0m\u001b[0;34m\u001b[0m\u001b[0m\n\u001b[0m",
      "\u001b[0;32m<ipython-input-2-e7c9f2c3a3fa>\u001b[0m in \u001b[0;36mcss_styling\u001b[0;34m()\u001b[0m\n\u001b[1;32m      2\u001b[0m \u001b[0;32mfrom\u001b[0m \u001b[0mIPython\u001b[0m\u001b[0;34m.\u001b[0m\u001b[0mcore\u001b[0m\u001b[0;34m.\u001b[0m\u001b[0mdisplay\u001b[0m \u001b[0;32mimport\u001b[0m \u001b[0mHTML\u001b[0m\u001b[0;34m\u001b[0m\u001b[0m\n\u001b[1;32m      3\u001b[0m \u001b[0;32mdef\u001b[0m \u001b[0mcss_styling\u001b[0m\u001b[0;34m(\u001b[0m\u001b[0;34m)\u001b[0m\u001b[0;34m:\u001b[0m\u001b[0;34m\u001b[0m\u001b[0m\n\u001b[0;32m----> 4\u001b[0;31m     \u001b[0mstyles\u001b[0m \u001b[0;34m=\u001b[0m \u001b[0mopen\u001b[0m\u001b[0;34m(\u001b[0m\u001b[0;34m\"./style/customProject.css\"\u001b[0m\u001b[0;34m)\u001b[0m\u001b[0;34m.\u001b[0m\u001b[0mread\u001b[0m\u001b[0;34m(\u001b[0m\u001b[0;34m)\u001b[0m\u001b[0;34m\u001b[0m\u001b[0m\n\u001b[0m\u001b[1;32m      5\u001b[0m     \u001b[0;32mreturn\u001b[0m \u001b[0mHTML\u001b[0m\u001b[0;34m(\u001b[0m\u001b[0mstyles\u001b[0m\u001b[0;34m)\u001b[0m\u001b[0;34m\u001b[0m\u001b[0m\n\u001b[1;32m      6\u001b[0m \u001b[0mcss_styling\u001b[0m\u001b[0;34m(\u001b[0m\u001b[0;34m)\u001b[0m\u001b[0;34m\u001b[0m\u001b[0m\n",
      "\u001b[0;31mIOError\u001b[0m: [Errno 2] No such file or directory: './style/customProject.css'"
     ]
    }
   ],
   "source": [
    "# execute this part to modify the css style\n",
    "from IPython.core.display import HTML\n",
    "def css_styling():\n",
    "    styles = open(\"./style/customProject.css\").read()\n",
    "    return HTML(styles)\n",
    "css_styling()\n"
   ]
  },
  {
   "cell_type": "code",
   "execution_count": 3,
   "metadata": {},
   "outputs": [],
   "source": [
    "## loading python libraries\n",
    "\n",
    "# necessary to display plots inline:\n",
    "%matplotlib inline   \n",
    "\n",
    "# load the libraries\n",
    "import matplotlib.pyplot as plt # 2D plotting library\n",
    "import numpy as np              # package for scientific computing  \n",
    "from pylab import *\n",
    "\n",
    "from math import *              # package for mathematics (pi, arctan, sqrt, factorial ...)\n",
    "import sympy as sympy             # package for symbolic computation\n",
    "from sympy import *\n"
   ]
  },
  {
   "cell_type": "markdown",
   "metadata": {},
   "source": [
    "Here are two cells that you can copy/paste throughout the Notebook:"
   ]
  },
  {
   "cell_type": "markdown",
   "metadata": {},
   "source": [
    "<div markdown=1 class=\"Answers\"> \n",
    "<i>Your answer.</i>"
   ]
  },
  {
   "cell_type": "markdown",
   "metadata": {},
   "source": [
    "<div markdown=1 class=\"Prop\"> \n",
    "<i>In this cell you can add your own additional questions (math or python).</i>"
   ]
  },
  {
   "cell_type": "markdown",
   "metadata": {},
   "source": [
    "<a id=\"Computing\"></a>\n",
    "# Computing Catalan numbers"
   ]
  },
  {
   "cell_type": "markdown",
   "metadata": {},
   "source": [
    "The <a href=\"https://en.wikipedia.org/wiki/Catalan_number\">Catalan numbers</a> $c_0,c_1,c_2,\\dots$ are defined recursively as follows:\n",
    "\\begin{align*}\n",
    "c_0&=1\\\\\n",
    "c_1&=1\\\\\n",
    "c_n&=\\sum_{k=0}^{n-1} c_kc_{n-1-k}=c_0c_{n-1}+c_1c_{n-2}+\\dots +c_{n-1}c_0 \\qquad (\\text{ for }n\\geq 2). \\tag{$\\star$}\n",
    "\\end{align*}\n",
    "For instance,\n",
    "\\begin{align*}\n",
    "c_2&=c_0c_1+c_1c_0=1\\times 1+1\\times 1=2,\\\\\n",
    "c_3&=c_0c_2+c_1c_1+c_2c_0=1\\times 2+1\\times 1+2\\times 1=5,\\\\\n",
    "\\dots\n",
    "\\end{align*}\n"
   ]
  },
  {
   "cell_type": "markdown",
   "metadata": {},
   "source": [
    "<div markdown=1 class=\"DoIt\"> \n",
    "1. Write a recursive function `CatalanRecursive(n)` which returns the $n$-th Catalan number.\n",
    "2. Write a non recursive function `CatalanNotRecursive(n)` which returns the $n$-th Catalan number.<br>\n",
    "<i>(You must also use recursive formula ($\\star$) but your function `CatalanNotRecursive(n)` should not call itself.)</i>"
   ]
  },
  {
   "cell_type": "code",
   "execution_count": 47,
   "metadata": {},
   "outputs": [
    {
     "name": "stdout",
     "output_type": "stream",
     "text": [
      "42\n",
      "the answer is\n",
      "[1, 1, 2]\n",
      "[1, 1, 2, 5]\n",
      "[1, 1, 2, 5, 14]\n",
      "[1, 1, 2, 5, 14, 42]\n",
      "42\n"
     ]
    }
   ],
   "source": [
    "def CatalanRecursive(n):\n",
    "    if n==0 or n==1:\n",
    "        return 1\n",
    "    if n > 1:\n",
    "        Sum = 0\n",
    "        for k in range(0,n):\n",
    "            Sum += CatalanRecursive(k)*CatalanRecursive(n-1-k)\n",
    "    return Sum\n",
    "print(CatalanRecursive(5))\n",
    " \n",
    "def CatalanNotRecursive(n):\n",
    "    Cn= [1,1]\n",
    "    if n == 0 or n == 1: return 1\n",
    "    for i in range(2,n+1):\n",
    "        ci = 0\n",
    "        for k in range (0,i):\n",
    "            ci += Cn[k]*Cn[i-1-k]\n",
    "        Cn.append(ci)\n",
    "        print (Cn)\n",
    "    return ci\n",
    "\n",
    "print('the answer is')\n",
    "print (CatalanNotRecursive(5))"
   ]
  },
  {
   "cell_type": "markdown",
   "metadata": {},
   "source": [
    "<div markdown=1 class=\"DoIt\"> \n",
    "Compare the execution times of your different functions computing the Catalan numbers (say, for $1\\leq n\\leq 15$).<br>\n",
    "You can import the `time` library:\n",
    "```\n",
    "import time\n",
    "```"
   ]
  },
  {
   "cell_type": "code",
   "execution_count": 51,
   "metadata": {},
   "outputs": [
    {
     "name": "stdout",
     "output_type": "stream",
     "text": [
      "[1, 1, 2]\n",
      "[1, 1, 2]\n",
      "[1, 1, 2, 5]\n",
      "[1, 1, 2]\n",
      "[1, 1, 2, 5]\n",
      "[1, 1, 2, 5, 14]\n",
      "[1, 1, 2]\n",
      "[1, 1, 2, 5]\n",
      "[1, 1, 2, 5, 14]\n",
      "[1, 1, 2, 5, 14, 42]\n",
      "[1, 1, 2]\n",
      "[1, 1, 2, 5]\n",
      "[1, 1, 2, 5, 14]\n",
      "[1, 1, 2, 5, 14, 42]\n",
      "[1, 1, 2, 5, 14, 42, 132]\n",
      "[1, 1, 2]\n",
      "[1, 1, 2, 5]\n",
      "[1, 1, 2, 5, 14]\n",
      "[1, 1, 2, 5, 14, 42]\n",
      "[1, 1, 2, 5, 14, 42, 132]\n",
      "[1, 1, 2, 5, 14, 42, 132, 429]\n",
      "[1, 1, 2]\n",
      "[1, 1, 2, 5]\n",
      "[1, 1, 2, 5, 14]\n",
      "[1, 1, 2, 5, 14, 42]\n",
      "[1, 1, 2, 5, 14, 42, 132]\n",
      "[1, 1, 2, 5, 14, 42, 132, 429]\n",
      "[1, 1, 2, 5, 14, 42, 132, 429, 1430]\n",
      "[1, 1, 2]\n",
      "[1, 1, 2, 5]\n",
      "[1, 1, 2, 5, 14]\n",
      "[1, 1, 2, 5, 14, 42]\n",
      "[1, 1, 2, 5, 14, 42, 132]\n",
      "[1, 1, 2, 5, 14, 42, 132, 429]\n",
      "[1, 1, 2, 5, 14, 42, 132, 429, 1430]\n",
      "[1, 1, 2, 5, 14, 42, 132, 429, 1430, 4862]\n",
      "[1, 1, 2]\n",
      "[1, 1, 2, 5]\n",
      "[1, 1, 2, 5, 14]\n",
      "[1, 1, 2, 5, 14, 42]\n",
      "[1, 1, 2, 5, 14, 42, 132]\n",
      "[1, 1, 2, 5, 14, 42, 132, 429]\n",
      "[1, 1, 2, 5, 14, 42, 132, 429, 1430]\n",
      "[1, 1, 2, 5, 14, 42, 132, 429, 1430, 4862]\n",
      "[1, 1, 2, 5, 14, 42, 132, 429, 1430, 4862, 16796]\n",
      "[1, 1, 2]\n",
      "[1, 1, 2, 5]\n",
      "[1, 1, 2, 5, 14]\n",
      "[1, 1, 2, 5, 14, 42]\n",
      "[1, 1, 2, 5, 14, 42, 132]\n",
      "[1, 1, 2, 5, 14, 42, 132, 429]\n",
      "[1, 1, 2, 5, 14, 42, 132, 429, 1430]\n",
      "[1, 1, 2, 5, 14, 42, 132, 429, 1430, 4862]\n",
      "[1, 1, 2, 5, 14, 42, 132, 429, 1430, 4862, 16796]\n",
      "[1, 1, 2, 5, 14, 42, 132, 429, 1430, 4862, 16796, 58786]\n",
      "[1, 1, 2]\n",
      "[1, 1, 2, 5]\n",
      "[1, 1, 2, 5, 14]\n",
      "[1, 1, 2, 5, 14, 42]\n",
      "[1, 1, 2, 5, 14, 42, 132]\n",
      "[1, 1, 2, 5, 14, 42, 132, 429]\n",
      "[1, 1, 2, 5, 14, 42, 132, 429, 1430]\n",
      "[1, 1, 2, 5, 14, 42, 132, 429, 1430, 4862]\n",
      "[1, 1, 2, 5, 14, 42, 132, 429, 1430, 4862, 16796]\n",
      "[1, 1, 2, 5, 14, 42, 132, 429, 1430, 4862, 16796, 58786]\n",
      "[1, 1, 2, 5, 14, 42, 132, 429, 1430, 4862, 16796, 58786, 208012]\n",
      "[1, 1, 2]\n",
      "[1, 1, 2, 5]\n",
      "[1, 1, 2, 5, 14]\n",
      "[1, 1, 2, 5, 14, 42]\n",
      "[1, 1, 2, 5, 14, 42, 132]\n",
      "[1, 1, 2, 5, 14, 42, 132, 429]\n",
      "[1, 1, 2, 5, 14, 42, 132, 429, 1430]\n",
      "[1, 1, 2, 5, 14, 42, 132, 429, 1430, 4862]\n",
      "[1, 1, 2, 5, 14, 42, 132, 429, 1430, 4862, 16796]\n",
      "[1, 1, 2, 5, 14, 42, 132, 429, 1430, 4862, 16796, 58786]\n",
      "[1, 1, 2, 5, 14, 42, 132, 429, 1430, 4862, 16796, 58786, 208012]\n",
      "[1, 1, 2, 5, 14, 42, 132, 429, 1430, 4862, 16796, 58786, 208012, 742900]\n",
      "[1, 1, 2]\n",
      "[1, 1, 2, 5]\n",
      "[1, 1, 2, 5, 14]\n",
      "[1, 1, 2, 5, 14, 42]\n",
      "[1, 1, 2, 5, 14, 42, 132]\n",
      "[1, 1, 2, 5, 14, 42, 132, 429]\n",
      "[1, 1, 2, 5, 14, 42, 132, 429, 1430]\n",
      "[1, 1, 2, 5, 14, 42, 132, 429, 1430, 4862]\n",
      "[1, 1, 2, 5, 14, 42, 132, 429, 1430, 4862, 16796]\n",
      "[1, 1, 2, 5, 14, 42, 132, 429, 1430, 4862, 16796, 58786]\n",
      "[1, 1, 2, 5, 14, 42, 132, 429, 1430, 4862, 16796, 58786, 208012]\n",
      "[1, 1, 2, 5, 14, 42, 132, 429, 1430, 4862, 16796, 58786, 208012, 742900]\n",
      "[1, 1, 2, 5, 14, 42, 132, 429, 1430, 4862, 16796, 58786, 208012, 742900, 2674440]\n"
     ]
    },
    {
     "ename": "ValueError",
     "evalue": "x and y must have same first dimension, but have shapes (14,) and (1,)",
     "output_type": "error",
     "traceback": [
      "\u001b[0;31m---------------------------------------------------------------------------\u001b[0m",
      "\u001b[0;31mValueError\u001b[0m                                Traceback (most recent call last)",
      "\u001b[0;32m<ipython-input-51-171aa7dfd408>\u001b[0m in \u001b[0;36m<module>\u001b[0;34m()\u001b[0m\n\u001b[1;32m     20\u001b[0m \u001b[0mN\u001b[0m\u001b[0;34m=\u001b[0m\u001b[0mrange\u001b[0m\u001b[0;34m(\u001b[0m\u001b[0ma\u001b[0m\u001b[0;34m,\u001b[0m\u001b[0mb\u001b[0m\u001b[0;34m)\u001b[0m\u001b[0;34m\u001b[0m\u001b[0m\n\u001b[1;32m     21\u001b[0m \u001b[0mplt\u001b[0m\u001b[0;34m.\u001b[0m\u001b[0mplot\u001b[0m\u001b[0;34m(\u001b[0m\u001b[0mN\u001b[0m\u001b[0;34m,\u001b[0m\u001b[0mRunningTimeCatalanRecursive\u001b[0m\u001b[0;34m,\u001b[0m\u001b[0;34m'o-'\u001b[0m\u001b[0;34m)\u001b[0m\u001b[0;34m\u001b[0m\u001b[0m\n\u001b[0;32m---> 22\u001b[0;31m \u001b[0mplt\u001b[0m\u001b[0;34m.\u001b[0m\u001b[0mplot\u001b[0m\u001b[0;34m(\u001b[0m\u001b[0mN\u001b[0m\u001b[0;34m,\u001b[0m\u001b[0mCatalanNotRecursive\u001b[0m\u001b[0;34m,\u001b[0m\u001b[0;34m'o'\u001b[0m\u001b[0;34m,\u001b[0m\u001b[0mlabel\u001b[0m\u001b[0;34m=\u001b[0m\u001b[0;34m'GF'\u001b[0m\u001b[0;34m)\u001b[0m\u001b[0;34m\u001b[0m\u001b[0m\n\u001b[0m\u001b[1;32m     23\u001b[0m \u001b[0mplt\u001b[0m\u001b[0;34m.\u001b[0m\u001b[0mlegend\u001b[0m\u001b[0;34m(\u001b[0m\u001b[0;34m)\u001b[0m\u001b[0;34m\u001b[0m\u001b[0m\n\u001b[1;32m     24\u001b[0m \u001b[0mplt\u001b[0m\u001b[0;34m.\u001b[0m\u001b[0mshow\u001b[0m\u001b[0;34m(\u001b[0m\u001b[0;34m)\u001b[0m\u001b[0;34m\u001b[0m\u001b[0m\n",
      "\u001b[0;32m/opt/anaconda2/lib/python2.7/site-packages/matplotlib/pyplot.pyc\u001b[0m in \u001b[0;36mplot\u001b[0;34m(*args, **kwargs)\u001b[0m\n\u001b[1;32m   3361\u001b[0m                       mplDeprecation)\n\u001b[1;32m   3362\u001b[0m     \u001b[0;32mtry\u001b[0m\u001b[0;34m:\u001b[0m\u001b[0;34m\u001b[0m\u001b[0m\n\u001b[0;32m-> 3363\u001b[0;31m         \u001b[0mret\u001b[0m \u001b[0;34m=\u001b[0m \u001b[0max\u001b[0m\u001b[0;34m.\u001b[0m\u001b[0mplot\u001b[0m\u001b[0;34m(\u001b[0m\u001b[0;34m*\u001b[0m\u001b[0margs\u001b[0m\u001b[0;34m,\u001b[0m \u001b[0;34m**\u001b[0m\u001b[0mkwargs\u001b[0m\u001b[0;34m)\u001b[0m\u001b[0;34m\u001b[0m\u001b[0m\n\u001b[0m\u001b[1;32m   3364\u001b[0m     \u001b[0;32mfinally\u001b[0m\u001b[0;34m:\u001b[0m\u001b[0;34m\u001b[0m\u001b[0m\n\u001b[1;32m   3365\u001b[0m         \u001b[0max\u001b[0m\u001b[0;34m.\u001b[0m\u001b[0m_hold\u001b[0m \u001b[0;34m=\u001b[0m \u001b[0mwashold\u001b[0m\u001b[0;34m\u001b[0m\u001b[0m\n",
      "\u001b[0;32m/opt/anaconda2/lib/python2.7/site-packages/matplotlib/__init__.pyc\u001b[0m in \u001b[0;36minner\u001b[0;34m(ax, *args, **kwargs)\u001b[0m\n\u001b[1;32m   1865\u001b[0m                         \u001b[0;34m\"the Matplotlib list!)\"\u001b[0m \u001b[0;34m%\u001b[0m \u001b[0;34m(\u001b[0m\u001b[0mlabel_namer\u001b[0m\u001b[0;34m,\u001b[0m \u001b[0mfunc\u001b[0m\u001b[0;34m.\u001b[0m\u001b[0m__name__\u001b[0m\u001b[0;34m)\u001b[0m\u001b[0;34m,\u001b[0m\u001b[0;34m\u001b[0m\u001b[0m\n\u001b[1;32m   1866\u001b[0m                         RuntimeWarning, stacklevel=2)\n\u001b[0;32m-> 1867\u001b[0;31m             \u001b[0;32mreturn\u001b[0m \u001b[0mfunc\u001b[0m\u001b[0;34m(\u001b[0m\u001b[0max\u001b[0m\u001b[0;34m,\u001b[0m \u001b[0;34m*\u001b[0m\u001b[0margs\u001b[0m\u001b[0;34m,\u001b[0m \u001b[0;34m**\u001b[0m\u001b[0mkwargs\u001b[0m\u001b[0;34m)\u001b[0m\u001b[0;34m\u001b[0m\u001b[0m\n\u001b[0m\u001b[1;32m   1868\u001b[0m \u001b[0;34m\u001b[0m\u001b[0m\n\u001b[1;32m   1869\u001b[0m         inner.__doc__ = _add_data_doc(inner.__doc__,\n",
      "\u001b[0;32m/opt/anaconda2/lib/python2.7/site-packages/matplotlib/axes/_axes.pyc\u001b[0m in \u001b[0;36mplot\u001b[0;34m(self, *args, **kwargs)\u001b[0m\n\u001b[1;32m   1526\u001b[0m         \u001b[0mkwargs\u001b[0m \u001b[0;34m=\u001b[0m \u001b[0mcbook\u001b[0m\u001b[0;34m.\u001b[0m\u001b[0mnormalize_kwargs\u001b[0m\u001b[0;34m(\u001b[0m\u001b[0mkwargs\u001b[0m\u001b[0;34m,\u001b[0m \u001b[0m_alias_map\u001b[0m\u001b[0;34m)\u001b[0m\u001b[0;34m\u001b[0m\u001b[0m\n\u001b[1;32m   1527\u001b[0m \u001b[0;34m\u001b[0m\u001b[0m\n\u001b[0;32m-> 1528\u001b[0;31m         \u001b[0;32mfor\u001b[0m \u001b[0mline\u001b[0m \u001b[0;32min\u001b[0m \u001b[0mself\u001b[0m\u001b[0;34m.\u001b[0m\u001b[0m_get_lines\u001b[0m\u001b[0;34m(\u001b[0m\u001b[0;34m*\u001b[0m\u001b[0margs\u001b[0m\u001b[0;34m,\u001b[0m \u001b[0;34m**\u001b[0m\u001b[0mkwargs\u001b[0m\u001b[0;34m)\u001b[0m\u001b[0;34m:\u001b[0m\u001b[0;34m\u001b[0m\u001b[0m\n\u001b[0m\u001b[1;32m   1529\u001b[0m             \u001b[0mself\u001b[0m\u001b[0;34m.\u001b[0m\u001b[0madd_line\u001b[0m\u001b[0;34m(\u001b[0m\u001b[0mline\u001b[0m\u001b[0;34m)\u001b[0m\u001b[0;34m\u001b[0m\u001b[0m\n\u001b[1;32m   1530\u001b[0m             \u001b[0mlines\u001b[0m\u001b[0;34m.\u001b[0m\u001b[0mappend\u001b[0m\u001b[0;34m(\u001b[0m\u001b[0mline\u001b[0m\u001b[0;34m)\u001b[0m\u001b[0;34m\u001b[0m\u001b[0m\n",
      "\u001b[0;32m/opt/anaconda2/lib/python2.7/site-packages/matplotlib/axes/_base.pyc\u001b[0m in \u001b[0;36m_grab_next_args\u001b[0;34m(self, *args, **kwargs)\u001b[0m\n\u001b[1;32m    404\u001b[0m                 \u001b[0mthis\u001b[0m \u001b[0;34m+=\u001b[0m \u001b[0margs\u001b[0m\u001b[0;34m[\u001b[0m\u001b[0;36m0\u001b[0m\u001b[0;34m]\u001b[0m\u001b[0;34m,\u001b[0m\u001b[0;34m\u001b[0m\u001b[0m\n\u001b[1;32m    405\u001b[0m                 \u001b[0margs\u001b[0m \u001b[0;34m=\u001b[0m \u001b[0margs\u001b[0m\u001b[0;34m[\u001b[0m\u001b[0;36m1\u001b[0m\u001b[0;34m:\u001b[0m\u001b[0;34m]\u001b[0m\u001b[0;34m\u001b[0m\u001b[0m\n\u001b[0;32m--> 406\u001b[0;31m             \u001b[0;32mfor\u001b[0m \u001b[0mseg\u001b[0m \u001b[0;32min\u001b[0m \u001b[0mself\u001b[0m\u001b[0;34m.\u001b[0m\u001b[0m_plot_args\u001b[0m\u001b[0;34m(\u001b[0m\u001b[0mthis\u001b[0m\u001b[0;34m,\u001b[0m \u001b[0mkwargs\u001b[0m\u001b[0;34m)\u001b[0m\u001b[0;34m:\u001b[0m\u001b[0;34m\u001b[0m\u001b[0m\n\u001b[0m\u001b[1;32m    407\u001b[0m                 \u001b[0;32myield\u001b[0m \u001b[0mseg\u001b[0m\u001b[0;34m\u001b[0m\u001b[0m\n\u001b[1;32m    408\u001b[0m \u001b[0;34m\u001b[0m\u001b[0m\n",
      "\u001b[0;32m/opt/anaconda2/lib/python2.7/site-packages/matplotlib/axes/_base.pyc\u001b[0m in \u001b[0;36m_plot_args\u001b[0;34m(self, tup, kwargs)\u001b[0m\n\u001b[1;32m    381\u001b[0m             \u001b[0mx\u001b[0m\u001b[0;34m,\u001b[0m \u001b[0my\u001b[0m \u001b[0;34m=\u001b[0m \u001b[0mindex_of\u001b[0m\u001b[0;34m(\u001b[0m\u001b[0mtup\u001b[0m\u001b[0;34m[\u001b[0m\u001b[0;34m-\u001b[0m\u001b[0;36m1\u001b[0m\u001b[0;34m]\u001b[0m\u001b[0;34m)\u001b[0m\u001b[0;34m\u001b[0m\u001b[0m\n\u001b[1;32m    382\u001b[0m \u001b[0;34m\u001b[0m\u001b[0m\n\u001b[0;32m--> 383\u001b[0;31m         \u001b[0mx\u001b[0m\u001b[0;34m,\u001b[0m \u001b[0my\u001b[0m \u001b[0;34m=\u001b[0m \u001b[0mself\u001b[0m\u001b[0;34m.\u001b[0m\u001b[0m_xy_from_xy\u001b[0m\u001b[0;34m(\u001b[0m\u001b[0mx\u001b[0m\u001b[0;34m,\u001b[0m \u001b[0my\u001b[0m\u001b[0;34m)\u001b[0m\u001b[0;34m\u001b[0m\u001b[0m\n\u001b[0m\u001b[1;32m    384\u001b[0m \u001b[0;34m\u001b[0m\u001b[0m\n\u001b[1;32m    385\u001b[0m         \u001b[0;32mif\u001b[0m \u001b[0mself\u001b[0m\u001b[0;34m.\u001b[0m\u001b[0mcommand\u001b[0m \u001b[0;34m==\u001b[0m \u001b[0;34m'plot'\u001b[0m\u001b[0;34m:\u001b[0m\u001b[0;34m\u001b[0m\u001b[0m\n",
      "\u001b[0;32m/opt/anaconda2/lib/python2.7/site-packages/matplotlib/axes/_base.pyc\u001b[0m in \u001b[0;36m_xy_from_xy\u001b[0;34m(self, x, y)\u001b[0m\n\u001b[1;32m    240\u001b[0m         \u001b[0;32mif\u001b[0m \u001b[0mx\u001b[0m\u001b[0;34m.\u001b[0m\u001b[0mshape\u001b[0m\u001b[0;34m[\u001b[0m\u001b[0;36m0\u001b[0m\u001b[0;34m]\u001b[0m \u001b[0;34m!=\u001b[0m \u001b[0my\u001b[0m\u001b[0;34m.\u001b[0m\u001b[0mshape\u001b[0m\u001b[0;34m[\u001b[0m\u001b[0;36m0\u001b[0m\u001b[0;34m]\u001b[0m\u001b[0;34m:\u001b[0m\u001b[0;34m\u001b[0m\u001b[0m\n\u001b[1;32m    241\u001b[0m             raise ValueError(\"x and y must have same first dimension, but \"\n\u001b[0;32m--> 242\u001b[0;31m                              \"have shapes {} and {}\".format(x.shape, y.shape))\n\u001b[0m\u001b[1;32m    243\u001b[0m         \u001b[0;32mif\u001b[0m \u001b[0mx\u001b[0m\u001b[0;34m.\u001b[0m\u001b[0mndim\u001b[0m \u001b[0;34m>\u001b[0m \u001b[0;36m2\u001b[0m \u001b[0;32mor\u001b[0m \u001b[0my\u001b[0m\u001b[0;34m.\u001b[0m\u001b[0mndim\u001b[0m \u001b[0;34m>\u001b[0m \u001b[0;36m2\u001b[0m\u001b[0;34m:\u001b[0m\u001b[0;34m\u001b[0m\u001b[0m\n\u001b[1;32m    244\u001b[0m             raise ValueError(\"x and y can be no greater than 2-D, but have \"\n",
      "\u001b[0;31mValueError\u001b[0m: x and y must have same first dimension, but have shapes (14,) and (1,)"
     ]
    },
    {
     "data": {
      "image/png": "[encoded data removed]",
      "text/plain": [
       "<Figure size 432x288 with 1 Axes>"
      ]
     },
     "metadata": {
      "needs_background": "light"
     },
     "output_type": "display_data"
    }
   ],
   "source": [
    "import time\n",
    "\n",
    "RunningTimeCatalanRecursive=[]\n",
    "RunningTimeCatalanNotRecursive=[]\n",
    "a=1\n",
    "b=15\n",
    "\n",
    "for n in range(a,b):\n",
    "    time1=time.clock()\n",
    "    CatalanRecursive(n)\n",
    "    time2=time.clock()\n",
    "    RunningTimeCatalanRecursive.append(time2-time1)\n",
    "    \n",
    "for n in range(a,b):\n",
    "    time1=time.clock()\n",
    "    CatalanNotRecursive(n)\n",
    "    time2=time.clock()\n",
    "    RunningTimeCatalanNotRecursive.append(time2-time1)\n",
    "\n",
    "N=range(a,b)    \n",
    "plt.plot(N,RunningTimeCatalanRecursive,'o-',label='recursive')\n",
    "plt.plot(N,CatalanNotRecursive,'o',label='GF')\n",
    "plt.legend()\n",
    "plt.show()"
   ]
  },
  {
   "cell_type": "markdown",
   "metadata": {},
   "source": [
    "<div markdown=1 class=\"Rmk\"><a id=\"EquationE\"></a> \n",
    "It can be proved that for every $n$\n",
    "$$\n",
    "c_{n}=\\frac{1}{n+1}\\binom{2n}{n}. \\tag{E}\n",
    "$$\n",
    "You may try to use this formula to write another non-recursive function which returns $c_n$. Yet the formula (E) will not be useful for the rest of the project."
   ]
  },
  {
   "cell_type": "code",
   "execution_count": 80,
   "metadata": {},
   "outputs": [
    {
     "name": "stdout",
     "output_type": "stream",
     "text": [
      "20\n",
      "42\n"
     ]
    }
   ],
   "source": [
    "import math\n",
    "def nCr(n,r):\n",
    "    f = math.factorial\n",
    "    return f(n) / f(r) / f(n-r)\n",
    "print(nCr(6,3))\n",
    "\n",
    "def E(n):\n",
    "    if n==0: return 1\n",
    "    else:\n",
    "        return nCr(2*n,n)/((n+1))\n",
    "    #Cn= 1/(n+1)*(math.factorial((2*n)))/(math.factorial((2*n-n))*math.factorial((n)))\n",
    "\n",
    "print(E(5))"
   ]
  },
  {
   "cell_type": "markdown",
   "metadata": {},
   "source": [
    "<a id=\"CatalanGF\"></a>\n",
    "# Catalan and generating functions\n",
    "\n",
    "Let \n",
    "$$\n",
    "\\mathcal{C}(x)=\\sum_{n\\geq 0}c_n x^n=1+x+2x^2+5x^3+\\dots\n",
    "$$\n",
    "denote the generating function of the Catalan numbers."
   ]
  },
  {
   "cell_type": "markdown",
   "metadata": {},
   "source": [
    "<div markdown=1 class=\"DoIt\"> \n",
    "\n",
    "1. **(Theory)** Use the recursive formula [($\\star$)](#Computing) to prove that $\\mathcal{C}(x)$ is a solution of the following equation of degree two: <br>\n",
    "$$\n",
    "\\mathcal{C}(x)=1+x\\mathcal{C}(x)^2. \n",
    "$$\n",
    "<br>\n",
    "(In this equation, $\\mathcal{C}(x)$ is the unknown and $x$ is a parameter.)\n",
    "2. Use SymPy to deduce a formula for $\\mathcal{C}(x)$. What is the radius of convergence?"
   ]
  },
  {
   "cell_type": "code",
   "execution_count": null,
   "metadata": {
    "collapsed": true
   },
   "outputs": [],
   "source": []
  },
  {
   "cell_type": "markdown",
   "metadata": {},
   "source": [
    "<div markdown=1 class=\"DoIt\"> You can deduce another programm which computes the Catalan numbers using $\\mathcal{C}(x)$, and compare the execution times with the functions of the first part of the Project."
   ]
  },
  {
   "cell_type": "markdown",
   "metadata": {},
   "source": [
    "### A variant: Motzkin numbers\n",
    "\n",
    "The <i>Motzkin numbers</i> $m_0,m_1,m_2,\\dots$ are similar to Catalan numbers and defined by $m_0=m_1=1$ and for every $n\\geq 2$\n",
    "$$\n",
    "m_n=m_{n-1}+\\sum_{k=0}^{n-2}m_km_{n-2-k}.\n",
    "$$"
   ]
  },
  {
   "cell_type": "markdown",
   "metadata": {},
   "source": [
    "<div markdown=1 class=\"DoIt\"> **(Theory + SymPy)** \n",
    "1. Find the generating function $\\mathcal{M}(x)=\\sum_{n\\geq 0}m_nx^n$. \n",
    "2. Compare the radius of convergence of $\\mathcal{C}$ and $\\mathcal{M}$. Which sequence is growing fastest between $(c_n)$ and $(m_n)$?"
   ]
  },
  {
   "cell_type": "markdown",
   "metadata": {},
   "source": [
    "# Dealing with large Catalan numbers"
   ]
  },
  {
   "cell_type": "markdown",
   "metadata": {},
   "source": [
    "<a id=\"Bostan\"></a>\n",
    "## Catalan and modulos: the Bostan Conjecture"
   ]
  },
  {
   "cell_type": "markdown",
   "metadata": {},
   "source": [
    "<div markdown=1 class=\"DoIt\"> \n",
    "Alin Bostan (computer scientist at INRIA and Ecole Polytechnique) conjectured a few years ago <a href=\"http://www.mat.univie.ac.at/%7Eslc/wpapers/s80vortrag/bostan.pdf\">(see this link p.26)</a> that in basis 10 the last digit of $c_n$ is never $3$. So far this is still an open problem.<br>\n",
    "1. Check the conjecture for $1\\leq n\\leq 100$. The output should look like\n",
    "```python\n",
    "Catalan 1 mod 10 is 1: the Conjecture is True\n",
    "Catalan 2 mod 10 is 2: the Conjecture is True\n",
    "Catalan 3 mod 10 is 5: the Conjecture is True\n",
    "Catalan 4 mod 10 is 4: the Conjecture is True\n",
    "...\n",
    "```\n",
    "2. How to check the conjecture for very large values? Try for example with $7000\\leq n\\leq 7100$.<br>\n",
    "<i>(Hint: Be careful how you compute $c_n \\mod 10$, since $c_n$ grows very fast!)</i>\n"
   ]
  },
  {
   "cell_type": "markdown",
   "metadata": {},
   "source": [
    "<a id=\"Asymptotics\"></a>\n",
    "## The <i>length</i> of Catalan numbers"
   ]
  },
  {
   "cell_type": "markdown",
   "metadata": {},
   "source": [
    "It can be proved (this is beyond the level of Bachelor 2, a possible reference is p.384 in Ph.Flajolet, R.Sedgewick, <i>Analytic Combinatorics</i>) that for every $n$ we have\n",
    "$$\n",
    "\\frac{4^n}{\\sqrt{\\pi n^3}}\\big(1-\\frac{9}{8n}\\big) \\leq c_n \\leq \\frac{4^n}{\\sqrt{\\pi n^3}}, \\tag{App}\n",
    "$$\n",
    "which yields very good approximations when $n$ is large.\n",
    "We will use this approximation to estimate the <i>length</i> (<i>i.e.</i> the number of digits) of $c_n$ when $n$  is a power of ten."
   ]
  },
  {
   "cell_type": "markdown",
   "metadata": {},
   "source": [
    "<div markdown=1 class=\"DoIt\"> \n",
    "Consider the following table which records the <i>length</i> of $c_{10}$, $c_{100}$, $c_{1000}$,...\n",
    "\n",
    "\n",
    "<font size=\"+3\">\n",
    "<table>\n",
    "            <tr>\n",
    "                <td width=\"100\"> $c_{10^n}$</td>\n",
    "                <td > Number of digits of $c_{10^n}$</td>\n",
    "            </tr>\n",
    "            <tr>\n",
    "                <td width=\"100\"> $c_{10}$</td>\n",
    "                <td > 5</td>\n",
    "            </tr>\n",
    "            <tr>\n",
    "                <td width=\"100\"> $c_{100}$</td>\n",
    "                <td > 57</td>\n",
    "            </tr>\n",
    "            <tr>\n",
    "                <td width=\"100\"> $c_{10^3}$</td>\n",
    "                <td > 598</td>\n",
    "            </tr>\n",
    "            <tr>\n",
    "                <td width=\"100\"> $c_{10^4}$</td>\n",
    "                <td > 6015</td>\n",
    "            </tr>\n",
    "            <tr>\n",
    "                <td width=\"100\"> $c_{10^5}$</td>\n",
    "                <td > 60199</td>\n",
    "            </tr>\n",
    "            <tr>\n",
    "                <td width=\"100\"> $c_{10^6}$</td>\n",
    "                <td > 602051</td>\n",
    "            </tr>\n",
    "</table>\n",
    "</font>\n",
    "\n",
    "(For instance, $c_{10}=16796$ which has $5$ digits.)\n",
    "\n",
    "The goal is to complete the table. (An interesting challenge could be to break the record of <a href=\"https://oeis.org/A114466\">this sequence in the Online Encyclopedia of Integer Sequences</a>!)<br>\n",
    "For that purpose you have to\n",
    "1. **(Theory)** Find somewhere (or reprove) the formula which gives the number of digits of a given integer.\n",
    "2. Use this formula and python to complete the table. **Warning:** Do not try to explicitly compute $Cat_{10^n}$ since they grow too fast. Instead you need to figure out how to use equation (App) above."
   ]
  },
  {
   "cell_type": "markdown",
   "metadata": {},
   "source": [
    "<div markdown=1 class=\"DoIt\">  **(Theory)** For larger and larger $n$'s the right column always begins with the same digits ($60205...$). Can you explain this pattern?\n",
    "\n",
    "(<i>Hint: Again, you should use equation </i>(App)<i>.</i>)"
   ]
  },
  {
   "cell_type": "markdown",
   "metadata": {},
   "source": [
    "<a id=\"Combinatorial\"></a>\n",
    "# Three combinatorial interpretations of $c_n$"
   ]
  },
  {
   "cell_type": "markdown",
   "metadata": {},
   "source": [
    "<a id=\"Triangle\"></a>\n",
    "## Paths on a triangle"
   ]
  },
  {
   "cell_type": "markdown",
   "metadata": {},
   "source": [
    "Let $\\mathcal{T}\\subset \\mathbb{N}^2$ denote the infinite \"triangle\"\n",
    "$$\n",
    "\\mathcal{T}=\\big\\{(k,n),\\quad 0\\leq k\\leq n \\big\\}\n",
    "$$\n",
    "(see the figure below).\n",
    "\n",
    "For $(k,n) \\in \\mathcal{T}$ we denote by $P_{k,n}$ the number of paths such that:\n",
    "* the path starts at $(0,0)$ ends at $(n,k)$ and entirely lies inside $\\mathcal{T}$\n",
    "* the paths only takes unit steps in the North and East directions.\n",
    "\n",
    "For example this figure shows that $P_{2,3}=5$:\n",
    "\n",
    "<img src=\"figures/Escalier.jpg\" width='500px' >\n",
    "    "
   ]
  },
  {
   "cell_type": "markdown",
   "metadata": {},
   "source": [
    "<div markdown=1 class=\"DoIt\"> \n",
    "1. Write a function `Paths(K,N)` which returns a table (or a matrix) of all the values of $P_{k,n}$ for $k\\leq K, n\\leq N$.<br>\n",
    "<i>(Hint: Think recursive!)</i>\n",
    "2. Do you see on your table the connection with the Catalan numbers? **(Difficult)** Can you prove it?"
   ]
  },
  {
   "cell_type": "markdown",
   "metadata": {},
   "source": [
    "<a id=\"Parentheses\"></a>\n",
    "##  Well-formed parentheses expressions\n",
    "\n",
    "It can be shown that $c_n$ counts the number of expressions containing $n$ pairs of parentheses which are <i>correctly matched</i>. For the first values we obtain\n",
    "$$\n",
    "\\begin{array}{r c c c c c}\n",
    "n=1: & ()   &       &     &     &      \\\\\n",
    "n=2: & (()) & ()()  &     &     &      \\\\\n",
    "n=3: & ((())) & (())()  &  ()(())    &  ()()()   &  (()())    \\\\\n",
    "\\end{array}\n",
    "$$"
   ]
  },
  {
   "cell_type": "markdown",
   "metadata": {},
   "source": [
    "<div markdown=1 class=\"DoIt\"> \n",
    "1. Write a recursive function `Parentheses(n)` which returns the list of all well-formed parentheses expressions with $n$ pairs of parentheses.\n",
    "2. Check for different values that the list has length $c_n$."
   ]
  },
  {
   "cell_type": "markdown",
   "metadata": {},
   "source": [
    "<div markdown=1 class=\"DoIt\"> **(Theory)** Prove that the number of well-formed parentheses expressions is counted by Catalan numbers."
   ]
  },
  {
   "cell_type": "markdown",
   "metadata": {},
   "source": [
    "<a id=\"Trees\"></a>\n",
    "## Binary trees\n",
    "\n",
    "A <i>binary tree</i> is a tree in which every internal node (in grey in above pictures) has exactly two children. Leaves (in green) have no children. The **size** of a binary tree is its number of internal nodes. There is one binary tree of size $1$, and two binary trees of size $2$, five binary trees of size $3$:\n",
    "<br>\n",
    "<img src=\"./figures/BinaryTree.jpg\" style=\"width: 700px;\"/>\n",
    "\n",
    "Let $t_n$ be the number of binary trees of size $n$, by convention we put $t_0=1$ (this corresponds to a leaf without any internal node)."
   ]
  },
  {
   "cell_type": "markdown",
   "metadata": {},
   "source": [
    "<div markdown=1 class=\"DoIt\"> \n",
    "**(Theory)** Prove that $t_n$ is the $n$-th Catalan number."
   ]
  }
 ],
 "metadata": {
  "kernelspec": {
   "display_name": "Python 2",
   "language": "python",
   "name": "python2"
  },
  "language_info": {
   "codemirror_mode": {
    "name": "ipython",
    "version": 2
   },
   "file_extension": ".py",
   "mimetype": "text/x-python",
   "name": "python",
   "nbconvert_exporter": "python",
   "pygments_lexer": "ipython2",
   "version": "2.7.16"
  }
 },
 "nbformat": 4,
 "nbformat_minor": 2
}
